{
  "nbformat": 4,
  "nbformat_minor": 0,
  "metadata": {
    "colab": {
      "provenance": [],
      "authorship_tag": "ABX9TyOW4zWib+qoHeF6KoMe2l67",
      "include_colab_link": true
    },
    "kernelspec": {
      "name": "python3",
      "display_name": "Python 3"
    },
    "language_info": {
      "name": "python"
    }
  },
  "cells": [
    {
      "cell_type": "markdown",
      "metadata": {
        "id": "view-in-github",
        "colab_type": "text"
      },
      "source": [
        "<a href=\"https://colab.research.google.com/github/ErosVillegass/Programmation-101/blob/main/Working_with_List%2C_dictionaries_and_Tuples.ipynb\" target=\"_parent\"><img src=\"https://colab.research.google.com/assets/colab-badge.svg\" alt=\"Open In Colab\"/></a>"
      ]
    },
    {
      "cell_type": "code",
      "execution_count": null,
      "metadata": {
        "colab": {
          "base_uri": "https://localhost:8080/"
        },
        "id": "3tCG9tQTG82e",
        "outputId": "9bf78aaf-6d80-41a0-9324-0d2630339e47"
      },
      "outputs": [
        {
          "output_type": "stream",
          "name": "stdout",
          "text": [
            "['charles', 'martina', 'michael', 'florence', 'eli', 'Magdalena']\n",
            "['charles', 'martina', 'michael', 'florence', 'eli', 'Quaker']\n"
          ]
        }
      ],
      "source": [
        "# Copy a list with other reference point.\n",
        "players = ['charles', 'martina', 'michael', 'florence', 'eli']\n",
        "players_one = players[:]\n",
        "players_one.append(\"Quaker\")\n",
        "players.append(\"Magdalena\")\n",
        "print(players)\n",
        "print(players_one)\n",
        "\n",
        "\n",
        "\n",
        "\n"
      ]
    },
    {
      "cell_type": "markdown",
      "source": [
        "4-10. Slices: Using one of the programs you wrote in this chapter, add several\n",
        "lines to the end of the program that do the following:\n",
        "• Print the message The first three items in the list are:. Then use a slice to\n",
        "print the first three items from that program’s list.\n",
        "• Print the message Three items from the middle of the list are:. Then use a\n",
        "slice to print three items from the middle of the list.\n",
        "• Print the message The last three items in the list are:. Then use a slice to\n",
        "print the last three items in the list."
      ],
      "metadata": {
        "id": "eFkM59huH6c2"
      }
    },
    {
      "cell_type": "code",
      "source": [
        "players = ['charles', 'martina', 'michael', 'florence', 'eli']\n",
        "\n",
        "for x in range(1,10):\n",
        "  players.append(f\"Casa {x} \")\n",
        "\n",
        "\n",
        "# Print the three first items.\n",
        "three_players = players[:3]\n",
        "for x in three_players:\n",
        "  print(x)\n",
        "\n",
        "# Print three items from the midle of the list.\n",
        "print(len(players)/2)\n",
        "print(players)\n",
        "for x in players[round(len(players)/2)-1:round(len(players)/2)+2] :\n",
        "  print(x)\n",
        "\n",
        "# Print three items from the midle of the list.\n",
        "players_last_three = players[-3:]\n",
        "print(players_last_three)\n",
        "for x in players_last_three:\n",
        "  print(x)\n"
      ],
      "metadata": {
        "colab": {
          "base_uri": "https://localhost:8080/"
        },
        "id": "6Yet7c8OH7E7",
        "outputId": "d85411e6-0664-4405-c31f-7bd73d068ef9"
      },
      "execution_count": null,
      "outputs": [
        {
          "output_type": "stream",
          "name": "stdout",
          "text": [
            "charles\n",
            "martina\n",
            "michael\n",
            "7.0\n",
            "['charles', 'martina', 'michael', 'florence', 'eli', 'Casa 1 ', 'Casa 2 ', 'Casa 3 ', 'Casa 4 ', 'Casa 5 ', 'Casa 6 ', 'Casa 7 ', 'Casa 8 ', 'Casa 9 ']\n",
            "Casa 2 \n",
            "Casa 3 \n",
            "Casa 4 \n",
            "['Casa 7 ', 'Casa 8 ', 'Casa 9 ']\n",
            "Casa 7 \n",
            "Casa 8 \n",
            "Casa 9 \n"
          ]
        }
      ]
    },
    {
      "cell_type": "markdown",
      "source": [
        "List : Work Well for storing collection of items that can change throughtout the life of a program.\n",
        "Tuples : Work well for values that dont't need to change, are immutables.\n",
        "\n"
      ],
      "metadata": {
        "id": "9eGnEA2sKuXr"
      }
    },
    {
      "cell_type": "code",
      "source": [
        "dimension = (10,20)\n",
        "print(dimension[0])\n",
        "print(dimension[1])\n",
        "# Is recommended to converd a tuple into a list to loop throughout.\n",
        "for x in list(dimension):\n",
        "  print(x)\n",
        "\n",
        "# Loop through all values in a tuple .\n",
        "for x in dimension:\n",
        "  print(x,\"Second One\")\n",
        "\n",
        "# This is a tuple of one element.\n",
        "heihgt = (1,)\n",
        "print(heihgt[0])\n",
        "\n",
        "\n",
        "\n",
        "# Redifinig a tuple\n",
        "\n",
        "size = (100, 20)\n",
        "print(\"Original dimensions: \")\n",
        "for x in size:\n",
        "  print(x)\n",
        "\n",
        "size = (120,10)\n",
        "print(\"\\nModified Dimensions:\")\n",
        "for x in size:\n",
        "  print(x)\n",
        "\n",
        "\n"
      ],
      "metadata": {
        "colab": {
          "base_uri": "https://localhost:8080/"
        },
        "id": "ykvjn0dhK_rV",
        "outputId": "5f98d9be-441e-4014-fe6a-255c3a28b57f"
      },
      "execution_count": null,
      "outputs": [
        {
          "output_type": "stream",
          "name": "stdout",
          "text": [
            "10\n",
            "20\n",
            "10\n",
            "20\n",
            "10 Second One\n",
            "20 Second One\n",
            "1\n",
            "Original dimensions: \n",
            "100\n",
            "20\n",
            "\n",
            "Modified Dimensions:\n",
            "120\n",
            "10\n"
          ]
        }
      ]
    },
    {
      "cell_type": "markdown",
      "source": [
        "T RY IT YOURSEL F\n",
        "4-13. Buffet: A buffet-style restaurant offers only five basic foods. Think of five\n",
        "simple foods, and store them in a tuple.\n",
        "• Use a for loop to print each food the restaurant offers.\n",
        "• Try to modify one of the items, and make sure that Python rejects the\n",
        "change.\n",
        "• The restaurant changes its menu, replacing two of the items with different\n",
        "foods. Add a line that rewrites the tuple, and then use a for loop to print\n",
        "each of the items on the revised menu."
      ],
      "metadata": {
        "id": "4qLnA3ERM6yJ"
      }
    },
    {
      "cell_type": "code",
      "source": [
        "food_menu = (\"Mondonguito\" , \"Pure de patatas\", \"Locro con atún\",\n",
        "             \"Ceviche de caracol\" , \"Arroz con cocodrilo\")\n",
        "for menu in food_menu:\n",
        "  print(menu)\n",
        "\n",
        "food_menu = (\"Saltado\" , \"Tallarin Rojo\", \"Locro con atún\",\n",
        "             \"Ceviche de caracol\" , \"Arroz con cocodrilo\")\n",
        "\n",
        "for menu in food_menu:\n",
        "  print(menu)\n"
      ],
      "metadata": {
        "colab": {
          "base_uri": "https://localhost:8080/"
        },
        "id": "-_tsM-mqM7pM",
        "outputId": "32e99bdf-87ff-469a-eacd-bc6cd176e7a7"
      },
      "execution_count": null,
      "outputs": [
        {
          "output_type": "stream",
          "name": "stdout",
          "text": [
            "Mondonguito\n",
            "Pure de patatas\n",
            "Locro con atún\n",
            "Ceviche de caracol\n",
            "Arroz con cocodrilo\n",
            "Saltado\n",
            "Tallarin Rojo\n",
            "Locro con atún\n",
            "Ceviche de caracol\n",
            "Arroz con cocodrilo\n"
          ]
        }
      ]
    },
    {
      "cell_type": "code",
      "source": [
        "#Looping wiht listh:\n",
        "user_0 = {\n",
        "'username': 'efermi',\n",
        "'first': 'enrico',\n",
        "'last': 'fermi',\n",
        "}\n",
        "\n",
        "elements_= list(user_0.items())\n",
        "print(elements_)\n",
        "\n",
        "for keys,values in user_0.items():\n",
        "  print(f\"\\nKeys: {keys} : \\nvalues : {values=}\")\n"
      ],
      "metadata": {
        "id": "437gLHIERMeq",
        "outputId": "8b4bdc8c-b6b7-4342-b4cd-c1bfae2996da",
        "colab": {
          "base_uri": "https://localhost:8080/"
        }
      },
      "execution_count": 10,
      "outputs": [
        {
          "output_type": "stream",
          "name": "stdout",
          "text": [
            "[('username', 'efermi'), ('first', 'enrico'), ('last', 'fermi')]\n",
            "('username', 'efermi')\n",
            "\n",
            "Keys: username : \n",
            "values : values='efermi'\n",
            "\n",
            "Keys: first : \n",
            "values : values='enrico'\n",
            "\n",
            "Keys: last : \n",
            "values : values='fermi'\n"
          ]
        }
      ]
    },
    {
      "cell_type": "code",
      "source": [
        "favorite_languages = {\n",
        "'jen': 'python',\n",
        "'sarah': 'c',\n",
        "'edward': 'rust',\n",
        "'phil': 'python',\n",
        "}\n",
        "\n",
        "names_= favorite_languages.keys()\n",
        "languages_= favorite_languages.values()\n",
        "print(names_)\n",
        "print(languages_)\n",
        "\n",
        "for names in names_ :\n",
        "  print(names.title(),\"With Title\")\n",
        "  print(names)\n",
        "\n",
        "\n",
        "for names in favorite_languages:\n",
        "  print(names.title(), \"New\")\n"
      ],
      "metadata": {
        "id": "cMoEQIIARLlC",
        "outputId": "e49bd0af-42bb-4290-c97b-4aa766bd5883",
        "colab": {
          "base_uri": "https://localhost:8080/"
        }
      },
      "execution_count": 19,
      "outputs": [
        {
          "output_type": "stream",
          "name": "stdout",
          "text": [
            "dict_keys(['jen', 'sarah', 'edward', 'phil'])\n",
            "dict_values(['python', 'c', 'rust', 'python'])\n",
            "Jen With Title\n",
            "jen\n",
            "Sarah With Title\n",
            "sarah\n",
            "Edward With Title\n",
            "edward\n",
            "Phil With Title\n",
            "phil\n",
            "Jen New\n",
            "Sarah New\n",
            "Edward New\n",
            "Phil New\n"
          ]
        }
      ]
    },
    {
      "cell_type": "markdown",
      "source": [
        "![image.png](data:image/png;base64,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)"
      ],
      "metadata": {
        "id": "Juh5IHdplqkn"
      }
    },
    {
      "cell_type": "code",
      "source": [
        "favorite_languages = {\n",
        "'jen': 'python',\n",
        "'sarah': 'c',\n",
        "'edward': 'rust',\n",
        "'phil': 'python',\n",
        "}\n",
        "friends = ['phil', 'sarah']\n",
        "\n",
        "for name in favorite_languages:\n",
        "  print(f\"Hi {name.title()}.\")\n",
        "\n",
        "  if name in friends :\n",
        "    languages_program = favorite_languages[name]\n",
        "    print(f\"\\t{name.title()}, I see you love {languages_program}\")\n",
        "\n",
        "# I can use key to loop for a specific person in the dictionary.\n",
        "if \"eros\" not in favorite_languages.keys():\n",
        "  print (f\"Please Eros take our pool\")\n",
        "\n",
        "\n",
        "\n",
        "\n"
      ],
      "metadata": {
        "id": "BnV5wj6jlH-d",
        "outputId": "1fbdb62f-a14f-47df-b06d-a074bcbf3ac4",
        "colab": {
          "base_uri": "https://localhost:8080/"
        }
      },
      "execution_count": 26,
      "outputs": [
        {
          "output_type": "stream",
          "name": "stdout",
          "text": [
            "Hi Jen.\n",
            "Hi Sarah.\n",
            "\tSarah, I see you love c\n",
            "Hi Edward.\n",
            "Hi Phil.\n",
            "\tPhil, I see you love python\n",
            "Please Eros take our pool\n"
          ]
        }
      ]
    },
    {
      "cell_type": "markdown",
      "source": [
        "**Looping Through a Dictionary’s Keys in a Particular Order**\n",
        "Looping through a dictionary returns the items in the same order they\n",
        "were inserted. Sometimes, though, you’ll want to loop through a dictionary\n",
        "in a different order."
      ],
      "metadata": {
        "id": "qi8VSsb-oVmv"
      }
    },
    {
      "cell_type": "code",
      "source": [
        "for names in sorted(favorite_languages.keys()):\n",
        "  print(f\"{names.title()}, thank you for taking the poll.\")"
      ],
      "metadata": {
        "id": "zQMK-wm5oVZg",
        "outputId": "425b54f2-cee4-4f3a-ee57-a5ba5cf2c698",
        "colab": {
          "base_uri": "https://localhost:8080/"
        }
      },
      "execution_count": 28,
      "outputs": [
        {
          "output_type": "stream",
          "name": "stdout",
          "text": [
            "Edward, thank you for taking the poll.\n",
            "Jen, thank you for taking the poll.\n",
            "Phil, thank you for taking the poll.\n",
            "Sarah, thank you for taking the poll.\n"
          ]
        }
      ]
    },
    {
      "cell_type": "code",
      "source": [
        "print(\"The followin values have mentioned in the pool\")\n",
        "for values in favorite_languages.values():\n",
        "  print(f\"{values.title()}\")"
      ],
      "metadata": {
        "id": "zve300bmoveR",
        "outputId": "973be3ac-756f-4188-a060-b4b542afdb02",
        "colab": {
          "base_uri": "https://localhost:8080/"
        }
      },
      "execution_count": 30,
      "outputs": [
        {
          "output_type": "stream",
          "name": "stdout",
          "text": [
            "The followin values have mentioned in the pool\n",
            "Python\n",
            "C\n",
            "Rust\n",
            "Python\n"
          ]
        }
      ]
    },
    {
      "cell_type": "markdown",
      "source": [
        "his might work fine with a small number of values, but in a\n",
        "poll with a large number of respondents, it would result in a very repetitive\n",
        "list. T**o see each language chosen without repetition, we can use a set.** A set\n",
        "is a collection in which each item must be unique:"
      ],
      "metadata": {
        "id": "KFhyCUvapTbI"
      }
    },
    {
      "cell_type": "code",
      "source": [
        "print(\"The followin values have mentioned in the pool\")\n",
        "for values in set(favorite_languages.values()):\n",
        "    print(f\"{values.title()}\")\n",
        ""
      ],
      "metadata": {
        "id": "5lagA9VlpW8R",
        "outputId": "57a61a4e-e140-46e6-a771-683fb78d68b0",
        "colab": {
          "base_uri": "https://localhost:8080/"
        }
      },
      "execution_count": 31,
      "outputs": [
        {
          "output_type": "stream",
          "name": "stdout",
          "text": [
            "The followin values have mentioned in the pool\n",
            "Python\n",
            "C\n",
            "Rust\n"
          ]
        }
      ]
    },
    {
      "cell_type": "markdown",
      "source": [
        "ou can build a set directly using braces and separating the elements with commas:\n",
        ">>> languages = {'python', 'rust', 'python', 'c'}\n",
        ">>> languages\n",
        "{'rust', 'python', 'c'}"
      ],
      "metadata": {
        "id": "BDHQkuKuqEY8"
      }
    },
    {
      "cell_type": "code",
      "source": [
        "languages_ = {\"eros\",\"eros\",\"python\", \"C\", \"Headline\"}\n",
        "print(languages_)\n",
        "#  print(languages_[0])\n",
        "\"Unlike lists and dictionaries\",\n",
        "\"sets do not retain items in any specific order.\""
      ],
      "metadata": {
        "id": "XRJnSklvqH7P",
        "outputId": "c9c8887d-2cf8-4047-94be-beec6dc9884b",
        "colab": {
          "base_uri": "https://localhost:8080/",
          "height": 53
        }
      },
      "execution_count": 34,
      "outputs": [
        {
          "output_type": "stream",
          "name": "stdout",
          "text": [
            "{'eros', 'C', 'python', 'Headline'}\n"
          ]
        },
        {
          "output_type": "execute_result",
          "data": {
            "text/plain": [
              "'sets do not retain items in any specific order.'"
            ],
            "application/vnd.google.colaboratory.intrinsic+json": {
              "type": "string"
            }
          },
          "metadata": {},
          "execution_count": 34
        }
      ]
    },
    {
      "cell_type": "code",
      "source": [
        "# 6-4. Glossary 2: Now that you know how to loop through a dictionary, clean\n",
        "# up the code from Exercise 6-3 (page 99) by replacing your series of print()\n",
        "# calls with a loop that runs through the dictionary’s keys and values. When\n",
        "# you’re sure that your loop works, add five more Python terms to your glossary.\n",
        "# When you run your program again, these new words and meanings should\n",
        "# automatically be included in the output.\n",
        "\n",
        "user_0 = {\n",
        "'username': 'efermi',\n",
        "'first': 'enrico',\n",
        "'last': 'fermi',\n",
        "}\n",
        "\n",
        "keys_user = list(user_0.keys())\n",
        "values_user = list(user_0.values())\n",
        "\n",
        "\n",
        "for i in range(0,len(keys_user)):\n",
        "  print(f\"{keys_user[i]} : {values_user[i]}\")\n",
        "\n",
        "\n"
      ],
      "metadata": {
        "id": "E2nIc6COqzxp",
        "outputId": "0d06eb81-9744-4710-ef26-133395d6d573",
        "colab": {
          "base_uri": "https://localhost:8080/"
        }
      },
      "execution_count": 53,
      "outputs": [
        {
          "output_type": "stream",
          "name": "stdout",
          "text": [
            "username : efermi\n",
            "first : enrico\n",
            "last : fermi\n"
          ]
        }
      ]
    },
    {
      "cell_type": "code",
      "source": [
        "# 6-5. Rivers: Make a dictionary containing three major rivers and the country\n",
        "# each river runs through. One key-value pair might be 'nile': 'egypt'.\n",
        "\n",
        "\n",
        "\n",
        "rivers_ = {\"Peru\":\"Amazonas\", \"Egipt\":\"The Nile\", \"Puente Piedra\":\"Chillon\"}\n",
        "# • Use a loop to print a sentence about each river, such as The Nile runs\n",
        "# through Egypt.\n",
        "for country, rivers in rivers_.items() :\n",
        "  print(f\"\\nThe {rivers} runs through {country}\")\n",
        "# • Use a loop to print the name of each river included in the dictionary.\n",
        "for rivers in rivers_.values():\n",
        "    print(f\"\\n{rivers}\")\n",
        "\n",
        "# • Use a loop to print the name of each country included in the dictionary\n",
        "for country in rivers_.keys():\n",
        "    print(f\"\\n{country}\")\n",
        "\n",
        "\n"
      ],
      "metadata": {
        "id": "A02UUMHTq0_G",
        "outputId": "b1332083-c4d8-49b7-9835-5a2af07ea640",
        "colab": {
          "base_uri": "https://localhost:8080/"
        }
      },
      "execution_count": 60,
      "outputs": [
        {
          "output_type": "stream",
          "name": "stdout",
          "text": [
            "\n",
            "The Amazonas runs through Peru\n",
            "\n",
            "The The Nile runs through Egipt\n",
            "\n",
            "The Chillon runs through Puente Piedra\n",
            "\n",
            "Amazonas\n",
            "\n",
            "The Nile\n",
            "\n",
            "Chillon\n",
            "\n",
            "Peru\n",
            "\n",
            "Egipt\n",
            "\n",
            "Puente Piedra\n"
          ]
        }
      ]
    },
    {
      "cell_type": "markdown",
      "source": [
        "Nesting\n",
        "Sometimes you’ll want to store multiple dictionaries in a list, or a list of\n",
        "items as a value in a dictionary. This is called nesting. You can nest dictionaries inside a list, a list of items inside a dictionary, or even a dictionary inside\n",
        "another dictionary. Nesting is a powerful feature, as the following examples\n",
        "will demonstrate"
      ],
      "metadata": {
        "id": "qnAfd8St4DI9"
      }
    },
    {
      "cell_type": "code",
      "source": [
        "alien_0 = {'color': 'green', 'points': 5}\n",
        "alien_1 = {'color': 'yellow', 'points': 10}\n",
        "alien_2 = {'color': 'red', 'points': 15}\n",
        "\n",
        "aliens = [alien_0,alien_1,alien_2]\n",
        "\n",
        "for alien in aliens:\n",
        "  print(alien)\n"
      ],
      "metadata": {
        "id": "e8oxjyg84Fqi",
        "outputId": "9992c8bf-f907-4d15-b024-c875bd61c478",
        "colab": {
          "base_uri": "https://localhost:8080/"
        }
      },
      "execution_count": 61,
      "outputs": [
        {
          "output_type": "stream",
          "name": "stdout",
          "text": [
            "{'color': 'green', 'points': 5}\n",
            "{'color': 'yellow', 'points': 10}\n",
            "{'color': 'red', 'points': 15}\n"
          ]
        }
      ]
    },
    {
      "cell_type": "markdown",
      "source": [
        "![image.png](data:image/png;base64,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)"
      ],
      "metadata": {
        "id": "7JJDSqxT4a4g"
      }
    },
    {
      "cell_type": "code",
      "source": [
        "import random\n",
        "# Crear un diccionario con 30 aliens , defirentes colores point y velocidades y\n",
        "# almacena en una lista.\n",
        "# # La función random.choice(seq) en Python selecciona un elemento aleatorio de\n",
        "# una secuencia (lista, tupla, cadena, etc.). Devuelve un elemento del mismo tipo\n",
        "# que los elementos de la secuencia.\n",
        "\n",
        "\n",
        "aliens = []\n",
        "def genera_aliens (number_aliens):\n",
        "    for i in range(0, number_aliens):\n",
        "      speed_random = random.choice([\"slow\",\"fast\",\"medium\"])\n",
        "      color_random = random.choice([\"rojo\",\"verde\",\"azul\",\"amarillo\",\"rosado\"])\n",
        "      value_random = random.randint(1,21)\n",
        "      dict_aliens = {'color':color_random, 'points':value_random, 'speed':speed_random }\n",
        "      aliens.append(dict_aliens)\n",
        "    return aliens\n",
        "\n",
        "aliens_flota = genera_aliens(10)\n",
        "\n",
        "for i in aliens_flota[:5]:\n",
        "  print(i)\n",
        "print(\"...\")\n",
        "print(f\"Total number of aliens:{len(aliens_flota)}\")\n",
        "\n",
        "\n"
      ],
      "metadata": {
        "id": "QggnOW9J4ceB",
        "outputId": "068de9ab-2f05-4a13-ffff-299c528651f9",
        "colab": {
          "base_uri": "https://localhost:8080/"
        }
      },
      "execution_count": 124,
      "outputs": [
        {
          "output_type": "stream",
          "name": "stdout",
          "text": [
            "{'color': 'rojo', 'points': 12, 'speed': 'slow'}\n",
            "{'color': 'azul', 'points': 10, 'speed': 'slow'}\n",
            "{'color': 'amarillo', 'points': 9, 'speed': 'fast'}\n",
            "{'color': 'rosado', 'points': 1, 'speed': 'medium'}\n",
            "{'color': 'rosado', 'points': 14, 'speed': 'slow'}\n",
            "...\n",
            "Total number of aliens:10\n"
          ]
        }
      ]
    }
  ]
}