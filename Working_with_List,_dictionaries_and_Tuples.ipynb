{
  "nbformat": 4,
  "nbformat_minor": 0,
  "metadata": {
    "colab": {
      "provenance": [],
      "authorship_tag": "ABX9TyMPvw/w7vczhEerYHxB8LjT",
      "include_colab_link": true
    },
    "kernelspec": {
      "name": "python3",
      "display_name": "Python 3"
    },
    "language_info": {
      "name": "python"
    }
  },
  "cells": [
    {
      "cell_type": "markdown",
      "metadata": {
        "id": "view-in-github",
        "colab_type": "text"
      },
      "source": [
        "<a href=\"https://colab.research.google.com/github/ErosVillegass/Programmation-101/blob/main/Working_with_List%2C_dictionaries_and_Tuples.ipynb\" target=\"_parent\"><img src=\"https://colab.research.google.com/assets/colab-badge.svg\" alt=\"Open In Colab\"/></a>"
      ]
    },
    {
      "cell_type": "code",
      "execution_count": 3,
      "metadata": {
        "colab": {
          "base_uri": "https://localhost:8080/"
        },
        "id": "3tCG9tQTG82e",
        "outputId": "9bf78aaf-6d80-41a0-9324-0d2630339e47"
      },
      "outputs": [
        {
          "output_type": "stream",
          "name": "stdout",
          "text": [
            "['charles', 'martina', 'michael', 'florence', 'eli', 'Magdalena']\n",
            "['charles', 'martina', 'michael', 'florence', 'eli', 'Quaker']\n"
          ]
        }
      ],
      "source": [
        "# Copy a list with other reference point.\n",
        "players = ['charles', 'martina', 'michael', 'florence', 'eli']\n",
        "players_one = players[:]\n",
        "players_one.append(\"Quaker\")\n",
        "players.append(\"Magdalena\")\n",
        "print(players)\n",
        "print(players_one)\n",
        "\n",
        "\n",
        "\n",
        "\n"
      ]
    },
    {
      "cell_type": "markdown",
      "source": [
        "4-10. Slices: Using one of the programs you wrote in this chapter, add several\n",
        "lines to the end of the program that do the following:\n",
        "• Print the message The first three items in the list are:. Then use a slice to\n",
        "print the first three items from that program’s list.\n",
        "• Print the message Three items from the middle of the list are:. Then use a\n",
        "slice to print three items from the middle of the list.\n",
        "• Print the message The last three items in the list are:. Then use a slice to\n",
        "print the last three items in the list."
      ],
      "metadata": {
        "id": "eFkM59huH6c2"
      }
    },
    {
      "cell_type": "code",
      "source": [
        "players = ['charles', 'martina', 'michael', 'florence', 'eli']\n",
        "\n",
        "for x in range(1,10):\n",
        "  players.append(f\"Casa {x} \")\n",
        "\n",
        "\n",
        "# Print the three first items.\n",
        "three_players = players[:3]\n",
        "for x in three_players:\n",
        "  print(x)\n",
        "\n",
        "# Print three items from the midle of the list.\n",
        "print(len(players)/2)\n",
        "print(players)\n",
        "for x in players[round(len(players)/2)-1:round(len(players)/2)+2] :\n",
        "  print(x)\n",
        "\n",
        "# Print three items from the midle of the list.\n",
        "players_last_three = players[-3:]\n",
        "print(players_last_three)\n",
        "for x in players_last_three:\n",
        "  print(x)\n"
      ],
      "metadata": {
        "colab": {
          "base_uri": "https://localhost:8080/"
        },
        "id": "6Yet7c8OH7E7",
        "outputId": "d85411e6-0664-4405-c31f-7bd73d068ef9"
      },
      "execution_count": 24,
      "outputs": [
        {
          "output_type": "stream",
          "name": "stdout",
          "text": [
            "charles\n",
            "martina\n",
            "michael\n",
            "7.0\n",
            "['charles', 'martina', 'michael', 'florence', 'eli', 'Casa 1 ', 'Casa 2 ', 'Casa 3 ', 'Casa 4 ', 'Casa 5 ', 'Casa 6 ', 'Casa 7 ', 'Casa 8 ', 'Casa 9 ']\n",
            "Casa 2 \n",
            "Casa 3 \n",
            "Casa 4 \n",
            "['Casa 7 ', 'Casa 8 ', 'Casa 9 ']\n",
            "Casa 7 \n",
            "Casa 8 \n",
            "Casa 9 \n"
          ]
        }
      ]
    },
    {
      "cell_type": "markdown",
      "source": [
        "List : Work Well for storing collection of items that can change throughtout the life of a program.\n",
        "Tuples : Work well for values that dont't need to change, are immutables.\n",
        "\n"
      ],
      "metadata": {
        "id": "9eGnEA2sKuXr"
      }
    },
    {
      "cell_type": "code",
      "source": [
        "dimension = (10,20)\n",
        "print(dimension[0])\n",
        "print(dimension[1])\n",
        "# Is recommended to converd a tuple into a list to loop throughout.\n",
        "for x in list(dimension):\n",
        "  print(x)\n",
        "\n",
        "# Loop through all values in a tuple .\n",
        "for x in dimension:\n",
        "  print(x,\"Second One\")\n",
        "\n",
        "# This is a tuple of one element.\n",
        "heihgt = (1,)\n",
        "print(heihgt[0])\n",
        "\n",
        "\n",
        "\n",
        "# Redifinig a tuple\n",
        "\n",
        "size = (100, 20)\n",
        "print(\"Original dimensions: \")\n",
        "for x in size:\n",
        "  print(x)\n",
        "\n",
        "size = (120,10)\n",
        "print(\"\\nModified Dimensions:\")\n",
        "for x in size:\n",
        "  print(x)\n",
        "\n",
        "\n"
      ],
      "metadata": {
        "colab": {
          "base_uri": "https://localhost:8080/"
        },
        "id": "ykvjn0dhK_rV",
        "outputId": "5f98d9be-441e-4014-fe6a-255c3a28b57f"
      },
      "execution_count": 36,
      "outputs": [
        {
          "output_type": "stream",
          "name": "stdout",
          "text": [
            "10\n",
            "20\n",
            "10\n",
            "20\n",
            "10 Second One\n",
            "20 Second One\n",
            "1\n",
            "Original dimensions: \n",
            "100\n",
            "20\n",
            "\n",
            "Modified Dimensions:\n",
            "120\n",
            "10\n"
          ]
        }
      ]
    },
    {
      "cell_type": "markdown",
      "source": [
        "T RY IT YOURSEL F\n",
        "4-13. Buffet: A buffet-style restaurant offers only five basic foods. Think of five\n",
        "simple foods, and store them in a tuple.\n",
        "• Use a for loop to print each food the restaurant offers.\n",
        "• Try to modify one of the items, and make sure that Python rejects the\n",
        "change.\n",
        "• The restaurant changes its menu, replacing two of the items with different\n",
        "foods. Add a line that rewrites the tuple, and then use a for loop to print\n",
        "each of the items on the revised menu."
      ],
      "metadata": {
        "id": "4qLnA3ERM6yJ"
      }
    },
    {
      "cell_type": "code",
      "source": [],
      "metadata": {
        "id": "-_tsM-mqM7pM"
      },
      "execution_count": null,
      "outputs": []
    }
  ]
}