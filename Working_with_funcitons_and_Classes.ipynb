{
  "nbformat": 4,
  "nbformat_minor": 0,
  "metadata": {
    "colab": {
      "provenance": [],
      "include_colab_link": true
    },
    "kernelspec": {
      "name": "python3",
      "display_name": "Python 3"
    },
    "language_info": {
      "name": "python"
    }
  },
  "cells": [
    {
      "cell_type": "markdown",
      "metadata": {
        "id": "view-in-github",
        "colab_type": "text"
      },
      "source": [
        "<a href=\"https://colab.research.google.com/github/ErosVillegass/Programmation-101/blob/main/Working_with_funcitons_and_Classes.ipynb\" target=\"_parent\"><img src=\"https://colab.research.google.com/assets/colab-badge.svg\" alt=\"Open In Colab\"/></a>"
      ]
    },
    {
      "cell_type": "markdown",
      "source": [
        "**Chapter 8 Functions **"
      ],
      "metadata": {
        "id": "2KSEbT3TqKOb"
      }
    },
    {
      "cell_type": "code",
      "source": [
        "def greet_user():\n",
        "  \"\"\"Esta función imprime hola\"\"\"\n",
        "  print(\"Hola my friend\")\n",
        "\n",
        "print(greet_user())"
      ],
      "metadata": {
        "colab": {
          "base_uri": "https://localhost:8080/"
        },
        "id": "v5YXehKyqH0a",
        "outputId": "1823678f-5593-4fac-c5ab-7dfc9aac6ccb"
      },
      "execution_count": null,
      "outputs": [
        {
          "output_type": "stream",
          "name": "stdout",
          "text": [
            "Hola my friend\n",
            "None\n"
          ]
        }
      ]
    },
    {
      "cell_type": "markdown",
      "source": [],
      "metadata": {
        "id": "C_pv8kUdqHPU"
      }
    },
    {
      "cell_type": "code",
      "source": [
        "def get_formatted_name(first_name, middle_name, last_name):\n",
        "\n",
        "  full_name = f\"{first_name} {middle_name} {last_name}\"\n",
        "  return full_name.title()\n"
      ],
      "metadata": {
        "id": "cJVy5mVi-EH2"
      },
      "execution_count": 35,
      "outputs": []
    },
    {
      "cell_type": "code",
      "execution_count": 37,
      "metadata": {
        "id": "lDF46r2IqGlD",
        "outputId": "4160c1bf-94a9-47ce-88a4-b9424db24655",
        "colab": {
          "base_uri": "https://localhost:8080/"
        }
      },
      "outputs": [
        {
          "name": "stdout",
          "output_type": "stream",
          "text": [
            "\n",
            "Please tell me your name:\n",
            "(enter 'q' any time to quiet)\n",
            "First Name:q\n"
          ]
        }
      ],
      "source": [
        "while True:\n",
        "    print(\"\\nPlease tell me your name:\")\n",
        "    print(\"(enter 'q' any time to quiet)\")\n",
        "    f_name = input(\"First Name:\")\n",
        "    if f_name.lower().strip() == \"q\":\n",
        "        break\n",
        "    l_name = input(\"Last Name:\")\n",
        "    if l_name.lower().strip() == \"q\":\n",
        "        break\n",
        "    formatted_name = get_formatted_name(f_name, l_name,'')\n",
        "    print(f\"\\nHello {formatted_name}\")"
      ]
    },
    {
      "cell_type": "code",
      "source": [
        "# Passing a List\n",
        "# You’ll often find it useful to pass a list to a function, whether it’s a list of\n",
        "# names, numbers, or more complex objects, such as dictionaries.\n",
        "\n",
        "def greet_users(names):\n",
        "  \"\"\"Print a simple greeting to each user in the list.\"\"\"\n",
        "  for name in names:\n",
        "    msg = f\"Hello, {name.title()}!\"\n",
        "    print(msg)\n",
        "\n",
        "\n",
        "usernames = ['hannah', 'ty', 'margot']\n",
        "greet_users(usernames)\n",
        "\n"
      ],
      "metadata": {
        "id": "37xe9-O_---u",
        "outputId": "796510ab-088e-4a40-e9ba-5b501f3ad766",
        "colab": {
          "base_uri": "https://localhost:8080/"
        }
      },
      "execution_count": 38,
      "outputs": [
        {
          "output_type": "stream",
          "name": "stdout",
          "text": [
            "Hello, Hannah!\n",
            "Hello, Ty!\n",
            "Hello, Margot!\n"
          ]
        }
      ]
    },
    {
      "cell_type": "code",
      "source": [
        "unprinted_designs = ['phone case', 'robot pendant', 'dodecahedron']\n",
        "completed_models = []\n",
        "\n",
        "# Simulate printing each design , until none are left.\n",
        "# Move each design to complete_models after printing.\n",
        "\n",
        "# while unprinted_designs:\n",
        "#   current_design = unprinted_designs.pop()\n",
        "#   print(f\"Printing model : {current_design}\")\n",
        "#   completed_models.append(current_design)\n",
        "\n",
        "\n",
        "# # Display all completed models.\n",
        "# print(\"The following models have been printed\")\n",
        "# for model in completed_models:\n",
        "#   print(f\"{model}\")\n",
        "\n",
        "def printed_models (unprinted_designs):\n",
        "    completed_models = []\n",
        "    while unprinted_designs:\n",
        "        current_design = unprinted_designs.pop()\n",
        "        print(f\"Printing model : {current_design}\")\n",
        "        completed_models.append(current_design)\n",
        "    return completed_models\n",
        "\n",
        "def print_message(models):\n",
        "    print(\"The following models have been printed\")\n",
        "    for model in models:\n",
        "        print(f\"{model}\")\n",
        "\n",
        "final_printed = printed_models(unprinted_designs)\n",
        "print(type(final_printed))\n",
        "print_message(final_printed)\n"
      ],
      "metadata": {
        "id": "LHKjpo2z_8OI",
        "outputId": "80ec203c-9856-4b35-b5aa-f8e8aa4c6c3b",
        "colab": {
          "base_uri": "https://localhost:8080/"
        }
      },
      "execution_count": 52,
      "outputs": [
        {
          "output_type": "stream",
          "name": "stdout",
          "text": [
            "Printing model : dodecahedron\n",
            "Printing model : robot pendant\n",
            "Printing model : phone case\n",
            "<class 'list'>\n",
            "The following models have been printed\n",
            "dodecahedron\n",
            "robot pendant\n",
            "phone case\n"
          ]
        }
      ]
    },
    {
      "cell_type": "code",
      "source": [
        "# 8-9. Messages: Make a list containing a series of short text messages. Pass the\n",
        "# list to a function called show_messages(), which prints each text message."
      ],
      "metadata": {
        "id": "yOFOkv4XCZoE"
      },
      "execution_count": null,
      "outputs": []
    },
    {
      "cell_type": "code",
      "source": [
        "letras = ['a','b','c','d','e','f','g','h','i','j']\n",
        "result = \"-\".join(letras)\n",
        "\n",
        "def join_letters(letras):\n",
        "  compilado = \"-\".join(letras)\n",
        "  return compilado\n",
        "\n",
        "\n",
        "print(join_letters(letras))\n",
        "\n",
        "# 8-13. User Profile: Start with a copy of user_profile.py from page 148. Build a\n",
        "# profile of yourself by calling build_profile(), using your first and last names\n",
        "# and three other key-value pairs that describe you.\n",
        "\n",
        "\n",
        "\n",
        "\n",
        "\n",
        "\n",
        "\n"
      ],
      "metadata": {
        "id": "gXCqtbOUDHLp",
        "outputId": "1a538e63-bea6-4bd5-cd5b-18bbd5b56e87",
        "colab": {
          "base_uri": "https://localhost:8080/"
        }
      },
      "execution_count": 58,
      "outputs": [
        {
          "output_type": "stream",
          "name": "stdout",
          "text": [
            "a-b-c-d-e-f-g-h-i-j\n"
          ]
        }
      ]
    }
  ]
}