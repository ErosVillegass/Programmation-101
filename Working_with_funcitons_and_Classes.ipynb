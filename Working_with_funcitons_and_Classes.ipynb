{
  "nbformat": 4,
  "nbformat_minor": 0,
  "metadata": {
    "colab": {
      "provenance": [],
      "include_colab_link": true
    },
    "kernelspec": {
      "name": "python3",
      "display_name": "Python 3"
    },
    "language_info": {
      "name": "python"
    }
  },
  "cells": [
    {
      "cell_type": "markdown",
      "metadata": {
        "id": "view-in-github",
        "colab_type": "text"
      },
      "source": [
        "<a href=\"https://colab.research.google.com/github/ErosVillegass/Programmation-101/blob/main/Working_with_funcitons_and_Classes.ipynb\" target=\"_parent\"><img src=\"https://colab.research.google.com/assets/colab-badge.svg\" alt=\"Open In Colab\"/></a>"
      ]
    },
    {
      "cell_type": "markdown",
      "source": [
        "**Chapter 8 Functions **"
      ],
      "metadata": {
        "id": "2KSEbT3TqKOb"
      }
    },
    {
      "cell_type": "code",
      "source": [
        "def greet_user():\n",
        "  \"\"\"Esta función imprime hola\"\"\"\n",
        "  print(\"Hola my friend\")\n",
        "\n",
        "print(greet_user())"
      ],
      "metadata": {
        "colab": {
          "base_uri": "https://localhost:8080/"
        },
        "id": "v5YXehKyqH0a",
        "outputId": "1823678f-5593-4fac-c5ab-7dfc9aac6ccb"
      },
      "execution_count": null,
      "outputs": [
        {
          "output_type": "stream",
          "name": "stdout",
          "text": [
            "Hola my friend\n",
            "None\n"
          ]
        }
      ]
    },
    {
      "cell_type": "markdown",
      "source": [],
      "metadata": {
        "id": "C_pv8kUdqHPU"
      }
    },
    {
      "cell_type": "code",
      "source": [
        "def get_formatted_name(first_name, middle_name, last_name):\n",
        "\n",
        "  full_name = f\"{first_name} {middle_name} {last_name}\"\n",
        "  return full_name.title()\n"
      ],
      "metadata": {
        "id": "cJVy5mVi-EH2"
      },
      "execution_count": null,
      "outputs": []
    },
    {
      "cell_type": "code",
      "execution_count": null,
      "metadata": {
        "id": "lDF46r2IqGlD",
        "outputId": "4160c1bf-94a9-47ce-88a4-b9424db24655",
        "colab": {
          "base_uri": "https://localhost:8080/"
        }
      },
      "outputs": [
        {
          "name": "stdout",
          "output_type": "stream",
          "text": [
            "\n",
            "Please tell me your name:\n",
            "(enter 'q' any time to quiet)\n",
            "First Name:q\n"
          ]
        }
      ],
      "source": [
        "while True:\n",
        "    print(\"\\nPlease tell me your name:\")\n",
        "    print(\"(enter 'q' any time to quiet)\")\n",
        "    f_name = input(\"First Name:\")\n",
        "    if f_name.lower().strip() == \"q\":\n",
        "        break\n",
        "    l_name = input(\"Last Name:\")\n",
        "    if l_name.lower().strip() == \"q\":\n",
        "        break\n",
        "    formatted_name = get_formatted_name(f_name, l_name,'')\n",
        "    print(f\"\\nHello {formatted_name}\")"
      ]
    },
    {
      "cell_type": "code",
      "source": [
        "# Passing a List\n",
        "# You’ll often find it useful to pass a list to a function, whether it’s a list of\n",
        "# names, numbers, or more complex objects, such as dictionaries.\n",
        "\n",
        "def greet_users(names):\n",
        "  \"\"\"Print a simple greeting to each user in the list.\"\"\"\n",
        "  for name in names:\n",
        "    msg = f\"Hello, {name.title()}!\"\n",
        "    print(msg)\n",
        "\n",
        "\n",
        "usernames = ['hannah', 'ty', 'margot']\n",
        "greet_users(usernames)\n",
        "\n"
      ],
      "metadata": {
        "id": "37xe9-O_---u",
        "outputId": "796510ab-088e-4a40-e9ba-5b501f3ad766",
        "colab": {
          "base_uri": "https://localhost:8080/"
        }
      },
      "execution_count": null,
      "outputs": [
        {
          "output_type": "stream",
          "name": "stdout",
          "text": [
            "Hello, Hannah!\n",
            "Hello, Ty!\n",
            "Hello, Margot!\n"
          ]
        }
      ]
    },
    {
      "cell_type": "code",
      "source": [
        "unprinted_designs = ['phone case', 'robot pendant', 'dodecahedron']\n",
        "completed_models = []\n",
        "\n",
        "# Simulate printing each design , until none are left.\n",
        "# Move each design to complete_models after printing.\n",
        "\n",
        "# while unprinted_designs:\n",
        "#   current_design = unprinted_designs.pop()\n",
        "#   print(f\"Printing model : {current_design}\")\n",
        "#   completed_models.append(current_design)\n",
        "\n",
        "\n",
        "# # Display all completed models.\n",
        "# print(\"The following models have been printed\")\n",
        "# for model in completed_models:\n",
        "#   print(f\"{model}\")\n",
        "\n",
        "def printed_models (unprinted_designs):\n",
        "    completed_models = []\n",
        "    while unprinted_designs:\n",
        "        current_design = unprinted_designs.pop()\n",
        "        print(f\"Printing model : {current_design}\")\n",
        "        completed_models.append(current_design)\n",
        "    return completed_models\n",
        "\n",
        "def print_message(models):\n",
        "    print(\"The following models have been printed\")\n",
        "    for model in models:\n",
        "        print(f\"{model}\")\n",
        "\n",
        "final_printed = printed_models(unprinted_designs)\n",
        "print(type(final_printed))\n",
        "print_message(final_printed)\n"
      ],
      "metadata": {
        "id": "LHKjpo2z_8OI",
        "outputId": "80ec203c-9856-4b35-b5aa-f8e8aa4c6c3b",
        "colab": {
          "base_uri": "https://localhost:8080/"
        }
      },
      "execution_count": null,
      "outputs": [
        {
          "output_type": "stream",
          "name": "stdout",
          "text": [
            "Printing model : dodecahedron\n",
            "Printing model : robot pendant\n",
            "Printing model : phone case\n",
            "<class 'list'>\n",
            "The following models have been printed\n",
            "dodecahedron\n",
            "robot pendant\n",
            "phone case\n"
          ]
        }
      ]
    },
    {
      "cell_type": "code",
      "source": [
        "# 8-9. Messages: Make a list containing a series of short text messages. Pass the\n",
        "# list to a function called show_messages(), which prints each text message."
      ],
      "metadata": {
        "id": "yOFOkv4XCZoE"
      },
      "execution_count": null,
      "outputs": []
    },
    {
      "cell_type": "code",
      "source": [
        "letras = ['a','b','c','d','e','f','g','h','i','j']\n",
        "result = \"-\".join(letras)\n",
        "\n",
        "def join_letters(letras):\n",
        "  compilado = \"-\".join(letras)\n",
        "  return compilado\n",
        "\n",
        "\n",
        "print(join_letters(letras))\n",
        "\n",
        "# 8-13. User Profile: Start with a copy of user_profile.py from page 148. Build a\n",
        "# profile of yourself by calling build_profile(), using your first and last names\n",
        "# and three other key-value pairs that describe you.\n",
        "\n",
        "\n",
        "\n",
        "\n",
        "\n",
        "\n",
        "\n"
      ],
      "metadata": {
        "id": "gXCqtbOUDHLp",
        "outputId": "1a538e63-bea6-4bd5-cd5b-18bbd5b56e87",
        "colab": {
          "base_uri": "https://localhost:8080/"
        }
      },
      "execution_count": null,
      "outputs": [
        {
          "output_type": "stream",
          "name": "stdout",
          "text": [
            "a-b-c-d-e-f-g-h-i-j\n"
          ]
        }
      ]
    },
    {
      "cell_type": "markdown",
      "source": [
        "Passing an Arbitrary Number of Arguments"
      ],
      "metadata": {
        "id": "0jfFGIKTz46R"
      }
    },
    {
      "cell_type": "code",
      "source": [
        "def make_pizza(*toppings): # *Arbitary number of array is make of a tuple.\n",
        "  \"Print the list of topping that have been requested\"\n",
        "  print(\"Make a pizza with the followings toppings\")\n",
        "  for topping in toppings:\n",
        "    print(f\"\\t-{topping}\")\n",
        "\n",
        "make_pizza('pepperoni')\n",
        "make_pizza('mushrooms','green peppers' , 'extra cheese')"
      ],
      "metadata": {
        "id": "e-RkxU10z57z",
        "outputId": "4bbb159b-3411-49ac-b2f6-06feac835e2b",
        "colab": {
          "base_uri": "https://localhost:8080/"
        }
      },
      "execution_count": null,
      "outputs": [
        {
          "output_type": "stream",
          "name": "stdout",
          "text": [
            "Make a pizza with the followings toppings\n",
            "\t-pepperoni\n",
            "Make a pizza with the followings toppings\n",
            "\t-mushrooms\n",
            "\t-green peppers\n",
            "\t-extra cheese\n"
          ]
        }
      ]
    },
    {
      "cell_type": "markdown",
      "source": [
        "Mixing Positional and Arbitrary Arguments\n",
        "If you want a function to accept several different kinds of arguments, the\n",
        "parameter that accepts an arbitrary number of arguments must be placed\n",
        "last in the function definition **texto en negrita**. Python matches positional and keyword\n",
        "arguments first and then collects any remaining arguments in the final\n",
        "parameter."
      ],
      "metadata": {
        "id": "wp_eu8u-03AR"
      }
    },
    {
      "cell_type": "code",
      "source": [
        "def make_pizza(size, *toppings):\n",
        "  print(f\"Make a pizza with the following size {size} and with following toppings:\")\n",
        "  for topping in toppings:\n",
        "    print(f\"\\t-{topping}\")\n",
        "\n",
        "\n",
        "make_pizza(10, \"Cheese\",'peperoni', 'hotdog')"
      ],
      "metadata": {
        "id": "p0LFcn3g05LR",
        "outputId": "c6d1b9c2-f526-43c5-a9ef-75b950f92088",
        "colab": {
          "base_uri": "https://localhost:8080/"
        }
      },
      "execution_count": null,
      "outputs": [
        {
          "output_type": "stream",
          "name": "stdout",
          "text": [
            "Make a pizza with the following size 10 and with following toppings:\n",
            "\t-Cheese\n",
            "\t-peperoni\n",
            "\t-hotdog\n"
          ]
        }
      ]
    },
    {
      "cell_type": "markdown",
      "source": [
        "**Using Arbitrary Keyword Arguments**\n",
        "In this case, you can write functions that accept as many **key-value pairs** as the calling statement provides"
      ],
      "metadata": {
        "id": "pEmiVpXj2VJD"
      }
    },
    {
      "cell_type": "code",
      "source": [
        "def build_profile(user_name, last_name, **user_information):\n",
        "  user_information['nombre']=user_name\n",
        "  user_information['apellido']=last_name\n",
        "  return user_information\n",
        "\n",
        "build_profile('eros','aranibar',cuidad='Peru', edad='30', esposa='Jazmín')\n",
        "\n",
        "\n",
        "\n",
        "# **user_info cause Python to create\n",
        "# a dictionary called user_info containing all the extra name-value pairs the\n",
        "# function receives."
      ],
      "metadata": {
        "id": "mr3irBI22UEZ",
        "outputId": "04e3d925-4b3c-462a-9c20-315d7eba9632",
        "colab": {
          "base_uri": "https://localhost:8080/"
        }
      },
      "execution_count": null,
      "outputs": [
        {
          "output_type": "execute_result",
          "data": {
            "text/plain": [
              "{'cuidad': 'Peru',\n",
              " 'edad': '30',\n",
              " 'esposa': 'Jazmín',\n",
              " 'nombre': 'eros',\n",
              " 'apellido': 'aranibar'}"
            ]
          },
          "metadata": {},
          "execution_count": 20
        }
      ]
    },
    {
      "cell_type": "markdown",
      "source": [
        "8-12. Sandwiches: Write a function that accepts a list of items a person wants\n",
        "on a sandwich. The function should have one parameter that collects as many\n",
        "items as the function call provides, and it should print a summary of the sandwich that’s being ordered. Call the function three times, using a different number of arguments each time"
      ],
      "metadata": {
        "id": "wsDeqrty5Xmm"
      }
    },
    {
      "cell_type": "code",
      "source": [
        "# function get_sandwich\n",
        "# input list of items for a sandwich\n",
        "# many items and one parameter *arguments\n",
        "# print a summary\n",
        "\n",
        "## 1\n",
        "def get_sandwich(*ingredients):\n",
        "  print(ingredients)\n",
        "  print(\"Esta es la lista de ingredientes para los sandwiches\")\n",
        "  for ingredientes in ingredients[0]:\n",
        "    print(f\"\\t-{ingredientes}\")\n",
        "\n",
        "get_sandwich(['pan chabata','tomate','pollo','queso'])\n",
        "\n",
        "## 2\n",
        "def get_sandwich_two( pan,proteina, *ingredients):\n",
        "    print(\"Esta es la lista de ingredientes para los sandwiches\")\n",
        "    print(f\"\\t El pan es de tipo {pan} y de protenia se agrego {proteina}\")\n",
        "    for ingredientes in ingredients[0]:\n",
        "      print(f\"\\t-{ingredientes}\")\n",
        "\n",
        "get_sandwich_two('bachata','jamón',['tomate','queso'])"
      ],
      "metadata": {
        "id": "_EQkuJXB5YlT",
        "outputId": "88c55b62-2d84-4c5f-a115-2655f477f83b",
        "colab": {
          "base_uri": "https://localhost:8080/"
        }
      },
      "execution_count": null,
      "outputs": [
        {
          "output_type": "stream",
          "name": "stdout",
          "text": [
            "(['pan chabata', 'tomate', 'pollo', 'queso'],)\n",
            "Esta es la lista de ingredientes para los sandwiches\n",
            "\t-pan chabata\n",
            "\t-tomate\n",
            "\t-pollo\n",
            "\t-queso\n",
            "Esta es la lista de ingredientes para los sandwiches\n",
            "\t El pan es de tipo bachata y de protenia se agrego jamón\n",
            "\t-tomate\n",
            "\t-queso\n"
          ]
        }
      ]
    },
    {
      "cell_type": "markdown",
      "source": [
        "8-14. Cars: Write a function that stores information about a car in a dictionary. The function should always receive a manufacturer and a model name. It\n",
        "should then accept an arbitrary number of keyword arguments. Call the function with the required information and two other name-value pairs, such as a\n",
        "color or an optional feature. Your function should work for a call like this one:\n",
        "car = make_car('subaru', 'outback', color='blue', tow_package=True)\n",
        "Print the dictionary that’s returned to make sure all the information was\n",
        "stored correctly."
      ],
      "metadata": {
        "id": "4bs06ClV8Q7v"
      }
    },
    {
      "cell_type": "code",
      "source": [
        "# Constraint = function with arbitary keyword of arguments.(Dictionary)\n",
        "# Function, store the first parameters into the dictionary\n",
        "# then print.\n",
        "\n",
        "def make_car(type_car, date_launched,**aditional_features):\n",
        "    aditional_features['carro tipo']=type_car\n",
        "    aditional_features['fecha']=date_launched\n",
        "    print(\"El carro presenta la siguientes carácteristicas:\")\n",
        "    return print(aditional_features)\n",
        "\n",
        "carro_nuevo = make_car('ferrari', '2015', color = 'red', size = 'small' , speed = 'fast')\n",
        "\n",
        "make_car(\"Chino\",'1005',color ='red', size = 'large', price = '1M')"
      ],
      "metadata": {
        "id": "FvlmfAXZ8uSP",
        "outputId": "006274ae-3f7f-43ad-de1a-84886b1c6cf5",
        "colab": {
          "base_uri": "https://localhost:8080/"
        }
      },
      "execution_count": null,
      "outputs": [
        {
          "output_type": "stream",
          "name": "stdout",
          "text": [
            "El carro presenta la siguientes carácteristicas:\n",
            "{'color': 'red', 'size': 'small', 'speed': 'fast', 'carro tipo': 'ferrari', 'fecha': '2015'}\n",
            "El carro presenta la siguientes carácteristicas:\n",
            "{'color': 'red', 'size': 'large', 'price': '1M', 'carro tipo': 'Chino', 'fecha': '1005'}\n"
          ]
        }
      ]
    },
    {
      "cell_type": "code",
      "source": [
        "import aux_functions\n",
        "\n",
        "aux_functions.make_car(\"Chino\",'1005',color ='red', size = 'large', price = '1M')\n",
        "\n",
        "\n",
        "\n"
      ],
      "metadata": {
        "id": "svB6aLpD8R7e",
        "outputId": "b49edb09-302a-4500-d87f-e40eb7adedd1",
        "colab": {
          "base_uri": "https://localhost:8080/"
        }
      },
      "execution_count": null,
      "outputs": [
        {
          "output_type": "stream",
          "name": "stdout",
          "text": [
            "El carro presenta la siguientes carácteristicas:\n",
            "{'color': 'red', 'size': 'large', 'price': '1M', 'carro tipo': 'Chino', 'fecha': '1005'}\n"
          ]
        }
      ]
    },
    {
      "cell_type": "code",
      "source": [
        "from aux_functions import make_car as car\n",
        "\n",
        "car(\"Chino\",'1005',color ='red', size = 'large', price = '1M')"
      ],
      "metadata": {
        "id": "Ucj9PmGq8Y2s",
        "outputId": "1c930248-6669-409a-cdb1-634cefe8c349",
        "colab": {
          "base_uri": "https://localhost:8080/"
        }
      },
      "execution_count": null,
      "outputs": [
        {
          "output_type": "stream",
          "name": "stdout",
          "text": [
            "El carro presenta la siguientes carácteristicas:\n",
            "{'color': 'red', 'size': 'large', 'price': '1M', 'carro tipo': 'Chino', 'fecha': '1005'}\n"
          ]
        }
      ]
    },
    {
      "cell_type": "code",
      "source": [
        "import aux_functions as p\n",
        "p.make_car(\"Chino\",'1005',color ='red', size = 'large', price = '1M')"
      ],
      "metadata": {
        "id": "AGrctr7T8t8O",
        "outputId": "70f74338-f5e4-4613-ff67-e8c7aacaa026",
        "colab": {
          "base_uri": "https://localhost:8080/"
        }
      },
      "execution_count": null,
      "outputs": [
        {
          "output_type": "stream",
          "name": "stdout",
          "text": [
            "El carro presenta la siguientes carácteristicas:\n",
            "{'color': 'red', 'size': 'large', 'price': '1M', 'carro tipo': 'Chino', 'fecha': '1005'}\n"
          ]
        }
      ]
    },
    {
      "cell_type": "code",
      "source": [
        "from aux_functions import * #This code import all the functions in the module\n",
        "# aux_functions, is not recommended.\n",
        "def new_car(\n",
        "    parameter_0,*parameter_1):\n",
        "  print(f\"Hello, {parameter_0}\")\n",
        "\n",
        "new_car(\"Jazmin\")"
      ],
      "metadata": {
        "id": "WCJUpA1s9w1e",
        "outputId": "383d0368-e93a-41fa-c4d9-e57b35c06556",
        "colab": {
          "base_uri": "https://localhost:8080/"
        }
      },
      "execution_count": null,
      "outputs": [
        {
          "output_type": "stream",
          "name": "stdout",
          "text": [
            "Hello, Jazmin\n"
          ]
        }
      ]
    },
    {
      "cell_type": "code",
      "source": [
        "# Styling a function\n",
        "def make_car(\n",
        "    type_car, date_launched,**aditional_features):\n",
        "  aditional_features['carro tipo']=type_car\n",
        "  aditional_features['fecha']=date_launched\n",
        "  print(\"El carro presenta la siguientes carácteristicas:\")\n",
        "  return print(aditional_features)\n",
        "\n",
        "carro_nuevo = make_car('ferrari','2015',color='red',size ='small',speed ='fast')\n",
        "\n",
        "\n",
        "\n"
      ],
      "metadata": {
        "id": "ioFBJUscAInt",
        "outputId": "0f1ebd31-5f42-4ae3-e804-e179046285ed",
        "colab": {
          "base_uri": "https://localhost:8080/"
        }
      },
      "execution_count": null,
      "outputs": [
        {
          "output_type": "stream",
          "name": "stdout",
          "text": [
            "El carro presenta la siguientes carácteristicas:\n",
            "{'color': 'red', 'size': 'small', 'speed': 'fast', 'carro tipo': 'ferrari', 'fecha': '2015'}\n"
          ]
        }
      ]
    },
    {
      "cell_type": "code",
      "source": [
        "# Clases\n",
        "\n",
        "class Dog:\n",
        "  \"A funciton that is part of a class is a method, this method runs first and assign atributes to instances\"\n",
        "  def __init__(self, name, age):\n",
        "    \"\"\"Initialize name and age attributes.\"\"\"\n",
        "#       Any variable prefixed with self is available to every\n",
        "#       method in the class, and we’ll also be able to access these variables through\n",
        "#       any instance created from the class.\n",
        "    self.name= name\n",
        "    self.age = age\n",
        "\n",
        "  def sit(self):\n",
        "      \"\"\"Simulte dog sitting command\"\"\"\n",
        "      print(f\"{self.name} is now sitting\")\n",
        "\n",
        "  def roll_over(self):\n",
        "      \"\"\"Simulte dog roll_over command\"\"\"\n",
        "      print(f\"{self.name} rolled over\")\n",
        "\n",
        "\n",
        "dogo_1 = Dog(\"Chatin\",2)\n",
        "dogo_1.roll_over()\n",
        "dogo_2 = Dog(\"Negrita\",3)\n"
      ],
      "metadata": {
        "id": "vte1MzQFueiG",
        "outputId": "790cd9bd-eda0-45b1-a417-0cdeb21b0247",
        "colab": {
          "base_uri": "https://localhost:8080/"
        }
      },
      "execution_count": 9,
      "outputs": [
        {
          "output_type": "stream",
          "name": "stdout",
          "text": [
            "Chatin rolled over\n"
          ]
        }
      ]
    },
    {
      "cell_type": "code",
      "source": [
        "dogo_1.name"
      ],
      "metadata": {
        "id": "i5BkhFFBvwkG",
        "outputId": "09e7fdbc-6ebf-4e79-b835-5d1c436e5872",
        "colab": {
          "base_uri": "https://localhost:8080/",
          "height": 36
        }
      },
      "execution_count": 30,
      "outputs": [
        {
          "output_type": "execute_result",
          "data": {
            "text/plain": [
              "'Chatin'"
            ],
            "application/vnd.google.colaboratory.intrinsic+json": {
              "type": "string"
            }
          },
          "metadata": {},
          "execution_count": 30
        }
      ]
    },
    {
      "cell_type": "markdown",
      "source": [
        "9-1. Restaurant: Make a class called Restaurant. The __init__() method for\n",
        "Restaurant should store two attributes: a restaurant_name and a cuisine_type.\n",
        "Make a method called describe_restaurant() that prints these two pieces of\n",
        "information, and a method called open_restaurant() that prints a message indicating that the restaurant is open.\n",
        "Make an instance called restaurant from your class. Print the two attributes individually, and then call both methods."
      ],
      "metadata": {
        "id": "6tkpIGPu6i4y"
      }
    },
    {
      "cell_type": "code",
      "source": [
        "class Restaurant:\n",
        "      def __init__(self, restaurant_name, cuisine_type):\n",
        "        self.restaurant_name = restaurant_name\n",
        "        self.cuisine_type = cuisine_type\n",
        "\n",
        "      def describe_restaurant(self):\n",
        "        print(f\"Welcome to restaurant {self.restaurant_name}, we prepared {self.cuisine_type} food \")\n",
        "\n",
        "      def open_restaurant(self):\n",
        "        print(f\"The restaurant is open\")\n",
        "\n",
        "restaurant = Restaurant(\"MamaMeli\",\"Criolla\")\n",
        "restaurant.restaurant_name\n",
        "restaurant.cuisine_type\n",
        "restaurant.describe_restaurant()\n"
      ],
      "metadata": {
        "id": "rXpUvTQN6j8R",
        "outputId": "fe1975e2-7b47-44d9-b92f-492d66a6383c",
        "colab": {
          "base_uri": "https://localhost:8080/"
        }
      },
      "execution_count": 36,
      "outputs": [
        {
          "output_type": "stream",
          "name": "stdout",
          "text": [
            "Welcome to restaurant MamaMeli, we prepared Criolla food \n"
          ]
        }
      ]
    },
    {
      "cell_type": "markdown",
      "source": [
        "9-2. Three Restaurants: Start with your class from Exercise 9-1. Create three\n",
        "different instances from the class, and call describe_restaurant() for each\n",
        "instance"
      ],
      "metadata": {
        "id": "bIZ5KSzN-dxP"
      }
    },
    {
      "cell_type": "code",
      "source": [
        "restaurant_one = Restaurant(\"DonPapaFelix\",\"Molecular\")\n",
        "restaurant_two = Restaurant(\"DonEros\",\"Innovation\")\n",
        "restaurant_three = Restaurant(\"DonDavid\",\"Criolla\")\n",
        "\n",
        "restaurant_one.describe_restaurant()\n",
        "restaurant_two.describe_restaurant()\n",
        "restaurant_three.describe_restaurant()"
      ],
      "metadata": {
        "id": "8SFXMwBK-dKF",
        "outputId": "bd125e5d-55b4-4a0f-a114-ed5a1166197b",
        "colab": {
          "base_uri": "https://localhost:8080/"
        }
      },
      "execution_count": 43,
      "outputs": [
        {
          "output_type": "stream",
          "name": "stdout",
          "text": [
            "Welcome to restaurant DonPapaFelix, we prepared Molecular food \n",
            "Welcome to restaurant DonEros, we prepared Innovation food \n",
            "Welcome to restaurant DonDavid, we prepared Criolla food \n"
          ]
        }
      ]
    },
    {
      "cell_type": "code",
      "source": [
        "# car.py\n",
        "\n",
        "class Car:\n",
        "\n",
        "    def __init__(self, make , model, year):\n",
        "       self.make = make\n",
        "       self.model = model\n",
        "       self.year = year\n",
        "\n",
        "    def get_descriptive_name(self):\n",
        "      long_name = f\"{self.make} {self.model} {self.year}\"\n",
        "      return long_name.title()\n",
        "\n",
        "my_new_car = Car(\"Audini\",\"A4\",1998)\n",
        "my_new_car.get_descriptive_name()\n",
        "\n",
        ""
      ],
      "metadata": {
        "id": "7O_O9fIh-t0k",
        "outputId": "c7b13a46-876e-4b54-d4d8-1befb37c35d1",
        "colab": {
          "base_uri": "https://localhost:8080/",
          "height": 36
        }
      },
      "execution_count": 45,
      "outputs": [
        {
          "output_type": "execute_result",
          "data": {
            "text/plain": [
              "'Audini A4 1998'"
            ],
            "application/vnd.google.colaboratory.intrinsic+json": {
              "type": "string"
            }
          },
          "metadata": {},
          "execution_count": 45
        }
      ]
    },
    {
      "cell_type": "code",
      "source": [
        "# car.py\n",
        "#Adding a new atribute which change\n",
        "# I got the conclusion of every functionality of ther car can be represented\n",
        "# as a method.\n",
        "class Car:\n",
        "\n",
        "    def __init__(self, make , model, year):\n",
        "       self.make = make\n",
        "       self.model = model\n",
        "       self.year = year\n",
        "       self.odometer_reading = 0\n",
        "\n",
        "    def get_descriptive_name(self):\n",
        "      long_name = f\"{self.make} {self.model} {self.year}\"\n",
        "      return long_name.title()\n",
        "\n",
        "    def read_odometer(self):\n",
        "      \"\"\"Print the statements showing the car's mileage.\"\"\"\n",
        "      print(f\"This car has {self.odometer_reading} miles on it\")\n",
        "\n",
        "\n",
        "my_new_car = Car(\"Audini\",\"A4\",1998)\n",
        "my_new_car.get_descriptive_name()\n",
        "my_new_car.odometer_reading"
      ],
      "metadata": {
        "id": "wtMafDnUCqhd",
        "outputId": "9e58c7e1-21a7-4504-862f-dd1ce44c86cd",
        "colab": {
          "base_uri": "https://localhost:8080/"
        }
      },
      "execution_count": 48,
      "outputs": [
        {
          "output_type": "stream",
          "name": "stdout",
          "text": [
            "This car has 0 miles on it\n"
          ]
        }
      ]
    }
  ]
}