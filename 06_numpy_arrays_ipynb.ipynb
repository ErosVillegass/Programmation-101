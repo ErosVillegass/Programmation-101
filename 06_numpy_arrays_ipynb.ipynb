{
  "nbformat": 4,
  "nbformat_minor": 0,
  "metadata": {
    "colab": {
      "provenance": [],
      "include_colab_link": true
    },
    "kernelspec": {
      "name": "python3",
      "display_name": "Python 3"
    },
    "language_info": {
      "name": "python"
    }
  },
  "cells": [
    {
      "cell_type": "markdown",
      "metadata": {
        "id": "view-in-github",
        "colab_type": "text"
      },
      "source": [
        "<a href=\"https://colab.research.google.com/github/ErosVillegass/Programmation-101/blob/main/06_numpy_arrays_ipynb.ipynb\" target=\"_parent\"><img src=\"https://colab.research.google.com/assets/colab-badge.svg\" alt=\"Open In Colab\"/></a>"
      ]
    },
    {
      "cell_type": "markdown",
      "source": [
        "<img src=\"https://www.ctic.uni.edu.pe/wp-content/uploads/2022/04/588px-x-348px-web-1.png\" alt=\"HTML5 Icon\" width=\"900\" height=\"350\" >\n"
      ],
      "metadata": {
        "id": "ymw2mOrhFyiu"
      }
    },
    {
      "cell_type": "markdown",
      "source": [
        "# **NumPy Arrays**\n"
      ],
      "metadata": {
        "id": "MNMPVfxEF1mE"
      }
    },
    {
      "cell_type": "markdown",
      "source": [
        "**Objetivo**\n",
        "\n",
        "El objetivo de este laboratorio es brindar una comprensión profunda y práctica de la biblioteca NumPy en Python, una herramienta esencial para el cálculo numérico y el análisis en data science.\n"
      ],
      "metadata": {
        "id": "Gn8gUPBiGfrU"
      }
    },
    {
      "cell_type": "markdown",
      "source": [
        "**Índice del Laboratorio**\n",
        "\n",
        "- 1. Introducción y Configuración\n",
        "- 2. Creación de Arrays\n",
        "- 3. Propiedades de los Arrays\n",
        "- 4. Operaciones Básicas\n",
        "- 5. Indexación y Slicing\n",
        "- 6. Manipulación de la Forma\n",
        "- 7. Broadcasting\n",
        "- 8. Álgebra Lineal\n"
      ],
      "metadata": {
        "id": "MnbV7B5LGFuv"
      }
    },
    {
      "cell_type": "markdown",
      "source": [
        "## 1. Introducción y Configuración\n",
        "\n",
        "**¿Qué es NumPy?**\n",
        "\n",
        "NumPy (Numerical Python) es una librería esencial en Python para el cálculo numérico y el análisis de datos. Proporciona:\n",
        "\n",
        "\n",
        "- **Arrays multidimensionales:** Estructuras de datos eficientes para almacenar y manipular grandes conjuntos de datos numéricos.\n",
        "- **Funciones matemáticas:** Operaciones vectorizadas para realizar cálculos rápidos y eficientes.\n",
        "- **Herramientas avanzadas:** Funciones para álgebra lineal, transformadas de Fourier, generación de números aleatorios, y más.\n"
      ],
      "metadata": {
        "id": "AzvAvOKKIHFg"
      }
    },
    {
      "cell_type": "markdown",
      "source": [
        "**Instalación y Configuración**\n",
        "\n",
        "Antes de comenzar, asegúrate de tener NumPy instalado en tu entorno de Python. Puedes instalarlo usando pip:"
      ],
      "metadata": {
        "id": "fRG8iIwnIPcI"
      }
    },
    {
      "cell_type": "code",
      "execution_count": null,
      "metadata": {
        "id": "E6n0_5YgEx3b",
        "outputId": "cf6642a9-5569-4802-bff9-5a376c00f511",
        "colab": {
          "base_uri": "https://localhost:8080/"
        }
      },
      "outputs": [
        {
          "output_type": "stream",
          "name": "stdout",
          "text": [
            "Requirement already satisfied: numpy in /usr/local/lib/python3.11/dist-packages (2.0.2)\n",
            "Versión de NumPy: 2.0.2\n"
          ]
        }
      ],
      "source": [
        "# Instalación\n",
        "!pip install numpy\n",
        "\n",
        "# Importación y verificación de versión\n",
        "import numpy as np\n",
        "print(\"Versión de NumPy:\", np.__version__)\n"
      ]
    },
    {
      "cell_type": "markdown",
      "source": [
        "## 2. Creación de Arrays\n",
        "\n",
        "Los arrays son la base de NumPy y representan colecciones de elementos del mismo tipo de datos. Veamos cómo crearlos de diferentes maneras."
      ],
      "metadata": {
        "id": "RrMGewNBIZn6"
      }
    },
    {
      "cell_type": "markdown",
      "source": [
        "### 2.1. Crear un Array desde una Lista\n",
        "\n"
      ],
      "metadata": {
        "id": "2XsuIW6uId-l"
      }
    },
    {
      "cell_type": "markdown",
      "source": [
        "**Ejemplo 1:** Array Unidimensional"
      ],
      "metadata": {
        "id": "4pvP6k9WIhc0"
      }
    },
    {
      "cell_type": "code",
      "source": [
        "# Array unidimensional desde una lista\n",
        "array_1d = np.array([10, 20, 30, 40])\n",
        "print(\"Array 1D:\", array_1d)\n"
      ],
      "metadata": {
        "id": "qDP_GFbxIkKw"
      },
      "execution_count": null,
      "outputs": []
    },
    {
      "cell_type": "markdown",
      "source": [
        "**Ejemplo 2:** Array Multidimensional\n"
      ],
      "metadata": {
        "id": "mXxNsPyvIlV1"
      }
    },
    {
      "cell_type": "code",
      "source": [
        "# Array bidimensional desde una lista de listas\n",
        "array_2d = np.array([[1, 2, 3], [4, 5, 6]])\n",
        "print(\"Array 2D:\\n\", array_2d)\n"
      ],
      "metadata": {
        "id": "aS-adtWIIn4-"
      },
      "execution_count": null,
      "outputs": []
    },
    {
      "cell_type": "markdown",
      "source": [
        "**Ejercicios**\n",
        "\n",
        "Crea un array unidimensional con los números del 5 al 15.\n"
      ],
      "metadata": {
        "id": "1lO2bWukIpsZ"
      }
    },
    {
      "cell_type": "code",
      "source": [],
      "metadata": {
        "id": "UvYaoXNNIr3s"
      },
      "execution_count": null,
      "outputs": []
    },
    {
      "cell_type": "markdown",
      "source": [
        "Genera un array bidimensional de 2 filas y 3 columnas con números decimales.\n"
      ],
      "metadata": {
        "id": "fQAxYYgGIsPI"
      }
    },
    {
      "cell_type": "code",
      "source": [],
      "metadata": {
        "id": "6xk_t1lvItOc"
      },
      "execution_count": null,
      "outputs": []
    },
    {
      "cell_type": "markdown",
      "source": [
        "Crea un array tridimensional de forma (2, 2, 2) con números enteros."
      ],
      "metadata": {
        "id": "neWSQ9rhItix"
      }
    },
    {
      "cell_type": "code",
      "source": [],
      "metadata": {
        "id": "ipNPU5llIuMe"
      },
      "execution_count": null,
      "outputs": []
    },
    {
      "cell_type": "markdown",
      "source": [
        "### 2.2. Arrays Predefinidos\n",
        "\n",
        "NumPy ofrece funciones para crear arrays con valores predefinidos, lo cual es útil para inicializar matrices o vectores."
      ],
      "metadata": {
        "id": "BfYFGcnUIxHJ"
      }
    },
    {
      "cell_type": "markdown",
      "source": [
        "**Ejemplo 1:** Arrays de Ceros y Unos"
      ],
      "metadata": {
        "id": "PWIFkBp_Iy4P"
      }
    },
    {
      "cell_type": "code",
      "source": [
        "# Array de ceros de forma (3, 3)\n",
        "zeros_array = np.zeros((3, 3))\n",
        "print(\"Array de ceros:\\n\", zeros_array)\n",
        "\n",
        "# Array de unos de forma (2, 4)\n",
        "ones_array = np.ones((2, 4))\n",
        "print(\"Array de unos:\\n\", ones_array)\n"
      ],
      "metadata": {
        "id": "hbuDDRF8I25u",
        "outputId": "b95bcb68-cde9-46fc-a7cf-24b3fd1a72e6",
        "colab": {
          "base_uri": "https://localhost:8080/"
        }
      },
      "execution_count": null,
      "outputs": [
        {
          "output_type": "stream",
          "name": "stdout",
          "text": [
            "Array de ceros:\n",
            " [[0. 0. 0.]\n",
            " [0. 0. 0.]\n",
            " [0. 0. 0.]]\n",
            "Array de unos:\n",
            " [[1. 1. 1. 1.]\n",
            " [1. 1. 1. 1.]]\n"
          ]
        }
      ]
    },
    {
      "cell_type": "markdown",
      "source": [
        "**Ejemplo 2:** Array de Valores Constantes\n"
      ],
      "metadata": {
        "id": "LqQHXuY7I4Ym"
      }
    },
    {
      "cell_type": "code",
      "source": [
        "# Array lleno con el valor 7 de forma (3, 2)\n",
        "full_array = np.full((3, 2), 7)\n",
        "print(\"Array lleno de 7:\\n\", full_array)\n"
      ],
      "metadata": {
        "id": "9vwS36YPI7xY"
      },
      "execution_count": null,
      "outputs": []
    },
    {
      "cell_type": "markdown",
      "source": [
        "**Ejercicios**\n",
        "\n",
        "Crea un array de ceros de forma (5, 5).\n"
      ],
      "metadata": {
        "id": "b1SwQWMsI9FP"
      }
    },
    {
      "cell_type": "code",
      "source": [],
      "metadata": {
        "id": "-_yEyccZI-6P"
      },
      "execution_count": null,
      "outputs": []
    },
    {
      "cell_type": "markdown",
      "source": [
        "Genera un array de unos de forma (4, 1).\n"
      ],
      "metadata": {
        "id": "GhwXx5PtJAAW"
      }
    },
    {
      "cell_type": "code",
      "source": [],
      "metadata": {
        "id": "XT48dMVZJA5j"
      },
      "execution_count": null,
      "outputs": []
    },
    {
      "cell_type": "markdown",
      "source": [
        "Crea un array lleno con el número pi (π) de forma (2, 3)."
      ],
      "metadata": {
        "id": "SGvxmghRJBLI"
      }
    },
    {
      "cell_type": "code",
      "source": [],
      "metadata": {
        "id": "sS20FWviJBxa"
      },
      "execution_count": null,
      "outputs": []
    },
    {
      "cell_type": "markdown",
      "source": [
        "### 2.3. Arrays con Rangos\n",
        "\n",
        "Puedes crear arrays con secuencias de números utilizando funciones como arange y linspace."
      ],
      "metadata": {
        "id": "BAgwhzjLJED9"
      }
    },
    {
      "cell_type": "markdown",
      "source": [
        "**Ejemplo 1:** Usando arange\n"
      ],
      "metadata": {
        "id": "rtmwuh78JH0V"
      }
    },
    {
      "cell_type": "code",
      "source": [
        "# Números del 0 al 9\n",
        "arange_array = np.arange(10)\n",
        "print(\"Array con arange:\", arange_array)\n",
        "\n",
        "# Números del 5 al 20 con paso de 3\n",
        "step_array = np.arange(5, 21, 3)\n",
        "print(\"Array con paso de 3:\", step_array)\n"
      ],
      "metadata": {
        "id": "RP2Brk9_JNCb",
        "outputId": "1b215ac5-9895-4fc0-cb5d-2b76c35b2dec",
        "colab": {
          "base_uri": "https://localhost:8080/"
        }
      },
      "execution_count": null,
      "outputs": [
        {
          "output_type": "stream",
          "name": "stdout",
          "text": [
            "Array con arange: [0 1 2 3 4 5 6 7 8 9]\n",
            "Array con paso de 3: [ 5  8 11 14 17 20]\n"
          ]
        }
      ]
    },
    {
      "cell_type": "markdown",
      "source": [
        "**Ejemplo 2:** Usando linspace\n"
      ],
      "metadata": {
        "id": "pd9S1zftJPsh"
      }
    },
    {
      "cell_type": "code",
      "source": [
        "# 5 números igualmente espaciados entre 0 y 1\n",
        "linspace_array = np.linspace(0, 1, 5)\n",
        "print(\"Array con linspace:\", linspace_array)\n",
        "\n",
        "# 4 números igualmente espaciados entre 10 y 50\n",
        "linspace_array2 = np.linspace(10, 50, 4)\n",
        "print(\"Otro array con linspace:\", linspace_array2)\n"
      ],
      "metadata": {
        "id": "Bl9p1w6bJTiE"
      },
      "execution_count": null,
      "outputs": []
    },
    {
      "cell_type": "markdown",
      "source": [
        "**Ejercicios**\n",
        "\n",
        "Crea un array con números del 0 al 50, cada 5 unidades.\n"
      ],
      "metadata": {
        "id": "rDSGA2q0JTDW"
      }
    },
    {
      "cell_type": "code",
      "source": [],
      "metadata": {
        "id": "Bi__OawoJYDp"
      },
      "execution_count": null,
      "outputs": []
    },
    {
      "cell_type": "markdown",
      "source": [
        "Genera un array con 7 números igualmente espaciados entre 2 y 3.\n"
      ],
      "metadata": {
        "id": "fxwDjQ-8JYbd"
      }
    },
    {
      "cell_type": "code",
      "source": [],
      "metadata": {
        "id": "qzw4xbfEJZQL"
      },
      "execution_count": null,
      "outputs": []
    },
    {
      "cell_type": "markdown",
      "source": [
        "Crea un array con números enteros del 10 al 1 en orden descendente."
      ],
      "metadata": {
        "id": "MKgchpFDJZjJ"
      }
    },
    {
      "cell_type": "markdown",
      "source": [
        "## 2.4. Arrays Aleatorios\n",
        "\n",
        "NumPy incluye funciones para generar arrays con números aleatorios, lo cual es útil en simulaciones y pruebas.\n",
        "\n"
      ],
      "metadata": {
        "id": "YQuW--NgJcMw"
      }
    },
    {
      "cell_type": "markdown",
      "source": [
        "**Ejemplo 1:** Números Aleatorios Uniformes"
      ],
      "metadata": {
        "id": "_AwItmsDJeNK"
      }
    },
    {
      "cell_type": "code",
      "source": [
        "# Array de forma (2, 3) con números aleatorios entre 0 y 1\n",
        "random_array = np.random.rand(2, 3)\n",
        "print(\"Array aleatorio uniforme:\\n\", random_array)\n"
      ],
      "metadata": {
        "id": "oT08w9NcJi54",
        "outputId": "4c0fa73d-d7df-4603-b50f-e5a29f11781f",
        "colab": {
          "base_uri": "https://localhost:8080/"
        }
      },
      "execution_count": null,
      "outputs": [
        {
          "output_type": "stream",
          "name": "stdout",
          "text": [
            "Array aleatorio uniforme:\n",
            " [[0.67704339 0.21497814 0.70138767]\n",
            " [0.25729748 0.96270681 0.58837505]]\n"
          ]
        }
      ]
    },
    {
      "cell_type": "markdown",
      "source": [
        "**Ejemplo 2:** Números Aleatorios Enteros"
      ],
      "metadata": {
        "id": "TBBPzNawJkOP"
      }
    },
    {
      "cell_type": "code",
      "source": [
        "# Array de enteros aleatorios entre 1 y 100 de forma (3, 3)\n",
        "random_int_array = np.random.randint(1, 100, (3, 3))\n",
        "print(\"Array aleatorio de enteros:\\n\", random_int_array)\n"
      ],
      "metadata": {
        "id": "GiSrB3l7Jm9w"
      },
      "execution_count": null,
      "outputs": []
    },
    {
      "cell_type": "markdown",
      "source": [
        "**Ejercicios**\n",
        "\n",
        "Genera un array de forma (5,) con números aleatorios entre 0 y 1.\n"
      ],
      "metadata": {
        "id": "D8xpw6UOJo6n"
      }
    },
    {
      "cell_type": "code",
      "source": [],
      "metadata": {
        "id": "hwCmoXRxJrPy"
      },
      "execution_count": null,
      "outputs": []
    },
    {
      "cell_type": "markdown",
      "source": [
        "Crea un array de enteros aleatorios entre 50 y 100 de forma (4, 2).\n"
      ],
      "metadata": {
        "id": "0aQPLSfXJrqZ"
      }
    },
    {
      "cell_type": "code",
      "source": [],
      "metadata": {
        "id": "BO8rQm96JtMW"
      },
      "execution_count": null,
      "outputs": []
    },
    {
      "cell_type": "markdown",
      "source": [
        "Genera un array aleatorio de forma (3, 3) y multiplica todos sus elementos por 10."
      ],
      "metadata": {
        "id": "uV1hVnPSJsxQ"
      }
    },
    {
      "cell_type": "code",
      "source": [],
      "metadata": {
        "id": "ituje20kJuOI"
      },
      "execution_count": null,
      "outputs": []
    },
    {
      "cell_type": "markdown",
      "source": [
        "## 3. Propiedades de los Arrays\n",
        "\n",
        "Es importante comprender las propiedades de los arrays para manipularlos eficazmente."
      ],
      "metadata": {
        "id": "6FMC8GNeKKO_"
      }
    },
    {
      "cell_type": "markdown",
      "source": [
        "**Ejemplo 1:** Explorando las Propiedades"
      ],
      "metadata": {
        "id": "fOVWQxxyKL-v"
      }
    },
    {
      "cell_type": "code",
      "source": [
        "array = np.array([[1, 2, 3], [4, 5, 6]])\n",
        "\n",
        "print(\"Array:\\n\", array)\n",
        "print(\"Dimensiones (ndim):\", array.ndim)\n",
        "print(\"Forma (shape):\", array.shape)\n",
        "print(\"Tamaño total (size):\", array.size)\n",
        "print(\"Tipo de datos (dtype):\", array.dtype)\n"
      ],
      "metadata": {
        "id": "XpZnpGyzKQqy"
      },
      "execution_count": null,
      "outputs": []
    },
    {
      "cell_type": "markdown",
      "source": [
        "**Ejemplo 2:** Tamaño en Memoria\n"
      ],
      "metadata": {
        "id": "j7WLYVfrKScL"
      }
    },
    {
      "cell_type": "code",
      "source": [
        "print(\"Tamaño en bytes de un elemento (itemsize):\", array.itemsize)\n",
        "print(\"Tamaño total en memoria (nbytes):\", array.nbytes)\n"
      ],
      "metadata": {
        "id": "8dF0Jx68KVPG"
      },
      "execution_count": null,
      "outputs": []
    },
    {
      "cell_type": "markdown",
      "source": [
        "**Ejercicios**\n",
        "\n",
        "Crea un array de forma (3, 4) y muestra todas sus propiedades.\n"
      ],
      "metadata": {
        "id": "LM9V_Q-4KZ-s"
      }
    },
    {
      "cell_type": "code",
      "source": [],
      "metadata": {
        "id": "KV_opwtRKcis"
      },
      "execution_count": null,
      "outputs": []
    },
    {
      "cell_type": "markdown",
      "source": [
        "Cambia el tipo de datos de un array a float64 y verifica el cambio en dtype.\n"
      ],
      "metadata": {
        "id": "ysZnX5CUKc0J"
      }
    },
    {
      "cell_type": "code",
      "source": [],
      "metadata": {
        "id": "gKxtGsNnKds1"
      },
      "execution_count": null,
      "outputs": []
    },
    {
      "cell_type": "markdown",
      "source": [
        "Calcula el tamaño total en memoria de un array de forma (1000,) con tipo de datos int32."
      ],
      "metadata": {
        "id": "GdDUhD_JKeJc"
      }
    },
    {
      "cell_type": "code",
      "source": [],
      "metadata": {
        "id": "rG4Cic73Keo9"
      },
      "execution_count": null,
      "outputs": []
    },
    {
      "cell_type": "markdown",
      "source": [
        "## 4. Operaciones Básicas\n",
        "\n",
        "Las operaciones vectorizadas en NumPy permiten realizar cálculos de forma eficiente sin necesidad de bucles."
      ],
      "metadata": {
        "id": "_ZfzbbZMKggL"
      }
    },
    {
      "cell_type": "code",
      "source": [],
      "metadata": {
        "id": "zqQaJZbNKiTT"
      },
      "execution_count": null,
      "outputs": []
    },
    {
      "cell_type": "markdown",
      "source": [
        "### 4.1. Operaciones Matemáticas\n",
        "\n",
        "**Ejemplo 1:** Operaciones Elemento a Elemento"
      ],
      "metadata": {
        "id": "ZZ5ZiJ23Kjr8"
      }
    },
    {
      "cell_type": "code",
      "source": [
        "a = np.array([1, 2, 3])\n",
        "b = np.array([4, 5, 6])\n",
        "\n",
        "print(\"Suma:\", a + b)\n",
        "print(\"Resta:\", a - b)\n",
        "print(\"Multiplicación:\", a * b)\n",
        "print(\"División:\", a / b)\n"
      ],
      "metadata": {
        "id": "J8k70bK1KnfQ",
        "outputId": "7fa97d0e-4606-41ea-eb14-4a99b6627803",
        "colab": {
          "base_uri": "https://localhost:8080/"
        }
      },
      "execution_count": null,
      "outputs": [
        {
          "output_type": "stream",
          "name": "stdout",
          "text": [
            "Suma: [5 7 9]\n",
            "Resta: [-3 -3 -3]\n",
            "Multiplicación: [ 4 10 18]\n",
            "División: [0.25 0.4  0.5 ]\n"
          ]
        }
      ]
    },
    {
      "cell_type": "markdown",
      "source": [
        "**Ejemplo 2:** Operaciones con Escalares"
      ],
      "metadata": {
        "id": "3zdS8pjHKp5y"
      }
    },
    {
      "cell_type": "code",
      "source": [
        "# Multiplicación por un escalar\n",
        "scalar_mult = a * 10\n",
        "print(\"Multiplicación por escalar:\", scalar_mult)\n",
        "\n",
        "# Exponenciación\n",
        "exp_array = a ** 2\n",
        "print(\"Exponenciación:\", exp_array)\n"
      ],
      "metadata": {
        "id": "ToBiN8JpKsoA",
        "outputId": "f83ca27f-86a6-48b1-9b31-c6bdd78fe436",
        "colab": {
          "base_uri": "https://localhost:8080/"
        }
      },
      "execution_count": null,
      "outputs": [
        {
          "output_type": "stream",
          "name": "stdout",
          "text": [
            "Multiplicación por escalar: [10 20 30]\n",
            "Exponenciación: [1 4 9]\n"
          ]
        }
      ]
    },
    {
      "cell_type": "markdown",
      "source": [
        "**Ejercicios**\n",
        "\n",
        "Dado x = np.array([2, 4, 6]) y y = np.array([1, 3, 5]), calcula x * y y x / y.\n"
      ],
      "metadata": {
        "id": "nhMdHCVMKwek"
      }
    },
    {
      "cell_type": "code",
      "source": [
        "  x = np.array([2, 4, 6])\n",
        "  y = np.array([1, 3, 5])\n",
        "\n",
        "  producto = x*y\n",
        "  division = x/y\n",
        "  print(producto)\n",
        "  print(division)"
      ],
      "metadata": {
        "id": "OH1e4ZKeKya9",
        "outputId": "fb05ca21-1b1a-4598-8c13-a01464129eac",
        "colab": {
          "base_uri": "https://localhost:8080/"
        }
      },
      "execution_count": null,
      "outputs": [
        {
          "output_type": "stream",
          "name": "stdout",
          "text": [
            "[ 2 12 30]\n",
            "[2.         1.33333333 1.2       ]\n"
          ]
        }
      ]
    },
    {
      "cell_type": "markdown",
      "source": [
        "Eleva al cubo cada elemento del array x.\n"
      ],
      "metadata": {
        "id": "IZz-g8RLKyuR"
      }
    },
    {
      "cell_type": "code",
      "source": [
        "print(x**3)"
      ],
      "metadata": {
        "id": "7clSC3JQKzeS",
        "outputId": "e66b651e-5a28-466e-87da-c82d96a8a1f6",
        "colab": {
          "base_uri": "https://localhost:8080/"
        }
      },
      "execution_count": null,
      "outputs": [
        {
          "output_type": "stream",
          "name": "stdout",
          "text": [
            "[  8  64 216]\n"
          ]
        }
      ]
    },
    {
      "cell_type": "markdown",
      "source": [
        "Suma 5 a cada elemento del array y y luego calcula la raíz cuadrada."
      ],
      "metadata": {
        "id": "Q2mjFACFKz8A"
      }
    },
    {
      "cell_type": "code",
      "source": [
        "y_n = y+5\n",
        "y_square = y_n**0.5\n",
        "print(y_square)"
      ],
      "metadata": {
        "id": "hcVvU9_kK0ex",
        "outputId": "c26ab4d0-98c5-4e1e-f37f-5e686863437a",
        "colab": {
          "base_uri": "https://localhost:8080/"
        }
      },
      "execution_count": null,
      "outputs": [
        {
          "output_type": "stream",
          "name": "stdout",
          "text": [
            "[2.44948974 2.82842712 3.16227766]\n"
          ]
        }
      ]
    },
    {
      "cell_type": "markdown",
      "source": [
        "### 4.2. Funciones Matemáticas\n",
        "\n",
        "NumPy proporciona funciones universales (ufuncs) para realizar operaciones matemáticas."
      ],
      "metadata": {
        "id": "WODIREp4K2ib"
      }
    },
    {
      "cell_type": "markdown",
      "source": [
        "**Ejemplo 1:** Funciones Estadísticas"
      ],
      "metadata": {
        "id": "jNGzBcfVK4_o"
      }
    },
    {
      "cell_type": "code",
      "source": [
        "array = np.array([1, 5, 2, 8, 3])\n",
        "\n",
        "print(\"Suma total:\", array.sum())\n",
        "print(\"Promedio:\", array.mean())\n",
        "print(\"Mediana:\", np.median(array))\n",
        "print(\"Desviación estándar:\", array.std())\n"
      ],
      "metadata": {
        "id": "xASKDx3_K7iJ",
        "outputId": "e979ee11-32c0-4e4c-8350-01acf8e63280",
        "colab": {
          "base_uri": "https://localhost:8080/"
        }
      },
      "execution_count": null,
      "outputs": [
        {
          "output_type": "stream",
          "name": "stdout",
          "text": [
            "Suma total: 19\n",
            "Promedio: 3.8\n",
            "Mediana: 3.0\n",
            "Desviación estándar: 2.4819347291981715\n"
          ]
        }
      ]
    },
    {
      "cell_type": "markdown",
      "source": [
        "**Ejemplo 2:** Funciones Trigonométricas y Exponenciales"
      ],
      "metadata": {
        "id": "wq0HpPy_K829"
      }
    },
    {
      "cell_type": "code",
      "source": [
        "angles = np.array([0, np.pi/2, np.pi])\n",
        "\n",
        "print(\"Seno:\", np.sin(angles))\n",
        "print(\"Coseno:\", np.cos(angles))\n",
        "print(\"Exponencial:\", np.exp(array))\n"
      ],
      "metadata": {
        "id": "p6lBxM1tK_Uv",
        "outputId": "f8dd0a98-a0cb-41fd-a442-f1245537711b",
        "colab": {
          "base_uri": "https://localhost:8080/"
        }
      },
      "execution_count": null,
      "outputs": [
        {
          "output_type": "stream",
          "name": "stdout",
          "text": [
            "Seno: [0.0000000e+00 1.0000000e+00 1.2246468e-16]\n",
            "Coseno: [ 1.000000e+00  6.123234e-17 -1.000000e+00]\n",
            "Exponencial: [2.71828183e+00 1.48413159e+02 7.38905610e+00 2.98095799e+03\n",
            " 2.00855369e+01]\n"
          ]
        }
      ]
    },
    {
      "cell_type": "markdown",
      "source": [
        "**Ejercicios**\n",
        "\n",
        "Calcula el valor máximo y mínimo de un array aleatorio de forma (10,).\n"
      ],
      "metadata": {
        "id": "HLe7TxnSLB4f"
      }
    },
    {
      "cell_type": "code",
      "source": [
        "# Array de forma (10) con números aleatorios entre 0 y 1\n",
        "random_array = np.random.rand(10)\n",
        "print(random_array.max())\n",
        "print(random_array.min())\n",
        "\n",
        "print(\"Array aleatorio uniforme:\\n\", random_array)\n"
      ],
      "metadata": {
        "id": "-sIV4FogLECl",
        "outputId": "921111e0-91ce-43dd-a0f4-86dd9e402d54",
        "colab": {
          "base_uri": "https://localhost:8080/"
        }
      },
      "execution_count": null,
      "outputs": [
        {
          "output_type": "stream",
          "name": "stdout",
          "text": [
            "0.9878390790986892\n",
            "0.05435919519120702\n",
            "Array aleatorio uniforme:\n",
            " [0.1616568  0.85031609 0.45840543 0.79202214 0.15713015 0.58953378\n",
            " 0.61264256 0.63343989 0.0543592  0.98783908]\n"
          ]
        }
      ]
    },
    {
      "cell_type": "markdown",
      "source": [
        "Dado un array de ángulos en grados, conviértelos a radianes y calcula su seno.\n"
      ],
      "metadata": {
        "id": "lHX70BQ8LEoH"
      }
    },
    {
      "cell_type": "code",
      "source": [
        "angles = np.array([0, np.pi/2, np.pi])*np.pi/180\n",
        "\n",
        "print(np.sin(angles))"
      ],
      "metadata": {
        "id": "ZnbtCRT9LFxL",
        "outputId": "b734aab3-bcaf-489f-8c45-9f647125df40",
        "colab": {
          "base_uri": "https://localhost:8080/"
        }
      },
      "execution_count": null,
      "outputs": [
        {
          "output_type": "stream",
          "name": "stdout",
          "text": [
            "[0.         0.02741213 0.05480367]\n"
          ]
        }
      ]
    },
    {
      "cell_type": "markdown",
      "source": [
        "Genera un array y normalízalo restando la media y dividiendo por la desviación estándar."
      ],
      "metadata": {
        "id": "_e4fCBRnLGHq"
      }
    },
    {
      "cell_type": "code",
      "source": [
        "random_array_two = np.random.rand(100)\n",
        "normalize_object = (random_array_two - random_array_two.mean())/random_array_two.std()\n",
        "print(random_array_two)\n"
      ],
      "metadata": {
        "id": "v6VxZ1wULGli",
        "outputId": "e5294f93-c5d9-4209-8848-b3d26f27dffd",
        "colab": {
          "base_uri": "https://localhost:8080/"
        }
      },
      "execution_count": null,
      "outputs": [
        {
          "output_type": "stream",
          "name": "stdout",
          "text": [
            "[0.75646279 0.30182314 0.17930772 0.47488968 0.59591701 0.33240466\n",
            " 0.44991165 0.09851815 0.45519971 0.53799317 0.24696837 0.02647807\n",
            " 0.33198244 0.34006161 0.37737064 0.84411643 0.16126048 0.28509524\n",
            " 0.57727472 0.95033986 0.15741545 0.16476905 0.1071715  0.23233132\n",
            " 0.68045447 0.60226827 0.02211472 0.82043609 0.70215316 0.78421858\n",
            " 0.42831331 0.53057709 0.04444371 0.20354648 0.28840777 0.20852222\n",
            " 0.54279721 0.12537588 0.72562321 0.33865375 0.18695078 0.38322876\n",
            " 0.93217546 0.08761761 0.44892881 0.84329923 0.50601121 0.22474933\n",
            " 0.7564275  0.83594957 0.3715937  0.17867177 0.82634274 0.96800543\n",
            " 0.04349099 0.53780633 0.49959754 0.41681176 0.73561921 0.79202989\n",
            " 0.93331953 0.62339171 0.4832326  0.46874938 0.89165929 0.58285124\n",
            " 0.64143933 0.9272535  0.52009979 0.3840884  0.6489845  0.02335676\n",
            " 0.60221461 0.87181839 0.42963735 0.89001236 0.23620414 0.46359964\n",
            " 0.69501296 0.84361023 0.60348379 0.00734215 0.65509822 0.67585683\n",
            " 0.31467671 0.50340558 0.56913374 0.37864811 0.95827069 0.96110569\n",
            " 0.07948059 0.30821313 0.71683695 0.01754333 0.56139598 0.37531562\n",
            " 0.32330076 0.18549566 0.42131038 0.23103896]\n"
          ]
        }
      ]
    },
    {
      "cell_type": "markdown",
      "source": [
        "## 5. Indexación y Slicing\n",
        "\n",
        "La indexación y el slicing te permiten acceder y modificar partes específicas de un array."
      ],
      "metadata": {
        "id": "KF8Ww8C2LJun"
      }
    },
    {
      "cell_type": "markdown",
      "source": [
        "**Ejemplo 1:** Acceso a Elementos Individuales"
      ],
      "metadata": {
        "id": "kVCshuOMLMeH"
      }
    },
    {
      "cell_type": "code",
      "source": [
        "array = np.array([1,2,3,4,5,6,7,8,9,10])\n",
        "array[-3:]\n",
        "array_2 = np.array([[1,2,3,4,5,6,7,8,9,10],\n",
        "                   [1,2,3,4,5,6,7,8,9,10]])\n",
        "print(array_2)\n",
        "array_2[1][-6:]\n",
        "\n",
        "\n"
      ],
      "metadata": {
        "id": "92yZBZCktOwJ",
        "outputId": "614417ab-96d9-4801-cb08-072ce416c4ad",
        "colab": {
          "base_uri": "https://localhost:8080/"
        }
      },
      "execution_count": null,
      "outputs": [
        {
          "output_type": "stream",
          "name": "stdout",
          "text": [
            "[[ 1  2  3  4  5  6  7  8  9 10]\n",
            " [ 1  2  3  4  5  6  7  8  9 10]]\n"
          ]
        },
        {
          "output_type": "execute_result",
          "data": {
            "text/plain": [
              "array([ 5,  6,  7,  8,  9, 10])"
            ]
          },
          "metadata": {},
          "execution_count": 50
        }
      ]
    },
    {
      "cell_type": "code",
      "source": [],
      "metadata": {
        "id": "WzzY66bftlTY"
      },
      "execution_count": null,
      "outputs": []
    },
    {
      "cell_type": "code",
      "source": [],
      "metadata": {
        "id": "UBbppUantkYU"
      },
      "execution_count": null,
      "outputs": []
    },
    {
      "cell_type": "code",
      "source": [
        "array = np.array([[10, 20, 30], [40, 50, 60]])\n",
        "\n",
        "# Acceder al elemento en la fila 1, columna 2\n",
        "element = array[1, 2]\n",
        "print(\"Elemento en (1, 2):\", element)\n"
      ],
      "metadata": {
        "id": "N6FHk0zCLOkn",
        "outputId": "ff867e81-ebcb-4b26-bc74-966f609b956f",
        "colab": {
          "base_uri": "https://localhost:8080/"
        }
      },
      "execution_count": null,
      "outputs": [
        {
          "output_type": "stream",
          "name": "stdout",
          "text": [
            "Elemento en (1, 2): 60\n"
          ]
        }
      ]
    },
    {
      "cell_type": "markdown",
      "source": [
        "**Ejemplo 2:** Slicing de Subarrays"
      ],
      "metadata": {
        "id": "W04G7WXhLQY7"
      }
    },
    {
      "cell_type": "code",
      "source": [
        "# Obtener la primera fila\n",
        "first_row = array[0, :]\n",
        "print(\"Primera fila:\", first_row)\n",
        "\n",
        "# Obtener la segunda columna\n",
        "second_col = array[:, 1]\n",
        "print(\"Segunda columna:\", second_col)\n",
        "\n",
        "# Obtener un subarray de forma (2, 2)\n",
        "subarray = array[:, :2]\n",
        "print(\"Subarray:\\n\", subarray)\n"
      ],
      "metadata": {
        "id": "nYsbLlPkLTkE",
        "outputId": "c0575a74-d016-4dfa-8aa5-f174eb44fdf5",
        "colab": {
          "base_uri": "https://localhost:8080/"
        }
      },
      "execution_count": null,
      "outputs": [
        {
          "output_type": "stream",
          "name": "stdout",
          "text": [
            "Primera fila: [10 20 30]\n",
            "Segunda columna: [20 50]\n",
            "Subarray:\n",
            " [[10 20]\n",
            " [40 50]]\n"
          ]
        }
      ]
    },
    {
      "cell_type": "markdown",
      "source": [
        "**Ejercicios**\n",
        "\n",
        "Dado un array de forma (5, 5), extrae la submatriz central de forma (3, 3).\n"
      ],
      "metadata": {
        "id": "h0hmXAUWLVMH"
      }
    },
    {
      "cell_type": "code",
      "source": [
        "array_n = np.random.rand(5,5)\n",
        "print(array_n)\n",
        "array_central = array_n[1:4][:,1:4]\n",
        "\n",
        "print(f\"\\n{array_central}\")"
      ],
      "metadata": {
        "id": "pE8qS-fkLXMs",
        "outputId": "0177b06a-7e08-4243-a3d1-5f55c6176c3a",
        "colab": {
          "base_uri": "https://localhost:8080/"
        }
      },
      "execution_count": null,
      "outputs": [
        {
          "output_type": "stream",
          "name": "stdout",
          "text": [
            "[[0.88253684 0.40479805 0.61923949 0.61478538 0.45993529]\n",
            " [0.50981457 0.21513516 0.22324173 0.33210986 0.80413172]\n",
            " [0.67271706 0.2209469  0.20451448 0.89763118 0.35508568]\n",
            " [0.97294512 0.07159079 0.05921723 0.66706782 0.89764031]\n",
            " [0.66844729 0.23023981 0.84962059 0.14119846 0.5200659 ]]\n",
            "\n",
            "[[0.21513516 0.22324173 0.33210986]\n",
            " [0.2209469  0.20451448 0.89763118]\n",
            " [0.07159079 0.05921723 0.66706782]]\n"
          ]
        }
      ]
    },
    {
      "cell_type": "markdown",
      "source": [
        "Cambia los elementos de la última fila de un array a ceros.\n"
      ],
      "metadata": {
        "id": "kCzFymdvLXeE"
      }
    },
    {
      "cell_type": "code",
      "source": [
        "array_new = np.random.rand(4,4)\n",
        "print(array_new)\n",
        "\n",
        "array_new[3] = np.array([0,0,0,0])\n",
        "print(f\"\\n{array_new}\")\n",
        "\n",
        "\n"
      ],
      "metadata": {
        "id": "uhlekJpXLYNM",
        "outputId": "6cac094f-f5dd-4a5c-960e-ce5482aea9ac",
        "colab": {
          "base_uri": "https://localhost:8080/"
        }
      },
      "execution_count": null,
      "outputs": [
        {
          "output_type": "stream",
          "name": "stdout",
          "text": [
            "[[0.31255355 0.51326267 0.0627043  0.44303864]\n",
            " [0.05188277 0.6855619  0.85633197 0.49001756]\n",
            " [0.25199602 0.8254129  0.12760454 0.63730016]\n",
            " [0.79611545 0.43597511 0.85272539 0.6240744 ]]\n",
            "\n",
            "[[0.31255355 0.51326267 0.0627043  0.44303864]\n",
            " [0.05188277 0.6855619  0.85633197 0.49001756]\n",
            " [0.25199602 0.8254129  0.12760454 0.63730016]\n",
            " [0.         0.         0.         0.        ]]\n"
          ]
        }
      ]
    },
    {
      "cell_type": "markdown",
      "source": [
        "Invierte el orden de los elementos en un array unidimensional.\n"
      ],
      "metadata": {
        "id": "8Jd2SqOnLYjM"
      }
    },
    {
      "cell_type": "code",
      "source": [
        "array_uni = np.random.rand(10)\n",
        "array_reversed = array_uni[::-1]\n",
        "reversed_number = list(reversed(array_uni))\n",
        "\n",
        "print(reversed_number)\n",
        "# print(array_uni)\n",
        "# print(array_reversed)"
      ],
      "metadata": {
        "id": "gfP97SQ-LZDH",
        "outputId": "9f152ae4-524e-4324-ea46-bebbc5e80e29",
        "colab": {
          "base_uri": "https://localhost:8080/"
        }
      },
      "execution_count": null,
      "outputs": [
        {
          "output_type": "stream",
          "name": "stdout",
          "text": [
            "[np.float64(0.4228626066050367), np.float64(0.31727249742929475), np.float64(0.17288385769819603), np.float64(0.49714609518598785), np.float64(0.7694720594942603), np.float64(0.1753606432301421), np.float64(0.33012118802337165), np.float64(0.2945715267450566), np.float64(0.18233789555474056), np.float64(0.39876989725494594)]\n"
          ]
        }
      ]
    },
    {
      "cell_type": "markdown",
      "source": [
        "## 6. Manipulación de la Forma"
      ],
      "metadata": {
        "id": "tUQbknw-La1r"
      }
    },
    {
      "cell_type": "markdown",
      "source": [
        "### 6.1. Reshape\n",
        "\n",
        "Cambiar la forma de un array sin alterar sus datos."
      ],
      "metadata": {
        "id": "awa1o4IaLiBN"
      }
    },
    {
      "cell_type": "markdown",
      "source": [
        "**Ejemplo 1:** Reshape Básico"
      ],
      "metadata": {
        "id": "wz7bgZdOLlBz"
      }
    },
    {
      "cell_type": "code",
      "source": [
        "array = np.arange(12)\n",
        "print(array)\n",
        "reshaped_array = array.reshape(3,2,2) #La cantidad de items se debe distribuir igualmente al original\n",
        "print(\"Array reestructurado:\\n\", reshaped_array)\n"
      ],
      "metadata": {
        "id": "pDdVT82jLoLT",
        "outputId": "f022e4d2-8fcf-4333-8b73-c490058bf701",
        "colab": {
          "base_uri": "https://localhost:8080/"
        }
      },
      "execution_count": null,
      "outputs": [
        {
          "output_type": "stream",
          "name": "stdout",
          "text": [
            "[ 0  1  2  3  4  5  6  7  8  9 10 11]\n",
            "Array reestructurado:\n",
            " [[[ 0  1]\n",
            "  [ 2  3]]\n",
            "\n",
            " [[ 4  5]\n",
            "  [ 6  7]]\n",
            "\n",
            " [[ 8  9]\n",
            "  [10 11]]]\n"
          ]
        }
      ]
    },
    {
      "cell_type": "markdown",
      "source": [
        "**Ejemplo 2:** Reshape con -1"
      ],
      "metadata": {
        "id": "wTsrHxKQLpk0"
      }
    },
    {
      "cell_type": "code",
      "source": [
        "# NumPy calcula automáticamente el tamaño faltante\n",
        "reshaped_array = array.reshape(2, -1)\n",
        "print(\"Array reestructurado con -1:\\n\", reshaped_array)\n"
      ],
      "metadata": {
        "id": "I9GVSmOfLuNM"
      },
      "execution_count": null,
      "outputs": []
    },
    {
      "cell_type": "markdown",
      "source": [
        "**Ejercicios**\n",
        "\n",
        "Convierte un array de forma (6,) en uno de forma (2, 3).\n"
      ],
      "metadata": {
        "id": "xFrtwPcILxiV"
      }
    },
    {
      "cell_type": "code",
      "source": [
        "array_six = np.random.rand(6)\n",
        "array_six_reshape = array_six.reshape(2,3)\n",
        "print(array_six)\n",
        "print(\"\\n\")\n",
        "print(array_six_reshape)\n"
      ],
      "metadata": {
        "id": "pArTpgpALzyF",
        "outputId": "e8c58278-69ec-4bec-d5f6-6816f1d9281d",
        "colab": {
          "base_uri": "https://localhost:8080/"
        }
      },
      "execution_count": null,
      "outputs": [
        {
          "output_type": "stream",
          "name": "stdout",
          "text": [
            "[0.58517648 0.29543689 0.66246091 0.88000785 0.36888626 0.62263339]\n",
            "\n",
            "\n",
            "[[0.58517648 0.29543689 0.66246091]\n",
            " [0.88000785 0.36888626 0.62263339]]\n"
          ]
        }
      ]
    },
    {
      "cell_type": "markdown",
      "source": [
        "Dado un array de forma (4, 3), conviértelo en uno de forma (2, 2, 3).\n"
      ],
      "metadata": {
        "id": "t0XuWwrdL0HC"
      }
    },
    {
      "cell_type": "code",
      "source": [
        "array_new = np.random.rand(4,3)\n",
        "array_reshape = array_new.reshape(2,2,3)\n",
        "print(array_new)\n",
        "print(\"\\n\")\n",
        "print(array_reshape)"
      ],
      "metadata": {
        "id": "9q0njuxFL1ac",
        "outputId": "ae674373-c5d2-4774-961c-4f0c77742a65",
        "colab": {
          "base_uri": "https://localhost:8080/"
        }
      },
      "execution_count": null,
      "outputs": [
        {
          "output_type": "stream",
          "name": "stdout",
          "text": [
            "[[0.16947175 0.20615077 0.74817942]\n",
            " [0.91879202 0.71662845 0.65806803]\n",
            " [0.09362406 0.54829559 0.48497673]\n",
            " [0.28475329 0.3957308  0.11750005]]\n",
            "\n",
            "\n",
            "[[[0.16947175 0.20615077 0.74817942]\n",
            "  [0.91879202 0.71662845 0.65806803]]\n",
            "\n",
            " [[0.09362406 0.54829559 0.48497673]\n",
            "  [0.28475329 0.3957308  0.11750005]]]\n"
          ]
        }
      ]
    },
    {
      "cell_type": "markdown",
      "source": [
        "Aplana un array multidimensional a un array unidimensional."
      ],
      "metadata": {
        "id": "P-mXYzDrL1tk"
      }
    },
    {
      "cell_type": "code",
      "source": [
        "array_new = np.random.rand(4,4,4)\n",
        "print(array_new)\n",
        "array_new_reshape = array_new.reshape(1,-1)\n",
        "print(array_new_reshape)"
      ],
      "metadata": {
        "id": "nXzfrF39L2KE",
        "outputId": "4c110619-91e1-40ad-bc37-e7f02ddde25b",
        "colab": {
          "base_uri": "https://localhost:8080/"
        }
      },
      "execution_count": null,
      "outputs": [
        {
          "output_type": "stream",
          "name": "stdout",
          "text": [
            "[[[0.05414836 0.16653995 0.92184871 0.0561137 ]\n",
            "  [0.82556874 0.08258749 0.07034787 0.51513152]\n",
            "  [0.66793093 0.40349865 0.24611127 0.03726718]\n",
            "  [0.46650644 0.42791402 0.44511917 0.9122504 ]]\n",
            "\n",
            " [[0.41458517 0.79096206 0.1370701  0.67059248]\n",
            "  [0.30505289 0.76394949 0.91504572 0.66597453]\n",
            "  [0.28968352 0.60250946 0.42606879 0.7030266 ]\n",
            "  [0.06440877 0.12458614 0.71089212 0.23093709]]\n",
            "\n",
            " [[0.87213056 0.66928964 0.15791899 0.26490683]\n",
            "  [0.12536053 0.99163293 0.49085766 0.47763484]\n",
            "  [0.99467474 0.82963794 0.52516835 0.17008702]\n",
            "  [0.64603654 0.13035234 0.9751022  0.65202079]]\n",
            "\n",
            " [[0.08617839 0.35016747 0.76289429 0.56080228]\n",
            "  [0.01042274 0.22900445 0.33138667 0.55266961]\n",
            "  [0.09837218 0.04496784 0.78540991 0.77581644]\n",
            "  [0.29708674 0.31829308 0.30933838 0.08690413]]]\n",
            "[[0.05414836 0.16653995 0.92184871 0.0561137  0.82556874 0.08258749\n",
            "  0.07034787 0.51513152 0.66793093 0.40349865 0.24611127 0.03726718\n",
            "  0.46650644 0.42791402 0.44511917 0.9122504  0.41458517 0.79096206\n",
            "  0.1370701  0.67059248 0.30505289 0.76394949 0.91504572 0.66597453\n",
            "  0.28968352 0.60250946 0.42606879 0.7030266  0.06440877 0.12458614\n",
            "  0.71089212 0.23093709 0.87213056 0.66928964 0.15791899 0.26490683\n",
            "  0.12536053 0.99163293 0.49085766 0.47763484 0.99467474 0.82963794\n",
            "  0.52516835 0.17008702 0.64603654 0.13035234 0.9751022  0.65202079\n",
            "  0.08617839 0.35016747 0.76289429 0.56080228 0.01042274 0.22900445\n",
            "  0.33138667 0.55266961 0.09837218 0.04496784 0.78540991 0.77581644\n",
            "  0.29708674 0.31829308 0.30933838 0.08690413]]\n"
          ]
        }
      ]
    },
    {
      "cell_type": "code",
      "source": [
        "import math\n",
        "math.pow(2,3)\n"
      ],
      "metadata": {
        "id": "XDvk6CGQ70hx",
        "outputId": "a897ce7b-220d-4dc9-b429-06dc9095593f",
        "colab": {
          "base_uri": "https://localhost:8080/"
        }
      },
      "execution_count": null,
      "outputs": [
        {
          "output_type": "execute_result",
          "data": {
            "text/plain": [
              "8.0"
            ]
          },
          "metadata": {},
          "execution_count": 122
        }
      ]
    },
    {
      "cell_type": "code",
      "source": [
        "from math import pow\n",
        "pow(3,2)"
      ],
      "metadata": {
        "id": "zSTPDEQv8BIG",
        "outputId": "5a7ca1ae-a453-4906-d2d8-ff1efbad8ba9",
        "colab": {
          "base_uri": "https://localhost:8080/"
        }
      },
      "execution_count": null,
      "outputs": [
        {
          "output_type": "execute_result",
          "data": {
            "text/plain": [
              "9.0"
            ]
          },
          "metadata": {},
          "execution_count": 123
        }
      ]
    },
    {
      "cell_type": "markdown",
      "source": [
        "### 6.2. Transposición\n",
        "\n",
        "Intercambia los ejes de un array."
      ],
      "metadata": {
        "id": "TFnrJvXzL33n"
      }
    },
    {
      "cell_type": "markdown",
      "source": [
        "**Ejemplo 1:** Transposición de Matriz"
      ],
      "metadata": {
        "id": "tI4uLHpaL7Tw"
      }
    },
    {
      "cell_type": "code",
      "source": [
        "matrix = np.array([[1, 2],\n",
        "                   [3, 4],\n",
        "                   [5, 6]])\n",
        "\n",
        "transposed_matrix = matrix.T\n",
        "print(\"Matriz original:\\n\", matrix)\n",
        "print(\"Matriz transpuesta:\\n\", transposed_matrix)\n"
      ],
      "metadata": {
        "id": "pNW8t7itL6xm",
        "outputId": "8c6887f7-3fbd-4e0a-9bbe-d5d2f40b0fcc",
        "colab": {
          "base_uri": "https://localhost:8080/"
        }
      },
      "execution_count": null,
      "outputs": [
        {
          "output_type": "stream",
          "name": "stdout",
          "text": [
            "Matriz original:\n",
            " [[1 2]\n",
            " [3 4]\n",
            " [5 6]]\n",
            "Matriz transpuesta:\n",
            " [[1 3 5]\n",
            " [2 4 6]]\n"
          ]
        }
      ]
    },
    {
      "cell_type": "code",
      "source": [
        "X = np.random.rand(3,3)\n",
        "X.T\n",
        "\n",
        "array = np.random.rand(2,3,4)\n",
        "print(array)\n",
        "array.T\n"
      ],
      "metadata": {
        "id": "CS9MhBJ69j6a",
        "outputId": "aac8e06c-0b2d-4f80-e6a8-5346e5cbfb69",
        "colab": {
          "base_uri": "https://localhost:8080/"
        }
      },
      "execution_count": null,
      "outputs": [
        {
          "output_type": "stream",
          "name": "stdout",
          "text": [
            "[[[0.29394351 0.4392648  0.74705168 0.75769472]\n",
            "  [0.34757882 0.14507731 0.37572262 0.38107587]\n",
            "  [0.22547203 0.75683105 0.41891385 0.81835355]]\n",
            "\n",
            " [[0.440184   0.12843411 0.9064015  0.51778777]\n",
            "  [0.7603453  0.14099239 0.92291774 0.60012748]\n",
            "  [0.97714026 0.55359496 0.98830369 0.20150217]]]\n"
          ]
        },
        {
          "output_type": "execute_result",
          "data": {
            "text/plain": [
              "array([[[0.29394351, 0.440184  ],\n",
              "        [0.34757882, 0.7603453 ],\n",
              "        [0.22547203, 0.97714026]],\n",
              "\n",
              "       [[0.4392648 , 0.12843411],\n",
              "        [0.14507731, 0.14099239],\n",
              "        [0.75683105, 0.55359496]],\n",
              "\n",
              "       [[0.74705168, 0.9064015 ],\n",
              "        [0.37572262, 0.92291774],\n",
              "        [0.41891385, 0.98830369]],\n",
              "\n",
              "       [[0.75769472, 0.51778777],\n",
              "        [0.38107587, 0.60012748],\n",
              "        [0.81835355, 0.20150217]]])"
            ]
          },
          "metadata": {},
          "execution_count": 133
        }
      ]
    },
    {
      "cell_type": "markdown",
      "source": [
        "**Ejemplo 2:** Transposición de Arrays de Mayor Dimensión"
      ],
      "metadata": {
        "id": "_AI5fOwlL-4A"
      }
    },
    {
      "cell_type": "code",
      "source": [
        "array = np.arange(24).reshape(2, 3, 4)\n",
        "transposed_array = array.transpose(1, 0, 2)\n",
        "print(\"Array transpuesto:\\n\", transposed_array.shape)\n"
      ],
      "metadata": {
        "id": "78kfzyp8MCGo",
        "outputId": "79c1a5da-80cf-455c-f224-d7d98deda897",
        "colab": {
          "base_uri": "https://localhost:8080/"
        }
      },
      "execution_count": null,
      "outputs": [
        {
          "output_type": "stream",
          "name": "stdout",
          "text": [
            "Array transpuesto:\n",
            " (3, 2, 4)\n"
          ]
        }
      ]
    },
    {
      "cell_type": "markdown",
      "source": [
        "**Ejercicios**\n",
        "\n",
        "Transpón una matriz de forma (5, 3).\n"
      ],
      "metadata": {
        "id": "XzHttlewMEM8"
      }
    },
    {
      "cell_type": "code",
      "source": [],
      "metadata": {
        "id": "dnulkEUjMGc6"
      },
      "execution_count": null,
      "outputs": []
    },
    {
      "cell_type": "markdown",
      "source": [
        "Dado un array de forma (2, 3, 4), reorganiza sus ejes para obtener un array de forma (4, 2, 3).\n"
      ],
      "metadata": {
        "id": "_h4vJO46MG0r"
      }
    },
    {
      "cell_type": "code",
      "source": [],
      "metadata": {
        "id": "wlOawsFFMIPr"
      },
      "execution_count": null,
      "outputs": []
    },
    {
      "cell_type": "markdown",
      "source": [
        "Verifica que la transposición de una matriz simétrica es igual a la matriz original."
      ],
      "metadata": {
        "id": "m3ygS37XMImF"
      }
    },
    {
      "cell_type": "code",
      "source": [],
      "metadata": {
        "id": "83OyARYcMJXZ"
      },
      "execution_count": null,
      "outputs": []
    },
    {
      "cell_type": "markdown",
      "source": [
        "### 6.3. Concatenación y División de Arrays\n",
        "\n",
        "Combina o divide arrays."
      ],
      "metadata": {
        "id": "Qc2skN72MLCv"
      }
    },
    {
      "cell_type": "markdown",
      "source": [
        "**Ejemplo 1:** Concatenación"
      ],
      "metadata": {
        "id": "vIMadNdRMOs1"
      }
    },
    {
      "cell_type": "code",
      "source": [
        "a = np.array([1, 2, 3])\n",
        "b = np.array([4, 5, 6])\n",
        "\n",
        "# Concatenación unidimensional\n",
        "concat_array = np.concatenate((a, b))\n",
        "print(\"Array concatenado:\", concat_array)\n",
        "\n",
        "# Concatenación bidimensional\n",
        "array1 = np.array([[1, 2], [3, 4]])\n",
        "array2 = np.array([[5, 6]])\n",
        "\n",
        "concat_2d = np.concatenate((array1, array2), axis=0)\n",
        "print(\"Array 2D concatenado:\\n\", concat_2d)\n"
      ],
      "metadata": {
        "id": "yVyNl1AZMRS1",
        "outputId": "b3a74638-863f-4401-8d2d-c6141fa8b5dd",
        "colab": {
          "base_uri": "https://localhost:8080/"
        }
      },
      "execution_count": null,
      "outputs": [
        {
          "output_type": "stream",
          "name": "stdout",
          "text": [
            "Array concatenado: [1 2 3 4 5 6]\n",
            "Array 2D concatenado:\n",
            " [[1 2]\n",
            " [3 4]\n",
            " [5 6]]\n"
          ]
        }
      ]
    },
    {
      "cell_type": "markdown",
      "source": [
        "**Ejemplo 2:** División\n"
      ],
      "metadata": {
        "id": "z7BjilPiMS1O"
      }
    },
    {
      "cell_type": "code",
      "source": [
        "# División en arrays más pequeños\n",
        "split_array = np.array_split(concat_array, 3)\n",
        "print(\"Arrays divididos:\", split_array)\n"
      ],
      "metadata": {
        "id": "dUgLs1SBMVi8",
        "outputId": "6c39e790-297b-47b7-d87e-4a8267b79108",
        "colab": {
          "base_uri": "https://localhost:8080/"
        }
      },
      "execution_count": null,
      "outputs": [
        {
          "output_type": "stream",
          "name": "stdout",
          "text": [
            "Arrays divididos: [array([1, 2]), array([3, 4]), array([5, 6])]\n"
          ]
        }
      ]
    },
    {
      "cell_type": "code",
      "source": [
        "array = np.random.rand(4,3)\n",
        "split_array = np.array_split(array,2)\n",
        "print(split_array)\n"
      ],
      "metadata": {
        "id": "FHVzJUu9B837",
        "outputId": "f5c58314-15f4-4edb-c4e8-d06bfe6a43ed",
        "colab": {
          "base_uri": "https://localhost:8080/"
        }
      },
      "execution_count": null,
      "outputs": [
        {
          "output_type": "stream",
          "name": "stdout",
          "text": [
            "[array([[0.19082229, 0.14404446, 0.52553114],\n",
            "       [0.93442363, 0.79679655, 0.36052647]]), array([[0.70667812, 0.0460418 , 0.93316964],\n",
            "       [0.75270553, 0.33914288, 0.77715549]])]\n"
          ]
        }
      ]
    },
    {
      "cell_type": "markdown",
      "source": [
        "**Ejercicios**\n",
        "\n",
        "Une dos matrices de forma (2, 2) para crear una de forma (2, 4).\n"
      ],
      "metadata": {
        "id": "mb8oGeA_MXoC"
      }
    },
    {
      "cell_type": "code",
      "source": [],
      "metadata": {
        "id": "qg7yKTyHMZfS"
      },
      "execution_count": null,
      "outputs": []
    },
    {
      "cell_type": "markdown",
      "source": [
        "Divide un array de forma (12,) en tres arrays iguales.\n"
      ],
      "metadata": {
        "id": "81cnqVV4MZ2k"
      }
    },
    {
      "cell_type": "code",
      "source": [],
      "metadata": {
        "id": "0zMqE5LoMavw"
      },
      "execution_count": null,
      "outputs": []
    },
    {
      "cell_type": "markdown",
      "source": [
        "Combina verticalmente dos arrays de forma (3, 2)."
      ],
      "metadata": {
        "id": "ZfNxDrzaMbEH"
      }
    },
    {
      "cell_type": "code",
      "source": [],
      "metadata": {
        "id": "pVzdVF2RMbf1"
      },
      "execution_count": null,
      "outputs": []
    },
    {
      "cell_type": "markdown",
      "source": [
        "## 7. Broadcasting\n",
        "\n",
        "\n",
        "Broadcasting en NumPy es una poderosa técnica que permite realizar operaciones entre arreglos de diferentes formas (shapes) de manera eficiente y sin necesidad de escribir bucles explícitos. Se utiliza para extender las dimensiones de un arreglo más pequeño para que sea compatible con el arreglo más grande en una operación."
      ],
      "metadata": {
        "id": "Mi8xYzraMdP8"
      }
    },
    {
      "cell_type": "markdown",
      "source": [
        "**Ejemplo 1:** Suma con Broadcasting"
      ],
      "metadata": {
        "id": "OFAGBVBaMfVr"
      }
    },
    {
      "cell_type": "code",
      "source": [
        "a = np.array([1, 2, 3]) # Forma: (3,)\n",
        "b = np.array([[10],\n",
        "              [20],\n",
        "              [30]]) # Forma: (3, 1)\n",
        "\n",
        "result = a + b\n",
        "print(\"Resultado de broadcasting:\\n\", result)"
      ],
      "metadata": {
        "id": "HK1zoui5Mhxn",
        "outputId": "2206a02f-a3ae-4809-f02d-6fb1f3c8cd1e",
        "colab": {
          "base_uri": "https://localhost:8080/"
        }
      },
      "execution_count": null,
      "outputs": [
        {
          "output_type": "stream",
          "name": "stdout",
          "text": [
            "Resultado de broadcasting:\n",
            " [[11 12 13]\n",
            " [21 22 23]\n",
            " [31 32 33]]\n"
          ]
        }
      ]
    },
    {
      "cell_type": "code",
      "source": [
        "a.ndim\n"
      ],
      "metadata": {
        "id": "1dy8A-UGDyj1",
        "outputId": "3cf3f8c8-0ab6-406b-abdf-84e14c9c3da7",
        "colab": {
          "base_uri": "https://localhost:8080/"
        }
      },
      "execution_count": null,
      "outputs": [
        {
          "output_type": "execute_result",
          "data": {
            "text/plain": [
              "1"
            ]
          },
          "metadata": {},
          "execution_count": 144
        }
      ]
    },
    {
      "cell_type": "code",
      "source": [
        "b.ndim"
      ],
      "metadata": {
        "id": "rAxsSDjsD0ep",
        "outputId": "d3091a3a-29f2-4dcb-90f3-b5442a7c389a",
        "colab": {
          "base_uri": "https://localhost:8080/"
        }
      },
      "execution_count": null,
      "outputs": [
        {
          "output_type": "execute_result",
          "data": {
            "text/plain": [
              "2"
            ]
          },
          "metadata": {},
          "execution_count": 145
        }
      ]
    },
    {
      "cell_type": "code",
      "source": [
        "a+b"
      ],
      "metadata": {
        "id": "w5seCg7cEFhw",
        "outputId": "234e9377-a3bb-4ce3-ddbc-36bf0d3609d3",
        "colab": {
          "base_uri": "https://localhost:8080/"
        }
      },
      "execution_count": null,
      "outputs": [
        {
          "output_type": "execute_result",
          "data": {
            "text/plain": [
              "array([[11, 12, 13],\n",
              "       [21, 22, 23],\n",
              "       [31, 32, 33]])"
            ]
          },
          "metadata": {},
          "execution_count": 146
        }
      ]
    },
    {
      "cell_type": "markdown",
      "source": [
        "**Ejemplo 2:** Multiplicación con Broadcasting"
      ],
      "metadata": {
        "id": "E5DO-ezhMjFn"
      }
    },
    {
      "cell_type": "code",
      "source": [
        "array = np.array([[1, 2, 3], [4, 5, 6]])\n",
        "scalar = 2\n",
        "\n",
        "result = array * scalar\n",
        "print(\"Multiplicación por escalar:\\n\", result)\n"
      ],
      "metadata": {
        "id": "Cx7HVNsYMmKp"
      },
      "execution_count": null,
      "outputs": []
    },
    {
      "cell_type": "code",
      "source": [
        "a = np.array([1, 2])  # Forma: (2,)\n",
        "b = np.array([[10],   # Forma: (3, 1)\n",
        "              [20],\n",
        "              [30]])\n",
        "\n",
        "# Esto lanza un error\n",
        "result = a + b\n",
        "\n",
        "# El error ocurre porque las dimensiones (2,) y (3, 1) no son compatibles."
      ],
      "metadata": {
        "id": "cAdEfNMZxKwR"
      },
      "execution_count": null,
      "outputs": []
    },
    {
      "cell_type": "code",
      "source": [
        "a*b"
      ],
      "metadata": {
        "id": "xroy5l0vGcLG",
        "outputId": "ed5c63cd-6e10-4dde-828c-520a58a91de7",
        "colab": {
          "base_uri": "https://localhost:8080/"
        }
      },
      "execution_count": null,
      "outputs": [
        {
          "output_type": "execute_result",
          "data": {
            "text/plain": [
              "array([[ 10,  40,  90],\n",
              "       [ 40, 100, 180]])"
            ]
          },
          "metadata": {},
          "execution_count": 149
        }
      ]
    },
    {
      "cell_type": "code",
      "source": [
        "b*a"
      ],
      "metadata": {
        "id": "wUdwddd0HDHr",
        "outputId": "2b135749-1194-4689-8455-0bffdc3204e3",
        "colab": {
          "base_uri": "https://localhost:8080/"
        }
      },
      "execution_count": null,
      "outputs": [
        {
          "output_type": "execute_result",
          "data": {
            "text/plain": [
              "array([[ 10,  40,  90],\n",
              "       [ 40, 100, 180]])"
            ]
          },
          "metadata": {},
          "execution_count": 150
        }
      ]
    },
    {
      "cell_type": "code",
      "source": [
        "a = np.array([[1, 2, 3], [4, 5, 6]])  # Forma: (2, 3)\n",
        "b = np.array([10, 20, 30])            # Forma: (3,)\n",
        "\n",
        "result = a + b\n",
        "print(result)\n"
      ],
      "metadata": {
        "id": "1VtgTXN5xUEw",
        "outputId": "58b0fc2c-3fd6-47c3-f488-1243a923b167",
        "colab": {
          "base_uri": "https://localhost:8080/"
        }
      },
      "execution_count": null,
      "outputs": [
        {
          "output_type": "stream",
          "name": "stdout",
          "text": [
            "[[11 22 33]\n",
            " [14 25 36]]\n"
          ]
        }
      ]
    },
    {
      "cell_type": "markdown",
      "source": [
        "**Normalización de Datos:**\n",
        "\n",
        "Supongamos que tienes un arreglo con datos y quieres normalizar cada columna restando el promedio y dividiendo entre la desviación estándar:"
      ],
      "metadata": {
        "id": "ikCG36TUxZkq"
      }
    },
    {
      "cell_type": "code",
      "source": [
        "data = np.array([[1, 2, 3],\n",
        "                 [4, 5, 6],\n",
        "                 [7, 8, 9]])\n",
        "\n",
        "mean = data.mean(axis=0)  # Promedio de cada columna\n",
        "std = data.std(axis=0)    # Desviación estándar de cada columna\n",
        "\n",
        "normalized = (data - mean) / std\n",
        "print(normalized)\n"
      ],
      "metadata": {
        "id": "STMbCmqGxaBI",
        "outputId": "e093c9ba-d12b-4fc3-e77e-29824427f3da",
        "colab": {
          "base_uri": "https://localhost:8080/"
        }
      },
      "execution_count": null,
      "outputs": [
        {
          "output_type": "stream",
          "name": "stdout",
          "text": [
            "[[-1.22474487 -1.22474487 -1.22474487]\n",
            " [ 0.          0.          0.        ]\n",
            " [ 1.22474487  1.22474487  1.22474487]]\n"
          ]
        }
      ]
    },
    {
      "cell_type": "code",
      "source": [
        "data.mean(axis=1)"
      ],
      "metadata": {
        "id": "4IJx5868Hxz-",
        "outputId": "416bf266-e34d-4982-b43d-478a1c4244e9",
        "colab": {
          "base_uri": "https://localhost:8080/"
        }
      },
      "execution_count": null,
      "outputs": [
        {
          "output_type": "execute_result",
          "data": {
            "text/plain": [
              "array([2., 5., 8.])"
            ]
          },
          "metadata": {},
          "execution_count": 165
        }
      ]
    },
    {
      "cell_type": "code",
      "source": [
        "print(data.std(axis=0))"
      ],
      "metadata": {
        "id": "3q2pdkdjINVF",
        "outputId": "085b02d9-fc36-44b8-bdb7-076626e1a74f",
        "colab": {
          "base_uri": "https://localhost:8080/"
        }
      },
      "execution_count": null,
      "outputs": [
        {
          "output_type": "stream",
          "name": "stdout",
          "text": [
            "[2.44948974 2.44948974 2.44948974]\n"
          ]
        }
      ]
    },
    {
      "cell_type": "code",
      "source": [
        "data - data.mean(axis=0) / data.std(axis=0)"
      ],
      "metadata": {
        "id": "O7lGNnJUHzsG",
        "outputId": "0c4b54d1-ac17-4e2d-d789-45ee9ce79761",
        "colab": {
          "base_uri": "https://localhost:8080/"
        }
      },
      "execution_count": null,
      "outputs": [
        {
          "output_type": "execute_result",
          "data": {
            "text/plain": [
              "array([[-0.63299316, -0.04124145,  0.55051026],\n",
              "       [ 2.36700684,  2.95875855,  3.55051026],\n",
              "       [ 5.36700684,  5.95875855,  6.55051026]])"
            ]
          },
          "metadata": {},
          "execution_count": 155
        }
      ]
    },
    {
      "cell_type": "markdown",
      "source": [
        "Si intentas operar arreglos con formas incompatibles, obtendrás un error como:\n",
        "\n"
      ],
      "metadata": {
        "id": "LXt9tCpMxiD3"
      }
    },
    {
      "cell_type": "markdown",
      "source": [
        "Ejercicios\n",
        "\n",
        "Suma un vector de forma (3,) a una matriz de forma (3, 3).\n"
      ],
      "metadata": {
        "id": "6GnTY3WyMoTc"
      }
    },
    {
      "cell_type": "code",
      "source": [],
      "metadata": {
        "id": "LVDCyji4MtPC"
      },
      "execution_count": null,
      "outputs": []
    },
    {
      "cell_type": "markdown",
      "source": [
        "Multiplica cada columna de una matriz de forma (4, 3) por un vector de forma (3,).\n"
      ],
      "metadata": {
        "id": "_7LyIs6-Mtgc"
      }
    },
    {
      "cell_type": "code",
      "source": [],
      "metadata": {
        "id": "eYeoNlxBMudM"
      },
      "execution_count": null,
      "outputs": []
    },
    {
      "cell_type": "markdown",
      "source": [
        "Resta un escalar de todos los elementos de un array.\n"
      ],
      "metadata": {
        "id": "kqUHVR8PMuzI"
      }
    },
    {
      "cell_type": "code",
      "source": [],
      "metadata": {
        "id": "qKzEd0FmMvR5"
      },
      "execution_count": null,
      "outputs": []
    },
    {
      "cell_type": "markdown",
      "source": [
        "## 8. Álgebra Lineal\n",
        "\n",
        "NumPy proporciona funciones avanzadas para realizar operaciones de álgebra lineal.\n",
        "\n"
      ],
      "metadata": {
        "id": "qwCQCFpPMw3A"
      }
    },
    {
      "cell_type": "markdown",
      "source": [
        "### 8.1. Producto Punto y Producto Cruz\n",
        "\n"
      ],
      "metadata": {
        "id": "3hxZV1dRMzsW"
      }
    },
    {
      "cell_type": "markdown",
      "source": [
        "### **Producto Punto (o Escalar)**\n",
        "\n",
        "El producto punto de dos vectores es una operación que resulta en un número escalar. Se calcula multiplicando las componentes correspondientes de los vectores y sumándolas.\n",
        "\n"
      ],
      "metadata": {
        "id": "EbUCUy7JdBHV"
      }
    },
    {
      "cell_type": "markdown",
      "source": [
        "\n",
        "Dado dos vectores:\n",
        "$\n",
        "\\mathbf{A} = (a_1, \\; a_2, \\; a_3) \\quad \\text{y} \\quad \\mathbf{B} = (b_1, \\; b_2, \\; b_3)\n",
        "$\n",
        "\n"
      ],
      "metadata": {
        "id": "aHbHuk7beNnZ"
      }
    },
    {
      "cell_type": "markdown",
      "source": [
        "Cálculo del producto punto\n"
      ],
      "metadata": {
        "id": "X0QiuRrjh59U"
      }
    },
    {
      "cell_type": "markdown",
      "source": [
        "\n",
        "$\n",
        "\\mathbf{A} \\cdot \\mathbf{B} = a_1 b_1 + a_2 b_2 + a_3 b_3\n",
        "$"
      ],
      "metadata": {
        "id": "AGNbVHLThvj-"
      }
    },
    {
      "cell_type": "markdown",
      "source": [
        "**Ejemplo 1:** Producto Punto\n"
      ],
      "metadata": {
        "id": "2pMPVmL8kTYj"
      }
    },
    {
      "cell_type": "code",
      "source": [
        "import numpy as np\n",
        "\n",
        "vector1 = np.array([1, 2, 3,10,0])\n",
        "vector2 = np.array([3, 4, 5,5,0])\n",
        "\n",
        "dot_product = np.dot(vector1, vector2)\n",
        "print(\"Producto punto:\", dot_product)\n"
      ],
      "metadata": {
        "id": "6XKNhROtM2vr",
        "outputId": "e958cd41-7aa3-437c-e5a4-8fbe8ed5b3f5",
        "colab": {
          "base_uri": "https://localhost:8080/"
        }
      },
      "execution_count": null,
      "outputs": [
        {
          "output_type": "stream",
          "name": "stdout",
          "text": [
            "Producto punto: 76\n"
          ]
        }
      ]
    },
    {
      "cell_type": "markdown",
      "source": [
        "### **Producto Cruz (o Vectorial)**\n",
        "\n",
        "El producto cruz de dos vectores da como resultado un nuevo vector perpendicular a ambos vectores originales.\n",
        "\n"
      ],
      "metadata": {
        "id": "TlVRoNYVfavl"
      }
    },
    {
      "cell_type": "markdown",
      "source": [
        "\n",
        "Dado dos vectores:\n",
        "$\n",
        "\\mathbf{A} = (a_1, \\; a_2, \\; a_3) \\quad \\text{y} \\quad \\mathbf{B} = (b_1, \\; b_2, \\; b_3)\n",
        "$\n",
        "\n"
      ],
      "metadata": {
        "id": "cmqdY9GjisO0"
      }
    },
    {
      "cell_type": "markdown",
      "source": [
        "Operación bajo la regla del serrucho."
      ],
      "metadata": {
        "id": "7iBpdkSPnCFP"
      }
    },
    {
      "cell_type": "code",
      "source": [],
      "metadata": {
        "id": "l8_LgbQRnBaA"
      },
      "execution_count": null,
      "outputs": []
    },
    {
      "cell_type": "markdown",
      "source": [
        "Cálculo del producto cruz Usando componentes:"
      ],
      "metadata": {
        "id": "t_1fRT4viwGC"
      }
    },
    {
      "cell_type": "markdown",
      "source": [
        "$\n",
        "\\mathbf{A} \\times \\mathbf{B} = \\left( a_2 b_3 - a_3 b_2, \\; a_3 b_1 - a_1 b_3, \\; a_1 b_2 - a_2 b_1 \\right)\n",
        "$"
      ],
      "metadata": {
        "id": "vEOEwDcxf3oB"
      }
    },
    {
      "cell_type": "markdown",
      "source": [
        "O utilizando el determinante de una matriz:\n"
      ],
      "metadata": {
        "id": "CZ-B_SA9jYA8"
      }
    },
    {
      "cell_type": "markdown",
      "source": [
        "$\n",
        "\\mathbf{A} \\times \\mathbf{B} = \\begin{vmatrix}\n",
        "\\mathbf{i} & \\mathbf{j} & \\mathbf{k} \\\\\n",
        "a_1 & a_2 & a_3 \\\\\n",
        "b_1 & b_2 & b_3 \\\\\n",
        "\\end{vmatrix}\n",
        "$"
      ],
      "metadata": {
        "id": "lKgEndJni8zp"
      }
    },
    {
      "cell_type": "markdown",
      "source": [
        "Desarrollando el determinante:"
      ],
      "metadata": {
        "id": "gmka7mpUgGOK"
      }
    },
    {
      "cell_type": "markdown",
      "source": [
        "$\n",
        "\\mathbf{A} \\times \\mathbf{B} = \\left( a_2 b_3 - a_3 b_2 \\right) \\mathbf{i} - \\left( a_1 b_3 - a_3 b_1 \\right) \\mathbf{j} + \\left( a_1 b_2 - a_2 b_1 \\right) \\mathbf{k}\n",
        "$"
      ],
      "metadata": {
        "id": "gBzIXfqVf8lm"
      }
    },
    {
      "cell_type": "markdown",
      "source": [
        "**Ejemplo 2:** Producto Cruz"
      ],
      "metadata": {
        "id": "musW8j88M4Ce"
      }
    },
    {
      "cell_type": "code",
      "source": [
        "vector1 = np.array([1, 2, 3])\n",
        "vector2 = np.array([3, 4, 0])\n",
        "array_np = np.array([1,2,3])\n",
        "print(array_np)\n",
        "cross_product = np.cross(vector1, vector2)\n",
        "print(\"Producto cruz:\", cross_product)\n"
      ],
      "metadata": {
        "id": "DVV5Ct9UM7jI",
        "outputId": "a0d4689a-0e58-4c93-86a8-854e6bc0d546",
        "colab": {
          "base_uri": "https://localhost:8080/"
        }
      },
      "execution_count": null,
      "outputs": [
        {
          "output_type": "stream",
          "name": "stdout",
          "text": [
            "[1 2 3]\n",
            "Producto cruz: [-12   9  -2]\n"
          ]
        }
      ]
    },
    {
      "cell_type": "markdown",
      "source": [
        "**Ejercicios**\n",
        "\n",
        "Calcula el producto punto de dos vectores de tamaño 3.\n"
      ],
      "metadata": {
        "id": "9KKx0vUoM9om"
      }
    },
    {
      "cell_type": "code",
      "source": [
        "vector_1 = np.random.rand(3)\n",
        "vector_2 = np.random.rand(3)\n",
        "product_dot = np.dot(vector1,vector2)\n",
        "\n",
        "print(vector1)\n",
        "print(vector2)\n",
        "print(product_dot)\n"
      ],
      "metadata": {
        "id": "_lIBQXRdM_ss",
        "colab": {
          "base_uri": "https://localhost:8080/"
        },
        "outputId": "d1401f9c-302f-418b-e44e-583ca668c876"
      },
      "execution_count": null,
      "outputs": [
        {
          "output_type": "stream",
          "name": "stdout",
          "text": [
            "[1 2 3]\n",
            "[3 4 0]\n",
            "11\n"
          ]
        }
      ]
    },
    {
      "cell_type": "markdown",
      "source": [
        "Encuentra el producto cruz de los vectores [2, 3, 4] y [5, 6, 7].\n"
      ],
      "metadata": {
        "id": "UdGwmryrNANS"
      }
    },
    {
      "cell_type": "code",
      "source": [
        "vector_1 = np.array([2,3,4])\n",
        "vector_2 = np.array([5,6,7])\n",
        "product_dot = np.cross(vector1,vector2)\n",
        "\n",
        "print(vector1)\n",
        "print(vector2)\n",
        "print(product_dot)\n"
      ],
      "metadata": {
        "id": "AbXYhb8xNBAd",
        "colab": {
          "base_uri": "https://localhost:8080/"
        },
        "outputId": "c3345b87-4d80-4c85-9e04-f780b5ec5f16"
      },
      "execution_count": null,
      "outputs": [
        {
          "output_type": "stream",
          "name": "stdout",
          "text": [
            "[1 2 3]\n",
            "[3 4 0]\n",
            "[-12   9  -2]\n"
          ]
        }
      ]
    },
    {
      "cell_type": "markdown",
      "source": [
        "Verifica que el producto punto de dos vectores perpendiculares es cero."
      ],
      "metadata": {
        "id": "uxbUPwheNBWt"
      }
    },
    {
      "cell_type": "code",
      "source": [
        "def producto_zero(array_1, array_2):\n",
        "  product_dot = np.cross(array_1,array_2)\n",
        "  if np.dot(product_dot) == 0:\n",
        "    return True"
      ],
      "metadata": {
        "id": "psxC7t8uNCA9",
        "collapsed": true
      },
      "execution_count": null,
      "outputs": []
    },
    {
      "cell_type": "markdown",
      "source": [
        "### 8.2. Operaciones con Matrices\n",
        "\n"
      ],
      "metadata": {
        "id": "9GD5btdhNG5g"
      }
    },
    {
      "cell_type": "markdown",
      "source": [
        "**Operación Matmul (Multiplicación de Matrices)**\n",
        "\n",
        "La operación matmul, abreviatura de matrix multiplication (multiplicación de matrices), es una operación fundamental en álgebra lineal que combina dos matrices para producir una tercera matriz. Esta operación es esencial en campos como matemáticas, física, ingeniería y ciencias de la computación."
      ],
      "metadata": {
        "id": "jWwVl5pFl9Yz"
      }
    },
    {
      "cell_type": "markdown",
      "source": [
        "\n",
        "\n",
        "<img src=\"https://www.includehelp.com/python/images/numpy-1.jpg\" alt=\"HTML5 Icon\" width=\"700\" height=\"200\" >\n",
        "\n"
      ],
      "metadata": {
        "id": "Zp-U8VCQoLP_"
      }
    },
    {
      "cell_type": "markdown",
      "source": [
        "**Ejemplo 1:**  Multiplicación de Matrices"
      ],
      "metadata": {
        "id": "wRQX-iKIl--B"
      }
    },
    {
      "cell_type": "code",
      "source": [
        "matrix1 = np.array([[1, 2],\n",
        "                    [3, 4],\n",
        "                    [5,4]])\n",
        "\n",
        "matrix2 = np.array([[2, 0],\n",
        "                    [1, 2]])\n",
        "\n",
        "print(matrix1.shape)\n",
        "product = np.matmul(matrix1, matrix2)\n",
        "print(\"Producto de matrices:\\n\", product)\n"
      ],
      "metadata": {
        "id": "ux8COFLsNL0W",
        "colab": {
          "base_uri": "https://localhost:8080/"
        },
        "outputId": "97280531-a1d5-4c00-b29d-e884177c2e99"
      },
      "execution_count": null,
      "outputs": [
        {
          "output_type": "stream",
          "name": "stdout",
          "text": [
            "(3, 2)\n",
            "Producto de matrices:\n",
            " [[ 4  4]\n",
            " [10  8]\n",
            " [14  8]]\n"
          ]
        }
      ]
    },
    {
      "cell_type": "markdown",
      "source": [
        "**Inversa**"
      ],
      "metadata": {
        "id": "2NBCIXI8NNSn"
      }
    },
    {
      "cell_type": "markdown",
      "source": [
        "La inversa de una matriz es un concepto fundamental en álgebra lineal. Dada una matriz cuadrada A, su inversa, denotada como\n",
        "A**(−1), es otra matriz que cumple con la siguiente propiedad:"
      ],
      "metadata": {
        "id": "X43jLSpzpmve"
      }
    },
    {
      "cell_type": "markdown",
      "source": [
        "$\n",
        "\\mathbf{A} \\times \\mathbf{A}^{-1} = \\mathbf{A}^{-1} \\times \\mathbf{A} = \\mathbf{I}\n",
        "$\n"
      ],
      "metadata": {
        "id": "_V-UdPoZp09d"
      }
    },
    {
      "cell_type": "code",
      "source": [
        "matrix = np.array([[4, 7], [2, 6]])\n",
        "\n",
        "# Inversa\n",
        "inverse = np.linalg.inv(matrix)\n",
        "print(\"Inversa de la matriz:\\n\", inverse)\n",
        "\n"
      ],
      "metadata": {
        "id": "Jj3v2s7NNQUy",
        "colab": {
          "base_uri": "https://localhost:8080/"
        },
        "outputId": "a1e2870e-40f3-400b-84b8-b544d17cffce"
      },
      "execution_count": null,
      "outputs": [
        {
          "output_type": "stream",
          "name": "stdout",
          "text": [
            "Inversa de la matriz:\n",
            " [[ 0.6 -0.7]\n",
            " [-0.2  0.4]]\n"
          ]
        }
      ]
    },
    {
      "cell_type": "markdown",
      "source": [
        "**Determinante**"
      ],
      "metadata": {
        "id": "zz8WueKgqI5r"
      }
    },
    {
      "cell_type": "markdown",
      "source": [
        "El determinante es una función que asigna a cada matriz cuadrada un número escalar. Es una herramienta fundamental en álgebra lineal, utilizada para determinar si una matriz es invertible, calcular áreas, volúmenes y resolver sistemas de ecuaciones lineales."
      ],
      "metadata": {
        "id": "_wmKTeLRrBHF"
      }
    },
    {
      "cell_type": "markdown",
      "source": [
        "Considera la matriz:"
      ],
      "metadata": {
        "id": "_z4qb9MOrZ2H"
      }
    },
    {
      "cell_type": "markdown",
      "source": [
        "$\n",
        "\\boldsymbol{A} = \\begin{pmatrix}\n",
        "a_{11} & a_{12} & a_{13} \\\\\n",
        "a_{21} & a_{22} & a_{23} \\\\\n",
        "a_{31} & a_{32} & a_{33} \\\\\n",
        "\\end{pmatrix}\n",
        "$"
      ],
      "metadata": {
        "id": "SrVgHTDarUiE"
      }
    },
    {
      "cell_type": "markdown",
      "source": [
        "El determinante se calcula mediante la regla de Sarrus o por expansión de cofactores.\n",
        "\n",
        "**Regla de Sarrus:**"
      ],
      "metadata": {
        "id": "2xrhxsZTrcbX"
      }
    },
    {
      "cell_type": "markdown",
      "source": [
        "\n",
        "\n",
        " <img src=\"https://upload.wikimedia.org/wikipedia/commons/f/fd/Regla_de_Sarrus_01.svg\" alt=\"HTML5 Icon\" width=\"300\" height=\"300\" >\n"
      ],
      "metadata": {
        "id": "Sl2HgAwUrsvZ"
      }
    },
    {
      "cell_type": "markdown",
      "source": [
        "$\n",
        "\\det(\\boldsymbol{A}) = a_{11}a_{22}a_{33} + a_{12}a_{23}a_{31} + a_{13}a_{21}a_{32} - (a_{13}a_{22}a_{31} + a_{11}a_{23}a_{32} + a_{12}a_{21}a_{33})\n",
        "$"
      ],
      "metadata": {
        "id": "XckBEUFArf-X"
      }
    },
    {
      "cell_type": "code",
      "source": [
        "# Determinante\n",
        "determinante = np.linalg.det(matrix)\n",
        "print(\"Determinante de la matriz:\", determinante)\n"
      ],
      "metadata": {
        "id": "UuO9Mon6qJ34"
      },
      "execution_count": null,
      "outputs": []
    },
    {
      "cell_type": "markdown",
      "source": [
        "**Ejercicios**\n",
        "\n",
        "Calcula el determinante de una matriz de 3x3.\n"
      ],
      "metadata": {
        "id": "F7gr4WrENP8T"
      }
    },
    {
      "cell_type": "code",
      "source": [
        "matriz = np.random.rand(3,3)\n",
        "print(matriz)\n",
        "deter_matriz = np.linalg.det(matriz)\n",
        "print(f\"This is the determinant of the matrix: {deter_matriz}\")"
      ],
      "metadata": {
        "id": "dgkHn3INNUYh",
        "colab": {
          "base_uri": "https://localhost:8080/"
        },
        "outputId": "c918b230-3b2d-4ff6-d8b6-37e5cd5adc08"
      },
      "execution_count": null,
      "outputs": [
        {
          "output_type": "stream",
          "name": "stdout",
          "text": [
            "[[0.05320235 0.1250071  0.14492237]\n",
            " [0.70599387 0.01552936 0.72199056]\n",
            " [0.86455153 0.96640225 0.01244971]]\n",
            "This is the determinant of the matrix: 0.13675074086408023\n"
          ]
        }
      ]
    },
    {
      "cell_type": "markdown",
      "source": [
        "Encuentra la matriz inversa de una matriz cuadrada.\n"
      ],
      "metadata": {
        "id": "lGSjm1zrNUw9"
      }
    },
    {
      "cell_type": "code",
      "source": [
        "matriz = np.random.rand(3,3)\n",
        "reverse_matriz = np.linalg.inv(matriz)\n",
        "print(matriz)\n",
        "print(\"\\n\")\n",
        "print(reverse_matriz)"
      ],
      "metadata": {
        "id": "mZR5WSB1NVgS",
        "colab": {
          "base_uri": "https://localhost:8080/"
        },
        "outputId": "4bbdf817-faff-4d6d-996e-91fa14b190ac"
      },
      "execution_count": null,
      "outputs": [
        {
          "output_type": "stream",
          "name": "stdout",
          "text": [
            "[[0.92452538 0.63241073 0.61240923]\n",
            " [0.41723345 0.03657019 0.95491255]\n",
            " [0.12489889 0.11242216 0.18883225]]\n",
            "\n",
            "\n",
            "[[  2.42993546   1.22336995 -14.06712168]\n",
            " [ -0.97926315  -2.37292389  15.17561017]\n",
            " [ -1.02421789   0.60356041   5.56522033]]\n"
          ]
        }
      ]
    },
    {
      "cell_type": "markdown",
      "source": [
        "Verifica que el producto de una matriz y su inversa es la matriz identidad."
      ],
      "metadata": {
        "id": "GLh5imFcNV0n"
      }
    },
    {
      "cell_type": "code",
      "source": [
        "matriz = np.random.rand(3,3)\n",
        "reverse_matriz = np.linalg.inv(matriz)\n",
        "\n",
        "identidad_matrix = np.matmul(matriz,reverse_matriz)\n",
        "matriz_identidad = np.eye(3)\n",
        "\n",
        "if identidad_matrix == matriz_identidad:\n",
        "  print(True)\n",
        "else:\n",
        "  print(False)\n",
        "\n",
        "print(identidad_matrix)\n",
        "print(matriz_identidad)\n"
      ],
      "metadata": {
        "id": "3IAoS6gYNWOR",
        "colab": {
          "base_uri": "https://localhost:8080/",
          "height": 228
        },
        "outputId": "14b9cea2-3973-42d6-92bc-8ed1bf96b11e"
      },
      "execution_count": null,
      "outputs": [
        {
          "output_type": "error",
          "ename": "ValueError",
          "evalue": "The truth value of an array with more than one element is ambiguous. Use a.any() or a.all()",
          "traceback": [
            "\u001b[0;31m---------------------------------------------------------------------------\u001b[0m",
            "\u001b[0;31mValueError\u001b[0m                                Traceback (most recent call last)",
            "\u001b[0;32m/tmp/ipython-input-44-1485222735.py\u001b[0m in \u001b[0;36m<cell line: 0>\u001b[0;34m()\u001b[0m\n\u001b[1;32m      5\u001b[0m \u001b[0mmatriz_identidad\u001b[0m \u001b[0;34m=\u001b[0m \u001b[0mnp\u001b[0m\u001b[0;34m.\u001b[0m\u001b[0meye\u001b[0m\u001b[0;34m(\u001b[0m\u001b[0;36m3\u001b[0m\u001b[0;34m)\u001b[0m\u001b[0;34m\u001b[0m\u001b[0;34m\u001b[0m\u001b[0m\n\u001b[1;32m      6\u001b[0m \u001b[0;34m\u001b[0m\u001b[0m\n\u001b[0;32m----> 7\u001b[0;31m \u001b[0;32mif\u001b[0m \u001b[0midentidad_matrix\u001b[0m \u001b[0;34m==\u001b[0m \u001b[0mmatriz_identidad\u001b[0m\u001b[0;34m:\u001b[0m\u001b[0;34m\u001b[0m\u001b[0;34m\u001b[0m\u001b[0m\n\u001b[0m\u001b[1;32m      8\u001b[0m   \u001b[0mprint\u001b[0m\u001b[0;34m(\u001b[0m\u001b[0;32mTrue\u001b[0m\u001b[0;34m)\u001b[0m\u001b[0;34m\u001b[0m\u001b[0;34m\u001b[0m\u001b[0m\n\u001b[1;32m      9\u001b[0m \u001b[0;32melse\u001b[0m\u001b[0;34m:\u001b[0m\u001b[0;34m\u001b[0m\u001b[0;34m\u001b[0m\u001b[0m\n",
            "\u001b[0;31mValueError\u001b[0m: The truth value of an array with more than one element is ambiguous. Use a.any() or a.all()"
          ]
        }
      ]
    },
    {
      "cell_type": "markdown",
      "source": [
        "**Ejercicio 1:** Multiplicación de Matrices y Producto Punto\n",
        "\n",
        "- Crea dos matrices A y B de dimensiones compatibles.\n",
        "- Calcula la multiplicación de matrices C=A×B.\n",
        "- Calcula el producto punto de dos vectores.\n",
        "- Verifica si la multiplicación de matrices es conmutativa en este caso (es decir, si A×B=B×A)."
      ],
      "metadata": {
        "id": "paCjwWe5tG4H"
      }
    },
    {
      "cell_type": "code",
      "source": [],
      "metadata": {
        "id": "Gu8zG4lBtOao"
      },
      "execution_count": null,
      "outputs": []
    },
    {
      "cell_type": "markdown",
      "source": [
        "**Ejercicio 2:** Cálculo de la Inversa y Verificación\n",
        "\n",
        "- Crea una matriz cuadrada invertible A.\n",
        "- Calcula la inversa de A.\n",
        "- Verifica que A×A**(−1) es la matriz identidad."
      ],
      "metadata": {
        "id": "Gxo8fCZNtSxW"
      }
    },
    {
      "cell_type": "code",
      "source": [],
      "metadata": {
        "id": "80LJelKGtfiW"
      },
      "execution_count": null,
      "outputs": []
    },
    {
      "cell_type": "markdown",
      "source": [
        "**Ejercicio 3:** Cálculo de Determinante, Valores y Vectores Propios\n",
        "\n",
        "- Crea una matriz cuadrada A.\n",
        "- Calcula el determinante de A.\n",
        "- Calcula los valores propios y vectores propios de A.\n",
        "- Verifica la relación A×v=λv para un par valor propio y vector propio."
      ],
      "metadata": {
        "id": "wSTrLOEKtkMv"
      }
    },
    {
      "cell_type": "code",
      "source": [
        "A = np.array([[1,2,3], [4,2,1], [4,5,6]])\n",
        "np.linalg.det(A)\n"
      ],
      "metadata": {
        "id": "B0aCxCLHts_N",
        "colab": {
          "base_uri": "https://localhost:8080/"
        },
        "outputId": "577da21f-dfa0-461a-e651-29880f398627"
      },
      "execution_count": null,
      "outputs": [
        {
          "output_type": "execute_result",
          "data": {
            "text/plain": [
              "np.float64(3.0000000000000004)"
            ]
          },
          "metadata": {},
          "execution_count": 53
        }
      ]
    },
    {
      "cell_type": "code",
      "source": [
        "np.linalg.det(A)"
      ],
      "metadata": {
        "colab": {
          "base_uri": "https://localhost:8080/"
        },
        "id": "Sp4GeJPUtc_7",
        "outputId": "8cda0a90-fc05-44ae-c813-418d0ca81b32"
      },
      "execution_count": null,
      "outputs": [
        {
          "output_type": "execute_result",
          "data": {
            "text/plain": [
              "np.float64(3.0000000000000004)"
            ]
          },
          "metadata": {},
          "execution_count": 47
        }
      ]
    },
    {
      "cell_type": "code",
      "source": [
        "λ= np.linalg.eigvals(A)\n",
        "print(λ)"
      ],
      "metadata": {
        "colab": {
          "base_uri": "https://localhost:8080/"
        },
        "id": "-aP3d6PTtggG",
        "outputId": "0e828bc9-df5f-4f7a-a97f-f94160e51b98"
      },
      "execution_count": null,
      "outputs": [
        {
          "output_type": "stream",
          "name": "stdout",
          "text": [
            "[ 9.55607914+0.j         -0.27803957+0.48644659j -0.27803957-0.48644659j]\n"
          ]
        }
      ]
    },
    {
      "cell_type": "code",
      "source": [
        "v = np.linalg.eig(A)\n",
        "v_one = v.eigenvectors\n",
        "print(v_one)\n",
        "print(\"\\n\")\n",
        "print(v.eigenvalues)\n",
        "print(\"\\n\")\n",
        "print(A)\n"
      ],
      "metadata": {
        "colab": {
          "base_uri": "https://localhost:8080/"
        },
        "id": "fHdGN8glujIU",
        "outputId": "f2d764bd-6fa2-4bcb-d098-a690eb3c805f"
      },
      "execution_count": null,
      "outputs": [
        {
          "output_type": "stream",
          "name": "stdout",
          "text": [
            "[[ 0.3788241 +0.j          0.36312798-0.12784813j  0.36312798+0.12784813j]\n",
            " [ 0.31567469+0.j         -0.8182743 +0.j         -0.8182743 -0.j        ]\n",
            " [ 0.86996654+0.j          0.41154932+0.11334578j  0.41154932-0.11334578j]]\n",
            "\n",
            "\n",
            "[ 9.55607914+0.j         -0.27803957+0.48644659j -0.27803957-0.48644659j]\n",
            "\n",
            "\n",
            "[[1 2 3]\n",
            " [4 2 1]\n",
            " [4 5 6]]\n"
          ]
        }
      ]
    },
    {
      "cell_type": "code",
      "source": [
        "one =np.matmul(A,v_one)\n",
        "two = λ*v_one\n",
        "\n",
        "print(one)\n",
        "print(\"\\n\")\n",
        "print(two)\n",
        "\n"
      ],
      "metadata": {
        "colab": {
          "base_uri": "https://localhost:8080/"
        },
        "id": "6dwnDSTUu6WC",
        "outputId": "b66045dd-990c-423e-e230-af101ab7ff9c"
      },
      "execution_count": null,
      "outputs": [
        {
          "output_type": "stream",
          "name": "stdout",
          "text": [
            "[[ 3.62007312+0.j         -0.03877266+0.2121892j  -0.03877266-0.2121892j ]\n",
            " [ 3.01661234+0.j          0.22751263-0.39804674j  0.22751263+0.39804674j]\n",
            " [ 8.31346914+0.j         -0.16956366+0.16868215j -0.16956366-0.16868215j]]\n",
            "\n",
            "\n",
            "[[ 3.62007312+0.j         -0.03877266+0.2121892j  -0.03877266-0.2121892j ]\n",
            " [ 3.01661234+0.j          0.22751263-0.39804674j  0.22751263+0.39804674j]\n",
            " [ 8.31346914+0.j         -0.16956366+0.16868215j -0.16956366-0.16868215j]]\n"
          ]
        }
      ]
    },
    {
      "cell_type": "markdown",
      "source": [
        "### 8.3. Sistemas de Ecuaciones Lineales\n",
        "\n",
        "Resuelve sistemas de ecuaciones lineales utilizando NumPy.\n",
        "\n",
        "\n"
      ],
      "metadata": {
        "id": "cWDRPmBtNZ8H"
      }
    },
    {
      "cell_type": "markdown",
      "source": [
        "**Ejemplo 1:** Sistema de Ecuaciones\n",
        "\n",
        "Resuelve el siguiente sistema:\n",
        "\n",
        "2x + 3y =  8\n",
        "\n",
        " x − 4y = −2\n"
      ],
      "metadata": {
        "id": "9YWckbt9knKa"
      }
    },
    {
      "cell_type": "code",
      "source": [
        "# Coeficientes de las variables\n",
        "A = np.array([[2, 3], [1, -4]])\n",
        "\n",
        "# Vector de constantes\n",
        "B = np.array([8, -2])\n",
        "\n",
        "print(B)\n",
        "\n",
        "# Solución\n",
        "solution = np.linalg.solve(A, B)\n",
        "print(\"Solución del sistema:\", solution)\n"
      ],
      "metadata": {
        "id": "CTzE5lAGk0k7",
        "colab": {
          "base_uri": "https://localhost:8080/"
        },
        "outputId": "baabcd87-8457-4156-b8b2-9942608473e9"
      },
      "execution_count": null,
      "outputs": [
        {
          "output_type": "stream",
          "name": "stdout",
          "text": [
            "[ 8 -2]\n",
            "Solución del sistema: [2.36363636 1.09090909]\n"
          ]
        }
      ]
    },
    {
      "cell_type": "markdown",
      "source": [
        "**Ejemplo 2:** Sistema de Ecuaciones de Mayor Dimensión\n",
        "\n",
        "Resuelve el sistema:\n",
        "  \n",
        " x +  y +  z =  6\n",
        "\n",
        "2x + 5y +  z = −4\n",
        "\n",
        "2x + 3y + 8z = 27"
      ],
      "metadata": {
        "id": "Uhqx7kLKk4R8"
      }
    },
    {
      "cell_type": "code",
      "source": [
        "A = np.array([[1, 1, 1], [2, 5, 1], [2, 3, 8]])\n",
        "B = np.array([6, -4, 27])\n",
        "\n",
        "solution = np.linalg.solve(A, B)\n",
        "print(\"Solución del sistema:\", solution)\n"
      ],
      "metadata": {
        "id": "7FVsicntk2_w",
        "colab": {
          "base_uri": "https://localhost:8080/"
        },
        "outputId": "cc4d4ac4-fcb2-47da-c3c8-eaf5be9ac672"
      },
      "execution_count": null,
      "outputs": [
        {
          "output_type": "stream",
          "name": "stdout",
          "text": [
            "Solución del sistema: [ 7.05263158 -4.26315789  3.21052632]\n"
          ]
        }
      ]
    },
    {
      "cell_type": "markdown",
      "source": [
        "**Ejercicios**\n",
        "\n",
        "Resuelve un sistema de ecuaciones de 3 variables y 3 ecuaciones.\n",
        "\n",
        "$\n",
        "\\begin{aligned}\n",
        "2x + 3y - z &= 5 \\\\\n",
        "4x + y + 2z &= 6 \\\\\n",
        "-3x + 2y + 3z &= -4\n",
        "\\end{aligned}\n",
        "$"
      ],
      "metadata": {
        "id": "ZMp2aQo7lNBJ"
      }
    },
    {
      "cell_type": "code",
      "source": [
        "A = np.array([[2,3,-1],\n",
        "              [4,1,2],\n",
        "              [-3,2,3]])\n",
        "\n",
        "B = np.array([5,6,-4])\n",
        "\n",
        "solution = np.linalg.solve(A,B)\n",
        "print(\"Solución del sistemas:\", solution)"
      ],
      "metadata": {
        "id": "IzPgFJnzlQL-",
        "colab": {
          "base_uri": "https://localhost:8080/"
        },
        "outputId": "8ea2ac50-a34f-42e5-92be-93f4589e16d9"
      },
      "execution_count": null,
      "outputs": [
        {
          "output_type": "stream",
          "name": "stdout",
          "text": [
            "Solución del sistemas: [ 1.47761194  0.59701493 -0.25373134]\n"
          ]
        }
      ]
    },
    {
      "cell_type": "code",
      "source": [],
      "metadata": {
        "id": "qYu6Il3mE9vM"
      },
      "execution_count": null,
      "outputs": []
    },
    {
      "cell_type": "markdown",
      "source": [
        "Verifica la solución del sistema sustituyendo los valores encontrados en las ecuaciones originales.\n"
      ],
      "metadata": {
        "id": "xxQCcluOlPoX"
      }
    },
    {
      "cell_type": "code",
      "source": [
        "2*solution[0] + 3*solution[1] -1*solution[2]"
      ],
      "metadata": {
        "id": "tTOgOVWnlSBD",
        "colab": {
          "base_uri": "https://localhost:8080/"
        },
        "outputId": "8b9eb86a-bb4b-4512-c8a8-e38a7429322b"
      },
      "execution_count": null,
      "outputs": [
        {
          "output_type": "execute_result",
          "data": {
            "text/plain": [
              "np.float64(5.0)"
            ]
          },
          "metadata": {},
          "execution_count": 89
        }
      ]
    },
    {
      "cell_type": "markdown",
      "source": [
        "Intenta resolver un sistema de ecuaciones linealmente dependiente y observa el resultado.\n",
        "\n",
        "$\n",
        "\\begin{aligned}\n",
        "x + y &= 2 \\\\\n",
        "2x + 2y &= 4\n",
        "\\end{aligned}\n",
        "$"
      ],
      "metadata": {
        "id": "_nLDtZKVlSbj"
      }
    },
    {
      "cell_type": "code",
      "source": [
        "A = np.array([[1,1],[2,2]])\n",
        "B = np.array([2,4])\n",
        "\n",
        "solution_two = np.linalg.solve(A,B)\n",
        "print(solution_two)\n"
      ],
      "metadata": {
        "id": "FblMZbWNlTEK",
        "colab": {
          "base_uri": "https://localhost:8080/",
          "height": 356
        },
        "outputId": "425cbb87-35e1-45a6-f32c-0c362a5da22b"
      },
      "execution_count": null,
      "outputs": [
        {
          "output_type": "error",
          "ename": "LinAlgError",
          "evalue": "Singular matrix",
          "traceback": [
            "\u001b[0;31m---------------------------------------------------------------------------\u001b[0m",
            "\u001b[0;31mLinAlgError\u001b[0m                               Traceback (most recent call last)",
            "\u001b[0;32m/tmp/ipython-input-95-69125547.py\u001b[0m in \u001b[0;36m<cell line: 0>\u001b[0;34m()\u001b[0m\n\u001b[1;32m      2\u001b[0m \u001b[0mB\u001b[0m \u001b[0;34m=\u001b[0m \u001b[0mnp\u001b[0m\u001b[0;34m.\u001b[0m\u001b[0marray\u001b[0m\u001b[0;34m(\u001b[0m\u001b[0;34m[\u001b[0m\u001b[0;36m2\u001b[0m\u001b[0;34m,\u001b[0m\u001b[0;36m4\u001b[0m\u001b[0;34m]\u001b[0m\u001b[0;34m)\u001b[0m\u001b[0;34m\u001b[0m\u001b[0;34m\u001b[0m\u001b[0m\n\u001b[1;32m      3\u001b[0m \u001b[0;34m\u001b[0m\u001b[0m\n\u001b[0;32m----> 4\u001b[0;31m \u001b[0msolution_two\u001b[0m \u001b[0;34m=\u001b[0m \u001b[0mnp\u001b[0m\u001b[0;34m.\u001b[0m\u001b[0mlinalg\u001b[0m\u001b[0;34m.\u001b[0m\u001b[0msolve\u001b[0m\u001b[0;34m(\u001b[0m\u001b[0mA\u001b[0m\u001b[0;34m,\u001b[0m\u001b[0mB\u001b[0m\u001b[0;34m)\u001b[0m\u001b[0;34m\u001b[0m\u001b[0;34m\u001b[0m\u001b[0m\n\u001b[0m\u001b[1;32m      5\u001b[0m \u001b[0mprint\u001b[0m\u001b[0;34m(\u001b[0m\u001b[0msolution_two\u001b[0m\u001b[0;34m)\u001b[0m\u001b[0;34m\u001b[0m\u001b[0;34m\u001b[0m\u001b[0m\n",
            "\u001b[0;32m/usr/local/lib/python3.11/dist-packages/numpy/linalg/_linalg.py\u001b[0m in \u001b[0;36msolve\u001b[0;34m(a, b)\u001b[0m\n\u001b[1;32m    408\u001b[0m     with errstate(call=_raise_linalgerror_singular, invalid='call',\n\u001b[1;32m    409\u001b[0m                   over='ignore', divide='ignore', under='ignore'):\n\u001b[0;32m--> 410\u001b[0;31m         \u001b[0mr\u001b[0m \u001b[0;34m=\u001b[0m \u001b[0mgufunc\u001b[0m\u001b[0;34m(\u001b[0m\u001b[0ma\u001b[0m\u001b[0;34m,\u001b[0m \u001b[0mb\u001b[0m\u001b[0;34m,\u001b[0m \u001b[0msignature\u001b[0m\u001b[0;34m=\u001b[0m\u001b[0msignature\u001b[0m\u001b[0;34m)\u001b[0m\u001b[0;34m\u001b[0m\u001b[0;34m\u001b[0m\u001b[0m\n\u001b[0m\u001b[1;32m    411\u001b[0m \u001b[0;34m\u001b[0m\u001b[0m\n\u001b[1;32m    412\u001b[0m     \u001b[0;32mreturn\u001b[0m \u001b[0mwrap\u001b[0m\u001b[0;34m(\u001b[0m\u001b[0mr\u001b[0m\u001b[0;34m.\u001b[0m\u001b[0mastype\u001b[0m\u001b[0;34m(\u001b[0m\u001b[0mresult_t\u001b[0m\u001b[0;34m,\u001b[0m \u001b[0mcopy\u001b[0m\u001b[0;34m=\u001b[0m\u001b[0;32mFalse\u001b[0m\u001b[0;34m)\u001b[0m\u001b[0;34m)\u001b[0m\u001b[0;34m\u001b[0m\u001b[0;34m\u001b[0m\u001b[0m\n",
            "\u001b[0;32m/usr/local/lib/python3.11/dist-packages/numpy/linalg/_linalg.py\u001b[0m in \u001b[0;36m_raise_linalgerror_singular\u001b[0;34m(err, flag)\u001b[0m\n\u001b[1;32m    102\u001b[0m \u001b[0;34m\u001b[0m\u001b[0m\n\u001b[1;32m    103\u001b[0m \u001b[0;32mdef\u001b[0m \u001b[0m_raise_linalgerror_singular\u001b[0m\u001b[0;34m(\u001b[0m\u001b[0merr\u001b[0m\u001b[0;34m,\u001b[0m \u001b[0mflag\u001b[0m\u001b[0;34m)\u001b[0m\u001b[0;34m:\u001b[0m\u001b[0;34m\u001b[0m\u001b[0;34m\u001b[0m\u001b[0m\n\u001b[0;32m--> 104\u001b[0;31m     \u001b[0;32mraise\u001b[0m \u001b[0mLinAlgError\u001b[0m\u001b[0;34m(\u001b[0m\u001b[0;34m\"Singular matrix\"\u001b[0m\u001b[0;34m)\u001b[0m\u001b[0;34m\u001b[0m\u001b[0;34m\u001b[0m\u001b[0m\n\u001b[0m\u001b[1;32m    105\u001b[0m \u001b[0;34m\u001b[0m\u001b[0m\n\u001b[1;32m    106\u001b[0m \u001b[0;32mdef\u001b[0m \u001b[0m_raise_linalgerror_nonposdef\u001b[0m\u001b[0;34m(\u001b[0m\u001b[0merr\u001b[0m\u001b[0;34m,\u001b[0m \u001b[0mflag\u001b[0m\u001b[0;34m)\u001b[0m\u001b[0;34m:\u001b[0m\u001b[0;34m\u001b[0m\u001b[0;34m\u001b[0m\u001b[0m\n",
            "\u001b[0;31mLinAlgError\u001b[0m: Singular matrix"
          ]
        }
      ]
    },
    {
      "cell_type": "markdown",
      "source": [
        "## 9. Ejercicios Prácticos"
      ],
      "metadata": {
        "id": "_bEo7-mqlVf9"
      }
    },
    {
      "cell_type": "markdown",
      "source": [
        "**Ejercicio 1: Estadísticas**\n",
        "\n",
        "- Genera un array aleatorio de forma (4, 5) con números enteros entre 0 y 100.\n",
        "- Calcula el promedio, el valor mínimo y su índice global.\n",
        "- Encuentra el valor máximo de cada fila y de cada columna."
      ],
      "metadata": {
        "id": "qrHq4ppSmDOQ"
      }
    },
    {
      "cell_type": "code",
      "source": [],
      "metadata": {
        "id": "VZtm4M9umKZO"
      },
      "execution_count": null,
      "outputs": []
    },
    {
      "cell_type": "markdown",
      "source": [
        "**Ejercicio 2: Manipulación de Forma**\n",
        "\n",
        "- Crea una matriz de 3x3 con números consecutivos del 1 al 9.\n",
        "- Transpón la matriz y aplana el resultado.\n",
        "- Reshapea el array a una forma de (9, 1)."
      ],
      "metadata": {
        "id": "-dTGPcVMmK51"
      }
    },
    {
      "cell_type": "code",
      "source": [],
      "metadata": {
        "id": "wXBV4apdmTSh"
      },
      "execution_count": null,
      "outputs": []
    },
    {
      "cell_type": "markdown",
      "source": [
        "**Ejercicio 3: Álgebra Lineal**\n",
        "\n",
        "Resuelve el sistema de ecuaciones:\n",
        "\n",
        "3x +  2y −  z =  1\n",
        "\n",
        "2x −  2y + 4z = −2\n",
        "\n",
        "−x + 21y −  z =  0​\n",
        "\n",
        "\n",
        "- Encuentra la solución para las variables x, y, z.\n",
        "- Comprueba la solución sustituyéndola en las ecuaciones originales.\n",
        "- Calcula el determinante de la matriz de coeficientes.\n"
      ],
      "metadata": {
        "id": "Ik5SYZ_kmTwR"
      }
    },
    {
      "cell_type": "code",
      "source": [],
      "metadata": {
        "id": "UTSxGfpomvDe"
      },
      "execution_count": null,
      "outputs": []
    },
    {
      "cell_type": "markdown",
      "source": [
        "---\n",
        "\n",
        "# Gracias por completar este laboratorio!\n",
        "\n",
        "---"
      ],
      "metadata": {
        "id": "zxDh8KHMl33r"
      }
    }
  ]
}