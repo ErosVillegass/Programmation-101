{
  "nbformat": 4,
  "nbformat_minor": 0,
  "metadata": {
    "colab": {
      "provenance": [],
      "include_colab_link": true
    },
    "kernelspec": {
      "name": "python3",
      "display_name": "Python 3"
    },
    "language_info": {
      "name": "python"
    }
  },
  "cells": [
    {
      "cell_type": "markdown",
      "metadata": {
        "id": "view-in-github",
        "colab_type": "text"
      },
      "source": [
        "<a href=\"https://colab.research.google.com/github/ErosVillegass/Programmation-101/blob/main/clase04/02_estructuras_de_datos.ipynb\" target=\"_parent\"><img src=\"https://colab.research.google.com/assets/colab-badge.svg\" alt=\"Open In Colab\"/></a>"
      ]
    },
    {
      "cell_type": "markdown",
      "source": [
        "<img src=\"https://www.ctic.uni.edu.pe/wp-content/uploads/2022/04/588px-x-348px-web-1.png\" alt=\"HTML5 Icon\" width=\"900\" height=\"350\" >\n"
      ],
      "metadata": {
        "id": "a2Ojkh4ciEiA"
      }
    },
    {
      "cell_type": "markdown",
      "source": [
        "<h1 align=center><font size = 5>ESTRUCTURAS DE DATOS - PARTE 1\n",
        "</font></h1>\n",
        "\n",
        "---"
      ],
      "metadata": {
        "id": "-amNk-kqiHO2"
      }
    },
    {
      "cell_type": "markdown",
      "source": [
        "## Tabla de Contenidos\n",
        "\n",
        "<div class=\"alert alert-block alert-info\" style=\"margin-top: 20px\">\n",
        "\n",
        "<font size = 3>\n",
        "    \n",
        "1. <a href=\"#item31\">Listas</a>  \n",
        "2. <a href=\"#item31\">Tuplas</a>  \n",
        "3. <a href=\"#item31\">Slicing</a>  \n",
        "4. <a href=\"#item31\">List comprehension</a>  \n",
        "</font>\n",
        "</div>\n",
        "\n",
        "---\n",
        "\n",
        "\n",
        "\n"
      ],
      "metadata": {
        "id": "qJ6hLRHNiQCG"
      }
    },
    {
      "cell_type": "markdown",
      "source": [
        "## <b>Objetivo:</b>\n",
        "\n",
        "Este laboratorio está diseñado para cubrir los conceptos de listas, tuplas, slicing, y listas por comprensión, con ejercicios detallados para practicar la manipulación de estos tipos de datos en Python.\n",
        "\n",
        "---"
      ],
      "metadata": {
        "id": "1XCUOST_igWZ"
      }
    },
    {
      "cell_type": "markdown",
      "source": [
        "## <b>1. Trabajando con Listas numéricas</b>\n",
        "\n",
        "Las listas son una secuencia de elementos que pueden ser modificados después de su creación. Vamos a realizar varias operaciones con listas numéricas, utilizando también la función range() para generar secuencias de números.\n",
        "\n"
      ],
      "metadata": {
        "id": "MWslSPQKjLYb"
      }
    },
    {
      "cell_type": "markdown",
      "source": [
        "### Ejemplo 1.1: Creación de listas\n"
      ],
      "metadata": {
        "id": "WVuNuyWsjXsU"
      }
    },
    {
      "cell_type": "code",
      "source": [
        "my_list = [1, 2, 3, 5 , 10,  'hola', 'a', [1, 2, '3']]\n"
      ],
      "metadata": {
        "id": "PipEewFTEOzw"
      },
      "execution_count": null,
      "outputs": []
    },
    {
      "cell_type": "code",
      "source": [
        "print(my_list)"
      ],
      "metadata": {
        "colab": {
          "base_uri": "https://localhost:8080/"
        },
        "id": "KxEKK7FXEdO7",
        "outputId": "2f48f243-dbd6-4c76-ccce-2f6df4644c52"
      },
      "execution_count": null,
      "outputs": [
        {
          "output_type": "stream",
          "name": "stdout",
          "text": [
            "[1, 2, 3, 5, 10, 'hola', 'a', [1, 2, '3']]\n"
          ]
        }
      ]
    },
    {
      "cell_type": "code",
      "source": [
        "students = ['Angelo', 'Diego', 'Edgar', 'Edwin','Enrique', ['Estuardo','John','Julio'], 'Adolfo' ]\n",
        "students\n",
        "\n",
        "print(students[0:2])\n",
        "#Print Edwin with (-)\n",
        "print(students[-4])\n",
        "#Print Edwin and Enrique\n",
        "print(students[3:5])\n",
        "#Print John and Julio\n",
        "print(students[5][1:4])"
      ],
      "metadata": {
        "colab": {
          "base_uri": "https://localhost:8080/"
        },
        "id": "cfq1oJTLEsA2",
        "outputId": "2c92254f-26bc-4816-ea89-8a868c59f18f"
      },
      "execution_count": 3,
      "outputs": [
        {
          "output_type": "stream",
          "name": "stdout",
          "text": [
            "['Angelo', 'Diego']\n",
            "Edwin\n",
            "['Edwin', 'Enrique']\n",
            "['John', 'Julio']\n"
          ]
        }
      ]
    },
    {
      "cell_type": "code",
      "source": [],
      "metadata": {
        "id": "U5MXz_e8E5kZ"
      },
      "execution_count": null,
      "outputs": []
    },
    {
      "cell_type": "code",
      "source": [
        "students[2]"
      ],
      "metadata": {
        "colab": {
          "base_uri": "https://localhost:8080/",
          "height": 35
        },
        "id": "fsgUcamWFVgl",
        "outputId": "033daae1-6090-4d8f-82df-2e7445916804"
      },
      "execution_count": null,
      "outputs": [
        {
          "output_type": "execute_result",
          "data": {
            "text/plain": [
              "'Edgar'"
            ],
            "application/vnd.google.colaboratory.intrinsic+json": {
              "type": "string"
            }
          },
          "metadata": {},
          "execution_count": 6
        }
      ]
    },
    {
      "cell_type": "code",
      "source": [
        "students[3]"
      ],
      "metadata": {
        "colab": {
          "base_uri": "https://localhost:8080/",
          "height": 35
        },
        "id": "UypQMfueFfx8",
        "outputId": "266bf437-150e-4fe7-eef4-1d1f27c9ecd2"
      },
      "execution_count": null,
      "outputs": [
        {
          "output_type": "execute_result",
          "data": {
            "text/plain": [
              "'Edwin'"
            ],
            "application/vnd.google.colaboratory.intrinsic+json": {
              "type": "string"
            }
          },
          "metadata": {},
          "execution_count": 7
        }
      ]
    },
    {
      "cell_type": "code",
      "source": [
        "students[-4]"
      ],
      "metadata": {
        "colab": {
          "base_uri": "https://localhost:8080/",
          "height": 35
        },
        "id": "ufBGR5JpF-pq",
        "outputId": "780a734c-4e1e-420e-b56a-4e20e3fc2e62"
      },
      "execution_count": null,
      "outputs": [
        {
          "output_type": "execute_result",
          "data": {
            "text/plain": [
              "'Diego'"
            ],
            "application/vnd.google.colaboratory.intrinsic+json": {
              "type": "string"
            }
          },
          "metadata": {},
          "execution_count": 8
        }
      ]
    },
    {
      "cell_type": "code",
      "source": [
        "# Slicing\n",
        "#[2 - 4>\n",
        "students[2:4]"
      ],
      "metadata": {
        "colab": {
          "base_uri": "https://localhost:8080/"
        },
        "id": "UcJxYVYuGHaA",
        "outputId": "e12d4137-1a19-47d4-f547-cb05be272b2e"
      },
      "execution_count": null,
      "outputs": [
        {
          "output_type": "execute_result",
          "data": {
            "text/plain": [
              "['Edgar', 'Edwin']"
            ]
          },
          "metadata": {},
          "execution_count": 11
        }
      ]
    },
    {
      "cell_type": "code",
      "source": [
        "#[-3 - -1>\n",
        "students[-3:-1]"
      ],
      "metadata": {
        "colab": {
          "base_uri": "https://localhost:8080/"
        },
        "id": "IqER2YHLHILD",
        "outputId": "6f63d34c-f231-45e6-cb7a-6970d604d6bf"
      },
      "execution_count": null,
      "outputs": [
        {
          "output_type": "execute_result",
          "data": {
            "text/plain": [
              "['Edgar', 'Edwin']"
            ]
          },
          "metadata": {},
          "execution_count": 12
        }
      ]
    },
    {
      "cell_type": "code",
      "source": [
        "\n",
        "my_list = [1, 2, 3, 4, 5, 6, [7, 8, 9], 10, 11, 12]\n",
        "\n",
        "print(my_list[7])\n",
        "print(my_list[-5])\n",
        "\n",
        "print(my_list[0: 3])\n",
        "\n",
        "print(my_list[-3:])\n",
        "print(my_list[5:])\n",
        "print(my_list[-2:])"
      ],
      "metadata": {
        "colab": {
          "base_uri": "https://localhost:8080/"
        },
        "id": "APpfOpVSHhfm",
        "outputId": "2d613df5-2340-4c8c-a72a-14cba5fad98e"
      },
      "execution_count": 8,
      "outputs": [
        {
          "output_type": "stream",
          "name": "stdout",
          "text": [
            "10\n",
            "6\n",
            "[1, 2, 3]\n",
            "[10, 11, 12]\n",
            "[6, [7, 8, 9], 10, 11, 12]\n",
            "[11, 12]\n"
          ]
        }
      ]
    },
    {
      "cell_type": "markdown",
      "source": [
        "¿Cómo agregar elementos dentro de una lista?"
      ],
      "metadata": {
        "id": "ZmkXLsWGZML-"
      }
    },
    {
      "cell_type": "code",
      "source": [
        "my_list = [1, 2, 3, 4, 5, 6, [7, 8, 9], 10, 11, 12]\n",
        "\n",
        "my_list.append(\"Casa\")\n",
        "my_list.insert(3,\"Casa\")\n",
        "my_list.insert(0,\"Casota\")\n",
        "my_list.append(1234)\n",
        "my_list.append(1234156)\n",
        "my_list.insert(0,\"Mami\")\n",
        "my_list.insert(0,\"1\")\n",
        "\n",
        "print(my_list)\n",
        "\n"
      ],
      "metadata": {
        "id": "4a0-mWVoZLQH",
        "outputId": "5ba77700-14ce-4206-b3ff-0886a16aad19",
        "colab": {
          "base_uri": "https://localhost:8080/"
        }
      },
      "execution_count": 12,
      "outputs": [
        {
          "output_type": "stream",
          "name": "stdout",
          "text": [
            "['1', 'Mami', 'Casota', 1, 2, 3, 'Casa', 4, 5, 6, [7, 8, 9], 10, 11, 12, 'Casa', 1234, 1234156]\n"
          ]
        }
      ]
    },
    {
      "cell_type": "markdown",
      "source": [
        "Escribe programa que a a recibir el nombre de los estudiantes y el curso. Wardar resultados en listas. El programa debe permanecer abierto hasta salir.   \n",
        "MOdifique el programa para cada estudiante nueo se warde en el primer slot de la lista.\n"
      ],
      "metadata": {
        "id": "GViFtuZja00Y"
      }
    },
    {
      "cell_type": "code",
      "source": [
        "list_names=[]\n",
        "list_courses=[]\n",
        "flag=True\n",
        "while flag:\n",
        "  student_name=str(input(\"Write your name\"))\n",
        "  course_name=str(input(\"Write your name\"))\n",
        "  list_names.append(student_name)\n",
        "  list_courses.append(course_name)\n",
        "  close_program = str(input(\"Do yo want to close the program Y/N: \"))\n",
        "  if close_program.lower() == \"y\":\n",
        "    flag=False\n",
        "\n",
        "print(list_names)\n",
        "print(list_courses)\n",
        "\n",
        "while flag:\n",
        "  student_name=str(input(\"Write your name\"))\n",
        "  if student_name in list_names:\n",
        "    print(\"You're in the list of students\")\n",
        "  else:\n",
        "    course_name=str(input(\"Write your name\"))\n",
        "\n",
        "\n",
        "\n",
        "\n",
        "\n",
        "\n",
        "\n",
        "\n",
        "\n"
      ],
      "metadata": {
        "id": "gXRQAjmibh_J",
        "outputId": "3671e98e-d694-49e2-bd8f-394615829b2e",
        "colab": {
          "base_uri": "https://localhost:8080/"
        }
      },
      "execution_count": 13,
      "outputs": [
        {
          "output_type": "stream",
          "name": "stdout",
          "text": [
            "Write your nameEros\n",
            "Write your nameEros\n",
            "Do yo want to close the program Y/N: Y\n",
            "['Eros']\n",
            "['Eros']\n"
          ]
        }
      ]
    },
    {
      "cell_type": "markdown",
      "source": [
        "Del Students with Del array and array.pop()"
      ],
      "metadata": {
        "id": "sD1KUTTshCBX"
      }
    },
    {
      "cell_type": "code",
      "source": [
        "students =  ['Jhon','Daniel','Ramiro','Herles','Alejandro']\n",
        "students_b = ['Sherley','Jorge','Bruno']\n",
        "\n",
        "print(students)\n",
        "print(students_b)\n",
        "print(students.pop())\n",
        "print(students)\n",
        "print(students.pop())\n",
        "print(students)\n"
      ],
      "metadata": {
        "id": "1toEPbk8byap",
        "outputId": "9bc56e4d-2b87-4530-cbda-520ac7f22d1b",
        "colab": {
          "base_uri": "https://localhost:8080/"
        }
      },
      "execution_count": 23,
      "outputs": [
        {
          "output_type": "stream",
          "name": "stdout",
          "text": [
            "['Jhon', 'Daniel', 'Ramiro', 'Herles', 'Alejandro']\n",
            "['Sherley', 'Jorge', 'Bruno']\n",
            "Alejandro\n",
            "['Jhon', 'Daniel', 'Ramiro', 'Herles']\n",
            "Herles\n",
            "['Jhon', 'Daniel', 'Ramiro']\n"
          ]
        }
      ]
    },
    {
      "cell_type": "markdown",
      "source": [
        "Reciba lista de compras, posteriormente que enie una orden de procesamiento por cada pedido y que elimine paulatinamente cada uno del carrito de compras mientras se procesa."
      ],
      "metadata": {
        "id": "wwOSiQm3jHy8"
      }
    },
    {
      "cell_type": "code",
      "source": [
        "list_compras = []\n",
        "flag = True\n",
        "\n",
        "while flag :\n",
        "  items = input(\"Write your items: \")\n",
        "  list_compras.append(items)\n",
        "  exit = input (\"Do you want to keep adding item: Y/N\")\n",
        "  if exit.lower() == \"n\":\n",
        "    flag = False\n",
        "\n",
        "print(\"Procesando compras\")\n",
        "print(list_compras)\n",
        "\n",
        "while len(list_compras) >= 0:\n",
        "  print(list_compras)\n",
        "  print(list_compras.pop())\n",
        "  if len(list_compras) == 0 :\n",
        "    break\n",
        "\n",
        "print(list_compras)\n",
        "\n",
        "\n",
        "\n"
      ],
      "metadata": {
        "id": "IyoDD2vTjXNi",
        "outputId": "8f799f7f-1b3c-42ef-e3e0-9e18b169d2cd",
        "colab": {
          "base_uri": "https://localhost:8080/"
        }
      },
      "execution_count": 24,
      "outputs": [
        {
          "output_type": "stream",
          "name": "stdout",
          "text": [
            "Write your items: Papa\n",
            "Do you want to keep adding item: Y/NY\n",
            "Write your items: Caramelo\n",
            "Do you want to keep adding item: Y/NY\n",
            "Write your items: Camote\n",
            "Do you want to keep adding item: Y/NY\n",
            "Write your items: Zanahoria\n",
            "Do you want to keep adding item: Y/NN\n",
            "Procesando compras\n",
            "['Papa', 'Caramelo', 'Camote', 'Zanahoria']\n",
            "['Papa', 'Caramelo', 'Camote', 'Zanahoria']\n",
            "Zanahoria\n",
            "['Papa', 'Caramelo', 'Camote']\n",
            "Camote\n",
            "['Papa', 'Caramelo']\n",
            "Caramelo\n",
            "['Papa']\n",
            "Papa\n",
            "[]\n"
          ]
        }
      ]
    },
    {
      "cell_type": "code",
      "source": [
        "my_list = [1, 2, 3, 4, 5, 6, [7, 8, 9], 10, 11, 12]\n",
        "\n",
        "# 1. con indice negativo [3, 4, 5]\n",
        "# 2. extrae el listado [7, 8, 9]\n",
        "# 3. extrae el valor 8\n",
        "# 4. extrae el listado [[7, 8, 9], 10, 11, 12]\n",
        "\n",
        "# 1. [>  inicio,  fin +1\n",
        "print(my_list[2:5])\n",
        "print(my_list[-8:-5])\n",
        "\n",
        "# 2.\n",
        "print(my_list[6])\n",
        "print(my_list[-4])\n",
        "\n",
        "# 3.\n",
        "print(my_list[6][1])\n",
        "\n",
        "# 4.\n",
        "print(my_list[6:])\n"
      ],
      "metadata": {
        "colab": {
          "base_uri": "https://localhost:8080/"
        },
        "id": "oOCbWT5TI5aR",
        "outputId": "a6e5a404-55f8-46ab-f935-628da5072dfe"
      },
      "execution_count": 28,
      "outputs": [
        {
          "output_type": "stream",
          "name": "stdout",
          "text": [
            "[3, 4, 5]\n",
            "[3, 4, 5]\n",
            "[7, 8, 9]\n",
            "[7, 8, 9]\n",
            "8\n",
            "[[7, 8, 9], 10, 11, 12]\n"
          ]
        }
      ]
    },
    {
      "cell_type": "markdown",
      "source": [
        "Sort organiza la lista en orden al reez de menor a mayor, sort(reerse = True) Useful to reverse the orden of information in a list."
      ],
      "metadata": {
        "id": "lHnmz2-LvpcC"
      }
    },
    {
      "cell_type": "code",
      "source": [
        "numbers = [3,7,1,2,6,4]\n",
        "numbers.sort()\n",
        "print(numbers)\n",
        "\n",
        "numbers = [3,7,1,2,6,4]\n",
        "numbers.sort(reverse= True)\n",
        "print(numbers)\n",
        "\n",
        "pair_numbers = []\n",
        "for i in range(0,30,2):\n",
        "  pair_numbers.append(i)\n",
        "\n",
        "print(pair_numbers)\n",
        "pair_numbers.sort(reverse= True) # Doesnt return a value, it change base list. Sort without argument arrange information from lowest to highest.\n",
        "print(pair_numbers)\n",
        "\n"
      ],
      "metadata": {
        "id": "44XI-lyrthH5",
        "outputId": "0ad165a2-7732-4086-a17b-1a444291c1e0",
        "colab": {
          "base_uri": "https://localhost:8080/"
        }
      },
      "execution_count": 44,
      "outputs": [
        {
          "output_type": "stream",
          "name": "stdout",
          "text": [
            "[1, 2, 3, 4, 6, 7]\n",
            "[7, 6, 4, 3, 2, 1]\n",
            "[0, 2, 4, 6, 8, 10, 12, 14, 16, 18, 20, 22, 24, 26, 28]\n",
            "[28, 26, 24, 22, 20, 18, 16, 14, 12, 10, 8, 6, 4, 2, 0]\n"
          ]
        }
      ]
    },
    {
      "cell_type": "markdown",
      "source": [
        "Programa que permite ingresar el nombre de un estudiante y preguntes la nota de los cursos de matematicas, programación estadisticas, luego calcule su promedio y guarde en los listas separadas su nombre y su nota fina. El programa debe terminar cuando el usuario indique salir."
      ],
      "metadata": {
        "id": "WsaXeDjFwd1b"
      }
    },
    {
      "cell_type": "code",
      "source": [
        "lista_one = []\n",
        "lista_one.append([1,\"Perro\"])\n",
        "print(lista_one)\n"
      ],
      "metadata": {
        "id": "fgPNaXYb-jFj",
        "outputId": "c649f936-a243-4c89-89fd-0e1aca0d28ab",
        "colab": {
          "base_uri": "https://localhost:8080/"
        }
      },
      "execution_count": 55,
      "outputs": [
        {
          "output_type": "stream",
          "name": "stdout",
          "text": [
            "[[1, 'Perro']]\n"
          ]
        }
      ]
    },
    {
      "cell_type": "code",
      "source": [
        "# Fill information about student and marks from differents courses.\n",
        "# Estimate the average and storage.\n",
        "list_student = []\n",
        "math_grades = []\n",
        "stad_grades = []\n",
        "average_grades = []\n",
        "flag = True\n",
        "\n",
        "while flag :\n",
        "  student_name = input (\"Insert your name : \")\n",
        "  math_mark = int(input (\"Insert your Math grade : \"))\n",
        "  Stad_mark = int(input (\"Insert your Stad grade : \"))\n",
        "  list_student.append(student_name)\n",
        "  math_grades.append(math_grades)\n",
        "  stad_grades.append(stad_grades)\n",
        "  average_grades.append([student_name, (math_mark+Stad_mark)/2])\n",
        "  salir = input(\"Write exit to finish the program: \")\n",
        "  if salir.lower().strip() == \"exit\":\n",
        "      flag = False\n",
        "\n",
        "print(average_grades)"
      ],
      "metadata": {
        "id": "oJspdqXP0wgx",
        "outputId": "f000e920-b313-4628-eec8-32bf46e99fab",
        "colab": {
          "base_uri": "https://localhost:8080/"
        }
      },
      "execution_count": 74,
      "outputs": [
        {
          "output_type": "stream",
          "name": "stdout",
          "text": [
            "Insert your name : Eors\n",
            "Insert your Math grade : 20\n",
            "Insert your Stad grade : 10\n",
            "Write exit to finish the program: N\n",
            "Insert your name : Carlos\n",
            "Insert your Math grade : 10\n",
            "Insert your Stad grade : 15\n",
            "Write exit to finish the program: n\n",
            "Insert your name : Santiago\n",
            "Insert your Math grade : 10\n",
            "Insert your Stad grade : 2\n",
            "Write exit to finish the program: Exit\n",
            "[['Eors', 15.0], ['Carlos', 12.5], ['Santiago', 6.0]]\n"
          ]
        }
      ]
    },
    {
      "cell_type": "code",
      "source": [
        "list_student = ['eros','pedro','juan']\n",
        "math_grades = [8,12,13]\n",
        "stad_grades = [20,8,6]\n",
        "promedio = []\n",
        "final_promedio_student = []\n",
        "flag = True\n",
        "while flag:\n",
        "  student = input(\"Write the name of the student: \")\n",
        "  if student in list_student:\n",
        "    position = list_student.index(student)\n",
        "    final_promedio = (math_grades[position] +\n",
        "                      stad_grades[position]\n",
        "                      ) / 2\n",
        "    final_promedio_student.append([student, final_promedio])\n",
        "    print(final_promedio_student[position])\n",
        "  else:\n",
        "    print(\"You are not a student\")\n",
        "    salir = input(\"Write exit to finish the program: \")\n",
        "    if salir.lower().strip() == \"exit\":\n",
        "      flag = False\n",
        "\n",
        "print(final_promedio_student)\n"
      ],
      "metadata": {
        "id": "ggJ7TK8FxNsc",
        "outputId": "d7511899-50ef-4cd9-d547-c2a2b98e361b",
        "colab": {
          "base_uri": "https://localhost:8080/",
          "height": 356
        }
      },
      "execution_count": 75,
      "outputs": [
        {
          "output_type": "error",
          "ename": "KeyboardInterrupt",
          "evalue": "Interrupted by user",
          "traceback": [
            "\u001b[0;31m---------------------------------------------------------------------------\u001b[0m",
            "\u001b[0;31mKeyboardInterrupt\u001b[0m                         Traceback (most recent call last)",
            "\u001b[0;32m<ipython-input-75-564b8987dd20>\u001b[0m in \u001b[0;36m<cell line: 0>\u001b[0;34m()\u001b[0m\n\u001b[1;32m      6\u001b[0m \u001b[0mflag\u001b[0m \u001b[0;34m=\u001b[0m \u001b[0;32mTrue\u001b[0m\u001b[0;34m\u001b[0m\u001b[0;34m\u001b[0m\u001b[0m\n\u001b[1;32m      7\u001b[0m \u001b[0;32mwhile\u001b[0m \u001b[0mflag\u001b[0m\u001b[0;34m:\u001b[0m\u001b[0;34m\u001b[0m\u001b[0;34m\u001b[0m\u001b[0m\n\u001b[0;32m----> 8\u001b[0;31m   \u001b[0mstudent\u001b[0m \u001b[0;34m=\u001b[0m \u001b[0minput\u001b[0m\u001b[0;34m(\u001b[0m\u001b[0;34m\"Write the name of the student: \"\u001b[0m\u001b[0;34m)\u001b[0m\u001b[0;34m\u001b[0m\u001b[0;34m\u001b[0m\u001b[0m\n\u001b[0m\u001b[1;32m      9\u001b[0m   \u001b[0;32mif\u001b[0m \u001b[0mstudent\u001b[0m \u001b[0;32min\u001b[0m \u001b[0mlist_student\u001b[0m\u001b[0;34m:\u001b[0m\u001b[0;34m\u001b[0m\u001b[0;34m\u001b[0m\u001b[0m\n\u001b[1;32m     10\u001b[0m     \u001b[0mposition\u001b[0m \u001b[0;34m=\u001b[0m \u001b[0mlist_student\u001b[0m\u001b[0;34m.\u001b[0m\u001b[0mindex\u001b[0m\u001b[0;34m(\u001b[0m\u001b[0mstudent\u001b[0m\u001b[0;34m)\u001b[0m\u001b[0;34m\u001b[0m\u001b[0;34m\u001b[0m\u001b[0m\n",
            "\u001b[0;32m/usr/local/lib/python3.11/dist-packages/ipykernel/kernelbase.py\u001b[0m in \u001b[0;36mraw_input\u001b[0;34m(self, prompt)\u001b[0m\n\u001b[1;32m   1175\u001b[0m                 \u001b[0;34m\"raw_input was called, but this frontend does not support input requests.\"\u001b[0m\u001b[0;34m\u001b[0m\u001b[0;34m\u001b[0m\u001b[0m\n\u001b[1;32m   1176\u001b[0m             )\n\u001b[0;32m-> 1177\u001b[0;31m         return self._input_request(\n\u001b[0m\u001b[1;32m   1178\u001b[0m             \u001b[0mstr\u001b[0m\u001b[0;34m(\u001b[0m\u001b[0mprompt\u001b[0m\u001b[0;34m)\u001b[0m\u001b[0;34m,\u001b[0m\u001b[0;34m\u001b[0m\u001b[0;34m\u001b[0m\u001b[0m\n\u001b[1;32m   1179\u001b[0m             \u001b[0mself\u001b[0m\u001b[0;34m.\u001b[0m\u001b[0m_parent_ident\u001b[0m\u001b[0;34m[\u001b[0m\u001b[0;34m\"shell\"\u001b[0m\u001b[0;34m]\u001b[0m\u001b[0;34m,\u001b[0m\u001b[0;34m\u001b[0m\u001b[0;34m\u001b[0m\u001b[0m\n",
            "\u001b[0;32m/usr/local/lib/python3.11/dist-packages/ipykernel/kernelbase.py\u001b[0m in \u001b[0;36m_input_request\u001b[0;34m(self, prompt, ident, parent, password)\u001b[0m\n\u001b[1;32m   1217\u001b[0m             \u001b[0;32mexcept\u001b[0m \u001b[0mKeyboardInterrupt\u001b[0m\u001b[0;34m:\u001b[0m\u001b[0;34m\u001b[0m\u001b[0;34m\u001b[0m\u001b[0m\n\u001b[1;32m   1218\u001b[0m                 \u001b[0;31m# re-raise KeyboardInterrupt, to truncate traceback\u001b[0m\u001b[0;34m\u001b[0m\u001b[0;34m\u001b[0m\u001b[0m\n\u001b[0;32m-> 1219\u001b[0;31m                 \u001b[0;32mraise\u001b[0m \u001b[0mKeyboardInterrupt\u001b[0m\u001b[0;34m(\u001b[0m\u001b[0;34m\"Interrupted by user\"\u001b[0m\u001b[0;34m)\u001b[0m \u001b[0;32mfrom\u001b[0m \u001b[0;32mNone\u001b[0m\u001b[0;34m\u001b[0m\u001b[0;34m\u001b[0m\u001b[0m\n\u001b[0m\u001b[1;32m   1220\u001b[0m             \u001b[0;32mexcept\u001b[0m \u001b[0mException\u001b[0m\u001b[0;34m:\u001b[0m\u001b[0;34m\u001b[0m\u001b[0;34m\u001b[0m\u001b[0m\n\u001b[1;32m   1221\u001b[0m                 \u001b[0mself\u001b[0m\u001b[0;34m.\u001b[0m\u001b[0mlog\u001b[0m\u001b[0;34m.\u001b[0m\u001b[0mwarning\u001b[0m\u001b[0;34m(\u001b[0m\u001b[0;34m\"Invalid Message:\"\u001b[0m\u001b[0;34m,\u001b[0m \u001b[0mexc_info\u001b[0m\u001b[0;34m=\u001b[0m\u001b[0;32mTrue\u001b[0m\u001b[0;34m)\u001b[0m\u001b[0;34m\u001b[0m\u001b[0;34m\u001b[0m\u001b[0m\n",
            "\u001b[0;31mKeyboardInterrupt\u001b[0m: Interrupted by user"
          ]
        }
      ]
    },
    {
      "cell_type": "markdown",
      "source": [
        "Usando range , imprima los multiplos de 13 menores de 200."
      ],
      "metadata": {
        "id": "enSxtuRq3H1D"
      }
    },
    {
      "cell_type": "code",
      "source": [
        "list(range(0,200,13))"
      ],
      "metadata": {
        "id": "eBWR0otE3BuS",
        "outputId": "fbb8d295-11ba-47be-a8ed-34238d072fd5",
        "colab": {
          "base_uri": "https://localhost:8080/"
        }
      },
      "execution_count": null,
      "outputs": [
        {
          "output_type": "execute_result",
          "data": {
            "text/plain": [
              "[0, 13, 26, 39, 52, 65, 78, 91, 104, 117, 130, 143, 156, 169, 182, 195]"
            ]
          },
          "metadata": {},
          "execution_count": 53
        }
      ]
    },
    {
      "cell_type": "code",
      "source": [
        "print(my_list[:5])\n"
      ],
      "metadata": {
        "colab": {
          "base_uri": "https://localhost:8080/"
        },
        "id": "qrV1KcHzQE4o",
        "outputId": "fd2c8aaa-ce4a-4331-cd7c-a3c4231e5f92"
      },
      "execution_count": null,
      "outputs": [
        {
          "output_type": "stream",
          "name": "stdout",
          "text": [
            "[1, 2, 3, 4, 5]\n"
          ]
        }
      ]
    },
    {
      "cell_type": "code",
      "source": [
        "a = my_list[6]\n",
        "a[1]"
      ],
      "metadata": {
        "colab": {
          "base_uri": "https://localhost:8080/"
        },
        "id": "d_6KrUN3OC-E",
        "outputId": "861b18ca-5617-4754-979d-e6a2be44db3c"
      },
      "execution_count": null,
      "outputs": [
        {
          "output_type": "execute_result",
          "data": {
            "text/plain": [
              "8"
            ]
          },
          "metadata": {},
          "execution_count": 33
        }
      ]
    },
    {
      "cell_type": "code",
      "source": [
        "len(my_list)"
      ],
      "metadata": {
        "colab": {
          "base_uri": "https://localhost:8080/"
        },
        "id": "NOFnfQQ5OKg-",
        "outputId": "faaa5ecc-cd00-4e20-e675-47f3883f4671"
      },
      "execution_count": null,
      "outputs": [
        {
          "output_type": "execute_result",
          "data": {
            "text/plain": [
              "10"
            ]
          },
          "metadata": {},
          "execution_count": 43
        }
      ]
    },
    {
      "cell_type": "code",
      "source": [
        "list_a = ['R', 'Python', 'C++']\n",
        "list_b = ['spark', 'julia', 'pytorch']\n",
        "\n",
        "list_a + list_b"
      ],
      "metadata": {
        "colab": {
          "base_uri": "https://localhost:8080/"
        },
        "id": "hgxbGMfsQclq",
        "outputId": "6a73a73f-f586-4a69-a1bb-eac447e67190"
      },
      "execution_count": null,
      "outputs": [
        {
          "output_type": "execute_result",
          "data": {
            "text/plain": [
              "['R', 'Python', 'C++', 'spark', 'julia', 'pytorch']"
            ]
          },
          "metadata": {},
          "execution_count": 46
        }
      ]
    },
    {
      "cell_type": "code",
      "source": [
        "list_a.append(['spark', 'julia', 'pytorch'])\n",
        "print(list_a)"
      ],
      "metadata": {
        "colab": {
          "base_uri": "https://localhost:8080/"
        },
        "id": "C0O7PMxfQ2sf",
        "outputId": "e05957f8-6f46-454a-fed5-bf5666c596b5"
      },
      "execution_count": null,
      "outputs": [
        {
          "output_type": "stream",
          "name": "stdout",
          "text": [
            "['R', 'Python', 'C++', 'spark', 'julia', 'pytorch', ['spark', 'julia', 'pytorch'], ['spark', 'julia', 'pytorch']]\n"
          ]
        }
      ]
    },
    {
      "cell_type": "code",
      "source": [
        "\n",
        "# Escribe un programa que va a recibir el nombre de los estudiantes y los va a guardar en una lista\n",
        "\n",
        "list_names = []\n",
        "while True:\n",
        "    name = input('Hola, ¿Cuál es tu nombre? (escriba exit para salir): ')\n",
        "    if name == 'exit':\n",
        "        break\n",
        "    else:\n",
        "        list_names.append(name)\n",
        "        print('lista actualizada:', list_names)\n"
      ],
      "metadata": {
        "colab": {
          "base_uri": "https://localhost:8080/"
        },
        "id": "fpjvIsyIRTuO",
        "outputId": "5644ea04-1f7f-4929-9af0-24a5a8645847"
      },
      "execution_count": null,
      "outputs": [
        {
          "name": "stdout",
          "output_type": "stream",
          "text": [
            "Hola, ¿Cuál es tu nombre? (escriba exit para salir): Diego\n",
            "lista actualizada: ['Diego']\n",
            "Hola, ¿Cuál es tu nombre? (escriba exit para salir): Edwin\n",
            "lista actualizada: ['Diego', 'Edwin']\n",
            "Hola, ¿Cuál es tu nombre? (escriba exit para salir): Enrique\n",
            "lista actualizada: ['Diego', 'Edwin', 'Enrique']\n",
            "Hola, ¿Cuál es tu nombre? (escriba exit para salir): Fernando\n",
            "lista actualizada: ['Diego', 'Edwin', 'Enrique', 'Fernando']\n",
            "Hola, ¿Cuál es tu nombre? (escriba exit para salir): Geraldo\n",
            "lista actualizada: ['Diego', 'Edwin', 'Enrique', 'Fernando', 'Geraldo']\n",
            "Hola, ¿Cuál es tu nombre? (escriba exit para salir): Hugo\n",
            "lista actualizada: ['Diego', 'Edwin', 'Enrique', 'Fernando', 'Geraldo', 'Hugo']\n",
            "Hola, ¿Cuál es tu nombre? (escriba exit para salir): exit\n"
          ]
        }
      ]
    },
    {
      "cell_type": "code",
      "source": [
        "list_names[-2]"
      ],
      "metadata": {
        "colab": {
          "base_uri": "https://localhost:8080/",
          "height": 35
        },
        "id": "pbLHPwTbSt5k",
        "outputId": "4b64ea98-e045-4d1b-edcf-12bb1012ca47"
      },
      "execution_count": null,
      "outputs": [
        {
          "output_type": "execute_result",
          "data": {
            "text/plain": [
              "'Geraldo'"
            ],
            "application/vnd.google.colaboratory.intrinsic+json": {
              "type": "string"
            }
          },
          "metadata": {},
          "execution_count": 56
        }
      ]
    },
    {
      "cell_type": "code",
      "source": [
        "# Crear una lista de frutas\n",
        "frutas = [\"manzana\", \"banana\", \"naranja\", \"uva\", \"pera\"]\n"
      ],
      "metadata": {
        "id": "_nYyKe_bjHY5"
      },
      "execution_count": 77,
      "outputs": []
    },
    {
      "cell_type": "code",
      "execution_count": null,
      "metadata": {
        "id": "MNGFUaC6hyfi"
      },
      "outputs": [],
      "source": [
        "\n",
        "# Acceder a elementos individuales\n",
        "primera_fruta = frutas[0]\n",
        "ultima_fruta = frutas[-1]\n",
        "print(primera_fruta, ultima_fruta)\n",
        "\n"
      ]
    },
    {
      "cell_type": "code",
      "source": [
        "# Modificar un elemento\n",
        "frutas[1] = \"plátano\"\n",
        "print(frutas)"
      ],
      "metadata": {
        "id": "hbnOS3lsjdWc"
      },
      "execution_count": null,
      "outputs": []
    },
    {
      "cell_type": "markdown",
      "source": [
        "### Ejemplo 1.2: Métodos útiles de listas\n",
        "\n"
      ],
      "metadata": {
        "id": "oa1fRACgjlV_"
      }
    },
    {
      "cell_type": "code",
      "source": [
        "# Agregar un elemento al final\n",
        "frutas.append(\"kiwi\")\n",
        "print(frutas)\n"
      ],
      "metadata": {
        "id": "yrlpPiGWjol1"
      },
      "execution_count": null,
      "outputs": []
    },
    {
      "cell_type": "code",
      "source": [
        "\n",
        "# Insertar un elemento en una posición específica\n",
        "frutas.insert(2, \"mango\")\n",
        "print(frutas)\n"
      ],
      "metadata": {
        "id": "wx9q6KbWnZ56"
      },
      "execution_count": null,
      "outputs": []
    },
    {
      "cell_type": "code",
      "source": [
        "# Eliminar un elemento\n",
        "frutas.remove(\"naranja\")\n",
        "print(frutas)\n"
      ],
      "metadata": {
        "id": "XVXLcedpna3G"
      },
      "execution_count": null,
      "outputs": []
    },
    {
      "cell_type": "code",
      "source": [
        "# Ordenar una lista\n",
        "frutas = [\"manzana\", \"banana\", \"naranja\", \"uva\", \"pera\"]\n",
        "frutas.sort()\n",
        "print(frutas)\n"
      ],
      "metadata": {
        "id": "v0vdv2Wknb4y",
        "outputId": "7cf64a4c-a8c6-4c92-ba82-3e8568ae6c04",
        "colab": {
          "base_uri": "https://localhost:8080/"
        }
      },
      "execution_count": 79,
      "outputs": [
        {
          "output_type": "stream",
          "name": "stdout",
          "text": [
            "['banana', 'manzana', 'naranja', 'pera', 'uva']\n"
          ]
        }
      ]
    },
    {
      "cell_type": "code",
      "source": [
        "# Ordenar en reversa\n",
        "frutas.sort(reverse=True)\n",
        "print(frutas)"
      ],
      "metadata": {
        "id": "Z6ermqmGncXu"
      },
      "execution_count": null,
      "outputs": []
    },
    {
      "cell_type": "markdown",
      "source": [
        "### Ejemplo 1.3: Operaciones numéricas con listas\n",
        "\n"
      ],
      "metadata": {
        "id": "zxB2ys0rm21v"
      }
    },
    {
      "cell_type": "code",
      "source": [
        "digits = [1, 2, 3, 4, 5, 6, 7, 8, 9, 0]\n",
        "\n",
        "print(\"Mínimo:\", min(digits))\n",
        "print(\"Máximo:\", max(digits))\n",
        "print(\"Suma:\", sum(digits))\n",
        "\n",
        "\n",
        "numeros = [1, 2, 3, 4, 5, 6, 7, 8, 9, 10]\n",
        "\n",
        "# Mínimo, máximo y suma\n",
        "\n",
        "# Longitud de la lista\n",
        "\n",
        "\n",
        "# Promedio de los valores en la lista\n",
        "\n"
      ],
      "metadata": {
        "id": "kSOIel4Wm8D2",
        "outputId": "ae0fdcca-3ee2-451a-c597-6d88eaccbc72",
        "colab": {
          "base_uri": "https://localhost:8080/"
        }
      },
      "execution_count": 80,
      "outputs": [
        {
          "output_type": "stream",
          "name": "stdout",
          "text": [
            "Mínimo: 0\n",
            "Máximo: 9\n",
            "Suma: 45\n",
            "Mínimo: 1\n",
            "Máximo: 10\n",
            "Suma total: 55\n",
            "Cantidad de elementos: 10\n",
            "Promedio: 5.5\n"
          ]
        }
      ]
    },
    {
      "cell_type": "code",
      "source": [
        "#[>\n",
        "for x in range(1, 100):\n",
        "  print(x)"
      ],
      "metadata": {
        "id": "_6HEQeFJWQQ_"
      },
      "execution_count": null,
      "outputs": []
    },
    {
      "cell_type": "markdown",
      "source": [
        "## 1.2: Uso de la función range()\n"
      ],
      "metadata": {
        "id": "x_ULJgErpMDb"
      }
    },
    {
      "cell_type": "markdown",
      "source": [
        "La función range() se utiliza para generar secuencias de números, y es especialmente útil cuando se quiere evitar la creación manual de listas largas de números consecutivos."
      ],
      "metadata": {
        "id": "2gHPgAIxpskX"
      }
    },
    {
      "cell_type": "markdown",
      "source": [
        "### Ejemplo 1.4: Creación de listas con range()\n"
      ],
      "metadata": {
        "id": "zgXTDTTIpvwz"
      }
    },
    {
      "cell_type": "code",
      "source": [
        "# Crear una lista con los números del 1 al 10\n",
        "lista_numeros = list(range(1, 11))\n",
        "print(\"Números del 1 al 10:\", lista_numeros)\n"
      ],
      "metadata": {
        "id": "oSjCMXolp0_a"
      },
      "execution_count": null,
      "outputs": []
    },
    {
      "cell_type": "code",
      "source": [
        "# Crear una lista con los números pares entre 2 y 20\n",
        "pares = list(range(2, 21, 2))\n",
        "print(\"Números pares del 2 al 20:\", pares)\n"
      ],
      "metadata": {
        "id": "irHM5QenptAD"
      },
      "execution_count": null,
      "outputs": []
    },
    {
      "cell_type": "code",
      "source": [
        "# Crear una lista de números en orden inverso (del 10 al 1)\n",
        "reversa = list(range(10, 0, -1))\n",
        "print(\"Números en orden inverso:\", reversa)\n",
        "\n",
        "# Write a list from decreasing order.\n",
        "reverse = list(range(20,9, -1))\n",
        "print(reverse)\n",
        "\n"
      ],
      "metadata": {
        "id": "SFRs3Qv1p56E",
        "outputId": "21bd3a4e-5fa8-4884-b2a0-495e59222850",
        "colab": {
          "base_uri": "https://localhost:8080/"
        }
      },
      "execution_count": 83,
      "outputs": [
        {
          "output_type": "stream",
          "name": "stdout",
          "text": [
            "Números en orden inverso: [10, 9, 8, 7, 6, 5, 4, 3, 2, 1]\n",
            "[20, 19, 18, 17, 16, 15, 14, 13, 12, 11, 10]\n"
          ]
        }
      ]
    },
    {
      "cell_type": "code",
      "source": [
        "# Crear una lista de múltiplos de 5 entre 0 y 50\n",
        "multiplos_de_5 = list(range(0, 51, 5))\n",
        "print(\"Múltiplos de 5 entre 0 y 50:\", multiplos_de_5)\n"
      ],
      "metadata": {
        "id": "u9dMaOU8p6UX"
      },
      "execution_count": null,
      "outputs": []
    },
    {
      "cell_type": "markdown",
      "source": [
        "### Ejercicio 1.1: Operaciones numéricas con listas\n",
        "\n",
        "- Crea una lista de números entre 1 y 100 usando la función range() (verás cómo usarla en el próximo ejemplo).\n",
        "\n",
        "- Calcula la media de los valores de la lista usando las funciones sum() y len().\n",
        "\n",
        "- Usa sorted() para crear una lista ordenada inversamente de los primeros 50 números.\n",
        "\n",
        "- Crea una lista que contenga solo los números mayores a 50, multiplicados por 2."
      ],
      "metadata": {
        "id": "H0ED3Dkxm8cd"
      }
    },
    {
      "cell_type": "code",
      "source": [],
      "metadata": {
        "id": "8Yot9kIypKuw"
      },
      "execution_count": null,
      "outputs": []
    },
    {
      "cell_type": "markdown",
      "source": [
        "## <b>2. Listas por Comprensión</b>\n",
        "\n",
        "Las listas por comprensión son una forma concisa de crear listas nuevas a partir de una expresión. Se pueden utilizar para realizar operaciones sobre secuencias de forma más rápida y sin necesidad de ciclos explícitos.\n",
        "\n"
      ],
      "metadata": {
        "id": "8q_I9AOBjpH7"
      }
    },
    {
      "cell_type": "code",
      "source": [
        "for x in [1, 2, 3]:\n",
        "  print(x)"
      ],
      "metadata": {
        "colab": {
          "base_uri": "https://localhost:8080/"
        },
        "id": "FLUk0MHvXh4a",
        "outputId": "785b60a3-a7d7-4ed4-eff8-f645300bf9e6"
      },
      "execution_count": null,
      "outputs": [
        {
          "output_type": "stream",
          "name": "stdout",
          "text": [
            "1\n",
            "2\n",
            "3\n"
          ]
        }
      ]
    },
    {
      "cell_type": "code",
      "source": [
        "[x for x in [1, 2, 3]]"
      ],
      "metadata": {
        "colab": {
          "base_uri": "https://localhost:8080/"
        },
        "id": "1CJJOSSgXnQl",
        "outputId": "f3a5a283-44ce-44d4-b7d2-ea4ef1af83ae"
      },
      "execution_count": null,
      "outputs": [
        {
          "output_type": "execute_result",
          "data": {
            "text/plain": [
              "[1, 2, 3]"
            ]
          },
          "metadata": {},
          "execution_count": 64
        }
      ]
    },
    {
      "cell_type": "code",
      "source": [
        "[x for x in range(1, 11)]"
      ],
      "metadata": {
        "colab": {
          "base_uri": "https://localhost:8080/"
        },
        "id": "rrpmcf42Wwa4",
        "outputId": "9f8af519-4f0a-471e-9094-bfc07225e46e"
      },
      "execution_count": null,
      "outputs": [
        {
          "output_type": "execute_result",
          "data": {
            "text/plain": [
              "[1, 2, 3, 4, 5, 6, 7, 8, 9, 10]"
            ]
          },
          "metadata": {},
          "execution_count": 65
        }
      ]
    },
    {
      "cell_type": "code",
      "source": [
        "from math import log\n",
        "\n",
        "[log(x) for x in range(1, 21)]"
      ],
      "metadata": {
        "colab": {
          "base_uri": "https://localhost:8080/"
        },
        "id": "YK7VOEBEYTtW",
        "outputId": "e70d9b57-84a7-4926-848a-7c290f0c1116"
      },
      "execution_count": null,
      "outputs": [
        {
          "output_type": "execute_result",
          "data": {
            "text/plain": [
              "[0.0,\n",
              " 0.6931471805599453,\n",
              " 1.0986122886681098,\n",
              " 1.3862943611198906,\n",
              " 1.6094379124341003,\n",
              " 1.791759469228055,\n",
              " 1.9459101490553132,\n",
              " 2.0794415416798357,\n",
              " 2.1972245773362196,\n",
              " 2.302585092994046,\n",
              " 2.3978952727983707,\n",
              " 2.4849066497880004,\n",
              " 2.5649493574615367,\n",
              " 2.6390573296152584,\n",
              " 2.70805020110221,\n",
              " 2.772588722239781,\n",
              " 2.833213344056216,\n",
              " 2.8903717578961645,\n",
              " 2.9444389791664403,\n",
              " 2.995732273553991]"
            ]
          },
          "metadata": {},
          "execution_count": 70
        }
      ]
    },
    {
      "cell_type": "code",
      "source": [
        "[x*2 for x in range(100, 501) if x%17 == 0]"
      ],
      "metadata": {
        "colab": {
          "base_uri": "https://localhost:8080/"
        },
        "id": "qpWmt8aiY7MB",
        "outputId": "96072e2b-9a2c-42b4-b26a-f688df9a35df"
      },
      "execution_count": null,
      "outputs": [
        {
          "output_type": "execute_result",
          "data": {
            "text/plain": [
              "[204,\n",
              " 238,\n",
              " 272,\n",
              " 306,\n",
              " 340,\n",
              " 374,\n",
              " 408,\n",
              " 442,\n",
              " 476,\n",
              " 510,\n",
              " 544,\n",
              " 578,\n",
              " 612,\n",
              " 646,\n",
              " 680,\n",
              " 714,\n",
              " 748,\n",
              " 782,\n",
              " 816,\n",
              " 850,\n",
              " 884,\n",
              " 918,\n",
              " 952,\n",
              " 986]"
            ]
          },
          "metadata": {},
          "execution_count": 73
        }
      ]
    },
    {
      "cell_type": "code",
      "source": [
        "features_pas = ['ahorros_prom12', 'abonos_prom12', 'cargos_prom12', 'trxn_prom12']\n",
        "features_rcc = ['deuda_prom12', 'entidades_prom12', 'atraso_prom12']\n",
        "\n",
        "my_list1 = ['pas_'  + x.upper() for x in features_pas]\n",
        "my_list2 =  ['rcc_' + x.upper() for x in features_pas]\n",
        "\n",
        "my_list1 + my_list2"
      ],
      "metadata": {
        "colab": {
          "base_uri": "https://localhost:8080/"
        },
        "id": "W3J7UX4HZiho",
        "outputId": "2f602cdc-2fff-4f7a-ed2e-e57ca9495397"
      },
      "execution_count": null,
      "outputs": [
        {
          "output_type": "execute_result",
          "data": {
            "text/plain": [
              "['pas_AHORROS_PROM12',\n",
              " 'pas_ABONOS_PROM12',\n",
              " 'pas_CARGOS_PROM12',\n",
              " 'pas_TRXN_PROM12',\n",
              " 'rcc_AHORROS_PROM12',\n",
              " 'rcc_ABONOS_PROM12',\n",
              " 'rcc_CARGOS_PROM12',\n",
              " 'rcc_TRXN_PROM12']"
            ]
          },
          "metadata": {},
          "execution_count": 78
        }
      ]
    },
    {
      "cell_type": "markdown",
      "source": [
        "### Ejemplo 2.1: Generación de listas por comprensión\n"
      ],
      "metadata": {
        "id": "o3SzxNcajzk4"
      }
    },
    {
      "cell_type": "code",
      "source": [
        "# Crear una lista de cuadrados de los números del 1 al 10\n",
        "cuadrados = [x**2 for x in range(1, 11)]\n",
        "print(cuadrados)\n",
        "\n"
      ],
      "metadata": {
        "id": "Uu2JI0Ycj7DM"
      },
      "execution_count": null,
      "outputs": []
    },
    {
      "cell_type": "code",
      "source": [
        "# Crear una lista de números pares entre 1 y 20\n",
        "pares = [x for x in range(1, 21) if x % 2 == 0]\n",
        "print(pares)\n"
      ],
      "metadata": {
        "id": "j8UcjDF7j9JX"
      },
      "execution_count": null,
      "outputs": []
    },
    {
      "cell_type": "markdown",
      "source": [
        "### Ejemplo 2.2: Listas por comprensión con manipulación de cadenas\n",
        "\n"
      ],
      "metadata": {
        "id": "v9o0-F4FkBRa"
      }
    },
    {
      "cell_type": "code",
      "source": [
        "# Crear una lista con las primeras letras en mayúsculas de una lista de nombres\n",
        "\n",
        "nombres = [\"juan\", \"pedro\", \"ana\", \"maria\"]\n",
        "nombres_mayuscula = [nombre.capitalize() for nombre in nombres]\n",
        "print(nombres_mayuscula)\n"
      ],
      "metadata": {
        "id": "V3ZGMDOKkY29"
      },
      "execution_count": null,
      "outputs": []
    },
    {
      "cell_type": "markdown",
      "source": [
        "### Ejercicio 2: Creación avanzada con listas por comprensión\n",
        "\n",
        "- Crea una lista de los números impares entre 1 y 50.\n",
        "- Genera una lista con los cubos de los primeros 10 números (1 al 10).\n",
        "- Dada una lista de palabras, crea una nueva lista que contenga las palabras con más de 4 letras en mayúsculas.\n"
      ],
      "metadata": {
        "id": "ONAVddiUkk0I"
      }
    },
    {
      "cell_type": "code",
      "source": [
        "# 1. Crea una lista de los números impares entre 1 y 50.\n",
        "\n",
        "lista_impares = [x for x in range(1,51) if x%2 != 0]\n",
        "print(lista_impares)\n"
      ],
      "metadata": {
        "id": "jfyhX8FmksPF",
        "colab": {
          "base_uri": "https://localhost:8080/"
        },
        "outputId": "72b60267-1e5b-4b39-a2bd-f6415cc4c177"
      },
      "execution_count": null,
      "outputs": [
        {
          "output_type": "stream",
          "name": "stdout",
          "text": [
            "[1, 3, 5, 7, 9, 11, 13, 15, 17, 19, 21, 23, 25, 27, 29, 31, 33, 35, 37, 39, 41, 43, 45, 47, 49]\n"
          ]
        }
      ]
    },
    {
      "cell_type": "code",
      "source": [
        "# 2. Genera una lista con los cubos de los primeros 10 números (1 al 10).\n",
        "\n",
        "[x**3 for x in range(1, 11)]"
      ],
      "metadata": {
        "id": "rfqsAd-Zd941",
        "outputId": "2fdbe516-b3c4-4853-e92b-0e77ddd67e86",
        "colab": {
          "base_uri": "https://localhost:8080/"
        }
      },
      "execution_count": null,
      "outputs": [
        {
          "output_type": "execute_result",
          "data": {
            "text/plain": [
              "[1, 8, 27, 64, 125, 216, 343, 512, 729, 1000]"
            ]
          },
          "metadata": {},
          "execution_count": 81
        }
      ]
    },
    {
      "cell_type": "code",
      "source": [
        "# 3. Dada una lista de palabras, crea una nueva lista que contenga las palabras con más de 4 letras en mayúsculas\n",
        "\n",
        "word_list = []\n",
        "\n",
        "while True:\n",
        "  word = input(\"Ingrese una palabra (escriba exit para salir): \")\n",
        "  if word == \"exit\":\n",
        "    break\n",
        "  else:\n",
        "    word_list.append(word)\n",
        "    print(\"lista actualizada\", word_list)\n",
        "\n",
        "word_mayusculaa = [word.upper() for word in word_list if len(word) > 4]\n",
        "print(word_mayusculaa)"
      ],
      "metadata": {
        "id": "CHMhZlg7e0Vi"
      },
      "execution_count": null,
      "outputs": []
    },
    {
      "cell_type": "code",
      "source": [
        "for x in 'jOhN':\n",
        "    if x == x.upper():\n",
        "        print(x)\n"
      ],
      "metadata": {
        "id": "pyBwaIDlgN6d",
        "outputId": "32bb7b80-5730-4781-832e-14ca0936f5dd",
        "colab": {
          "base_uri": "https://localhost:8080/"
        }
      },
      "execution_count": null,
      "outputs": [
        {
          "output_type": "stream",
          "name": "stdout",
          "text": [
            "O\n",
            "N\n"
          ]
        }
      ]
    },
    {
      "cell_type": "code",
      "source": [
        "word = ''\n",
        "len([x for x in word if x == x.upper()])\n"
      ],
      "metadata": {
        "id": "IXVG9YlygvaK",
        "outputId": "8103b479-9df8-41a1-b1c1-b4fcf97a91c4",
        "colab": {
          "base_uri": "https://localhost:8080/"
        }
      },
      "execution_count": null,
      "outputs": [
        {
          "output_type": "execute_result",
          "data": {
            "text/plain": [
              "2"
            ]
          },
          "metadata": {},
          "execution_count": 89
        }
      ]
    },
    {
      "cell_type": "code",
      "source": [
        "\n",
        "word_list = []\n",
        "\n",
        "while True:\n",
        "  word = input(\"Ingrese una palabra (escriba exit para salir): \")\n",
        "  if word == \"exit\":\n",
        "    break\n",
        "  else:\n",
        "    word_list.append(word)\n",
        "    print(\"lista actualizada\", word_list)\n",
        "\n",
        "word_mayusculaa = [word for word in word_list if len([x for x in word if x == x.upper()]) > 4]\n",
        "print(word_mayusculaa)\n",
        "\n"
      ],
      "metadata": {
        "id": "81aTV_oOhEJH",
        "outputId": "1080cf93-4835-43fb-b304-e9b2a889e010",
        "colab": {
          "base_uri": "https://localhost:8080/"
        }
      },
      "execution_count": null,
      "outputs": [
        {
          "output_type": "stream",
          "name": "stdout",
          "text": [
            "Ingrese una palabra (escriba exit para salir): john\n",
            "lista actualizada ['john']\n",
            "Ingrese una palabra (escriba exit para salir): MIA\n",
            "lista actualizada ['john', 'MIA']\n",
            "Ingrese una palabra (escriba exit para salir): ANGELO\n",
            "lista actualizada ['john', 'MIA', 'ANGELO']\n",
            "Ingrese una palabra (escriba exit para salir): DIEGO\n",
            "lista actualizada ['john', 'MIA', 'ANGELO', 'DIEGO']\n",
            "Ingrese una palabra (escriba exit para salir): sebastian\n",
            "lista actualizada ['john', 'MIA', 'ANGELO', 'DIEGO', 'sebastian']\n",
            "Ingrese una palabra (escriba exit para salir): exit\n",
            "['ANGELO', 'DIEGO']\n"
          ]
        }
      ]
    },
    {
      "cell_type": "code",
      "source": [
        "\n",
        "def greatings():\n",
        "  \"\"\"Esta función saluda a los estudiantes nuevos\"\"\"\n",
        "  print('Bienvenido al curso!')\n"
      ],
      "metadata": {
        "id": "zgk6jHVril_m"
      },
      "execution_count": null,
      "outputs": []
    },
    {
      "cell_type": "code",
      "source": [
        "greatings()"
      ],
      "metadata": {
        "id": "LIQLj6bojbyE",
        "outputId": "36ce2064-3723-423f-d741-95a370cd4e65",
        "colab": {
          "base_uri": "https://localhost:8080/"
        }
      },
      "execution_count": null,
      "outputs": [
        {
          "output_type": "stream",
          "name": "stdout",
          "text": [
            "Bienvenido al curso!\n"
          ]
        }
      ]
    },
    {
      "cell_type": "code",
      "source": [
        "\n",
        "def greatings(name):\n",
        "  \"\"\"Esta función saluda a los estudiantes nuevos\"\"\"\n",
        "  print(f'Bienvenido al curso {name}!')\n",
        "\n"
      ],
      "metadata": {
        "id": "FbzXfVSkjuRP"
      },
      "execution_count": null,
      "outputs": []
    },
    {
      "cell_type": "code",
      "source": [
        "greatings('John')"
      ],
      "metadata": {
        "id": "d8jSxYh6j6dq",
        "outputId": "294d7e1d-43b9-4552-9706-82b40565f0cc",
        "colab": {
          "base_uri": "https://localhost:8080/"
        }
      },
      "execution_count": null,
      "outputs": [
        {
          "output_type": "stream",
          "name": "stdout",
          "text": [
            "Bienvenido al curso John!\n"
          ]
        }
      ]
    },
    {
      "cell_type": "code",
      "source": [
        "greatings('Edwin')"
      ],
      "metadata": {
        "id": "pC_-KvsbkEAN",
        "outputId": "a6238bec-1c72-431c-d0ac-c5116099a674",
        "colab": {
          "base_uri": "https://localhost:8080/"
        }
      },
      "execution_count": null,
      "outputs": [
        {
          "output_type": "stream",
          "name": "stdout",
          "text": [
            "Bienvenido al curso Edwin!\n"
          ]
        }
      ]
    },
    {
      "cell_type": "code",
      "source": [
        "greatings('Edgar')"
      ],
      "metadata": {
        "id": "C-ks16aUkICp",
        "outputId": "62f7da4b-6083-4707-d2dc-cde382f54c47",
        "colab": {
          "base_uri": "https://localhost:8080/"
        }
      },
      "execution_count": null,
      "outputs": [
        {
          "output_type": "stream",
          "name": "stdout",
          "text": [
            "Bienvenido al curso Edgar!\n"
          ]
        }
      ]
    },
    {
      "cell_type": "code",
      "source": [
        "\n",
        "def sum(a, b):\n",
        "  \"\"\"Esta función suma dos argumentos a y b\"\"\"\n",
        "  print(f'la suma es: {a + b}')\n"
      ],
      "metadata": {
        "id": "TqOew5R7kRnB"
      },
      "execution_count": null,
      "outputs": []
    },
    {
      "cell_type": "code",
      "source": [
        "sum(4, 5)"
      ],
      "metadata": {
        "id": "nIM-4R26khBD",
        "outputId": "eaee5b4d-7861-447b-b630-82030ef0ab0b",
        "colab": {
          "base_uri": "https://localhost:8080/"
        }
      },
      "execution_count": null,
      "outputs": [
        {
          "output_type": "stream",
          "name": "stdout",
          "text": [
            "la suma es: 9\n"
          ]
        }
      ]
    },
    {
      "cell_type": "code",
      "source": [
        "sum(5, 12)"
      ],
      "metadata": {
        "id": "9xYkTSNSkjfQ",
        "outputId": "b7477dd3-85ce-4263-d0e6-9d93ab4cd240",
        "colab": {
          "base_uri": "https://localhost:8080/"
        }
      },
      "execution_count": null,
      "outputs": [
        {
          "output_type": "stream",
          "name": "stdout",
          "text": [
            "la suma es: 17\n"
          ]
        }
      ]
    },
    {
      "cell_type": "code",
      "source": [
        "sum?"
      ],
      "metadata": {
        "id": "7Z-CJ-Kok5LI"
      },
      "execution_count": null,
      "outputs": []
    },
    {
      "cell_type": "markdown",
      "source": [
        "## <b>3. Trabajando con Slicing</b>\n"
      ],
      "metadata": {
        "id": "8Pw1lVQAk_1c"
      }
    },
    {
      "cell_type": "markdown",
      "source": [
        "El slicing es una técnica que te permite extraer sublistas de listas existentes, seleccionando elementos de una lista mediante índices."
      ],
      "metadata": {
        "id": "E4pOl2C8lKzF"
      }
    },
    {
      "cell_type": "markdown",
      "source": [
        "### Ejemplo 3.1: Slicing de listas\n"
      ],
      "metadata": {
        "id": "NhyOyyLtnaLV"
      }
    },
    {
      "cell_type": "code",
      "source": [
        "# Crear una lista de letras\n",
        "letras = ['a', 'b', 'c', 'd', 'e', 'f', 'g', 'h']\n",
        "\n"
      ],
      "metadata": {
        "id": "YZkf5aLHmhde"
      },
      "execution_count": null,
      "outputs": []
    },
    {
      "cell_type": "code",
      "source": [
        "# Extraer una subsección de la lista\n",
        "primeras_tres = letras[:3]  # Primeros 3 elementos\n",
        "print(primeras_tres)"
      ],
      "metadata": {
        "id": "qi5sJLuUmR0m"
      },
      "execution_count": null,
      "outputs": []
    },
    {
      "cell_type": "code",
      "source": [
        "desde_el_cuarto = letras[3:]  # Desde el cuarto hasta el final\n",
        "print(desde_el_cuarto)\n"
      ],
      "metadata": {
        "id": "8T_pNL9gmoT8"
      },
      "execution_count": null,
      "outputs": []
    },
    {
      "cell_type": "code",
      "source": [
        "ultimos_dos = letras[-2:]  # Los últimos dos elementos\n",
        "print(ultimos_dos)\n"
      ],
      "metadata": {
        "id": "hSQ9bC3Vmy96"
      },
      "execution_count": null,
      "outputs": []
    },
    {
      "cell_type": "markdown",
      "source": [
        "### Ejemplo 3.2: Slicing con pasos\n"
      ],
      "metadata": {
        "id": "QJzj1X6undzm"
      }
    },
    {
      "cell_type": "code",
      "source": [
        "# Crear una lista de números del 1 al 10\n",
        "numeros = list(range(1, 11))\n"
      ],
      "metadata": {
        "id": "9u0Sho8vno-g"
      },
      "execution_count": null,
      "outputs": []
    },
    {
      "cell_type": "code",
      "source": [
        "\n",
        "# Obtener todos los números en posiciones pares\n",
        "pares = numeros[1::2]  # Inicia en el segundo elemento y salta de 2 en 2\n",
        "print(pares)\n",
        "\n",
        "\n"
      ],
      "metadata": {
        "id": "EADKhXulntOP"
      },
      "execution_count": null,
      "outputs": []
    },
    {
      "cell_type": "code",
      "source": [
        "# Obtener cada tercer número\n",
        "tercios = numeros[::3]\n",
        "print(tercios)"
      ],
      "metadata": {
        "id": "lRCCtFKBnweq"
      },
      "execution_count": null,
      "outputs": []
    },
    {
      "cell_type": "markdown",
      "source": [
        "### Ejercicio 3: Aplicaciones de slicing\n",
        "\n",
        "Crea una lista con los números del 1 al 100. Luego, usando slicing:\n",
        "- Extrae los primeros 10 números.\n",
        "- Extrae los últimos 10 números.\n",
        "- Extrae todos los números en posiciones impares.\n",
        "- Usa slicing para dividir una lista de palabras en dos mitades."
      ],
      "metadata": {
        "id": "vp3MgC__lQyw"
      }
    },
    {
      "cell_type": "code",
      "source": [],
      "metadata": {
        "id": "8wxUXYwOlYNE"
      },
      "execution_count": null,
      "outputs": []
    },
    {
      "cell_type": "markdown",
      "source": [
        "## <b>4. Trabajando con Tuplas\n",
        "</b>"
      ],
      "metadata": {
        "id": "m2oeaICsrlMr"
      }
    },
    {
      "cell_type": "markdown",
      "source": [
        "Las tuplas son como listas, pero inmutables, lo que significa que no se pueden modificar después de su creación. Son útiles para almacenar datos que no deben cambiar."
      ],
      "metadata": {
        "id": "-m-yjEGmrpxH"
      }
    },
    {
      "cell_type": "markdown",
      "source": [
        "### Ejemplo 4.1: Crear y acceder a tuplas\n"
      ],
      "metadata": {
        "id": "iN8wV0F0rsJK"
      }
    },
    {
      "cell_type": "code",
      "source": [
        "# Crear una tupla\n",
        "coordenadas = (10.5, 20.3)\n",
        "\n",
        "# Acceder a los elementos de la tupla\n",
        "print(\"X:\", coordenadas[0])\n",
        "print(\"Y:\", coordenadas[1])\n"
      ],
      "metadata": {
        "id": "cBiHFdW_rqqi"
      },
      "execution_count": null,
      "outputs": []
    },
    {
      "cell_type": "markdown",
      "source": [
        "### Ejemplo 4.2: Intento de modificación de una tupla\n"
      ],
      "metadata": {
        "id": "YIMqOp-erw_K"
      }
    },
    {
      "cell_type": "code",
      "source": [
        "# Crear una tupla\n",
        "dimensiones = (200, 50)\n"
      ],
      "metadata": {
        "id": "4SMEGO6ZrzJj"
      },
      "execution_count": null,
      "outputs": []
    },
    {
      "cell_type": "code",
      "source": [
        "# Intentar modificar la tupla (esto generará un error)\n",
        "# dimensiones[0] = 250  # Descomenta esta línea para ver el error\n"
      ],
      "metadata": {
        "id": "0Zd9AM9Cr2ZN"
      },
      "execution_count": null,
      "outputs": []
    },
    {
      "cell_type": "code",
      "source": [
        "# Reasignar una nueva tupla\n",
        "dimensiones = (400, 100)\n",
        "print(\"Nuevas dimensiones:\", dimensiones)"
      ],
      "metadata": {
        "id": "lIv2eQcmr3aL"
      },
      "execution_count": null,
      "outputs": []
    },
    {
      "cell_type": "markdown",
      "source": [
        "### Ejercicio 4: Trabajando con tuplas\n",
        "- Crea una tupla que almacene las dimensiones de un objeto (ancho, alto).\n",
        "- Intenta modificar un elemento de la tupla y observa el error que genera.\n",
        "- Reescribe la tupla completa con nuevas dimensiones.\n"
      ],
      "metadata": {
        "id": "juG-GKwwr7hC"
      }
    },
    {
      "cell_type": "code",
      "source": [],
      "metadata": {
        "id": "flPWwLBRr-87"
      },
      "execution_count": null,
      "outputs": []
    },
    {
      "cell_type": "markdown",
      "source": [
        "## <b>5. Desafío</b>"
      ],
      "metadata": {
        "id": "K8ioDMpJl8zI"
      }
    },
    {
      "cell_type": "markdown",
      "source": [
        "### Desafío 1: Análisis de ventas de una tienda de ropa\n",
        "\n",
        "Eres el encargado de una tienda de ropa y tienes una lista de ventas diarias para diferentes productos. Cada día, vendes camisetas, pantalones y zapatos. Quieres analizar las ventas para entender mejor el rendimiento de cada producto.\n",
        "\n",
        "<b>Objetivo:</b>\n",
        "\n",
        "- Crea tres listas: una para camisetas, otra para pantalones y una para zapatos, con la cantidad vendida cada día durante una semana.\n",
        "- Usa slicing para extraer las ventas de los últimos 3 días de cada producto.\n",
        "- Usa listas por comprensión para calcular el total de ventas de cada producto y el promedio de ventas diarias.\n",
        "\n",
        "- Clasifica los productos en \"buenas ventas\" o \"malas ventas\" según si el promedio de ventas diarias es mayor o menor a 5.\n",
        "\n",
        "Instrucciones:\n",
        "- Genera los datos de ventas usando listas manualmente o simulándolos con valores constantes.\n",
        "- Calcula el total de ventas por producto usando sum() y el promedio con len().\n",
        "- Usa listas por comprensión para clasificar las ventas de los productos."
      ],
      "metadata": {
        "id": "mQkPuK6ymKTk"
      }
    },
    {
      "cell_type": "code",
      "source": [],
      "metadata": {
        "id": "43HiaKjEmmPg"
      },
      "execution_count": null,
      "outputs": []
    },
    {
      "cell_type": "markdown",
      "source": [
        "---\n",
        "\n",
        "# Gracias por completar este laboratorio!\n",
        "\n",
        "---"
      ],
      "metadata": {
        "id": "_G9dWzTgp6-m"
      }
    }
  ]
}