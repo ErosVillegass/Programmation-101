{
  "nbformat": 4,
  "nbformat_minor": 0,
  "metadata": {
    "colab": {
      "provenance": [],
      "authorship_tag": "ABX9TyM7z4g3gZCZlyL+aHPgHhAX",
      "include_colab_link": true
    },
    "kernelspec": {
      "name": "python3",
      "display_name": "Python 3"
    },
    "language_info": {
      "name": "python"
    }
  },
  "cells": [
    {
      "cell_type": "markdown",
      "metadata": {
        "id": "view-in-github",
        "colab_type": "text"
      },
      "source": [
        "<a href=\"https://colab.research.google.com/github/ErosVillegass/Programmation-101/blob/main/Examen_02_Programaci%C3%B3n_.ipynb\" target=\"_parent\"><img src=\"https://colab.research.google.com/assets/colab-badge.svg\" alt=\"Open In Colab\"/></a>"
      ]
    },
    {
      "cell_type": "markdown",
      "source": [
        "Examen: Construyendo el Sistema de Recomendación de PythonFlix\n",
        "Contexto: Eres parte del equipo de ingeniería de PythonFlix, una plataforma de streaming que necesita construir y mejorar su sistema de recomendación. Vas a trabajar con estructuras de datos como listas, tuplas, diccionarios y sets para procesar ratings, historiales y perfiles de usuario.\n",
        "\n",
        "\n",
        "1. Catálogo de contenido (Listas y tuplas)\n",
        "Tienes una tupla inmutable con las series más vistas:\n"
      ],
      "metadata": {
        "id": "3DshNlG6uVeD"
      }
    },
    {
      "cell_type": "markdown",
      "source": [
        "1. Catálogo de contenido (Listas y tuplas)\n",
        "Tienes una tupla inmutable con las series más vistas:\n",
        "\n",
        "catalogo_popular = (\"Breaking Python\", \"Data Science 101\", \"Machine Love\", \"Debug Wars\")\n"
      ],
      "metadata": {
        "id": "umcRfbcGufh3"
      }
    },
    {
      "cell_type": "code",
      "execution_count": 7,
      "metadata": {
        "colab": {
          "base_uri": "https://localhost:8080/"
        },
        "id": "bRoSlA_IuFiM",
        "outputId": "d64d214c-d646-40bd-a887-f8c2fcde4281"
      },
      "outputs": [
        {
          "output_type": "stream",
          "name": "stdout",
          "text": [
            "['Breaking Python', 'Data Science 101', 'Machine Love', 'Neural Networks']\n"
          ]
        }
      ],
      "source": [
        "catalogo_popular = (\"Breaking Python\", \"Data Science 101\", \"Machine Love\", \"Debug Wars\")\n",
        "lista_catalogo = list(catalogo_popular)\n",
        "lista_catalogo.pop()\n",
        "lista_catalogo.append(\"Neural Networks\")\n",
        "lista_ordenado = lista_catalogo.sort()\n",
        "print(lista_catalogo)"
      ]
    },
    {
      "cell_type": "markdown",
      "source": [
        "2. Filtrado de géneros (Slicing)\n",
        "Tienes una lista con los géneros disponibles:\n"
      ],
      "metadata": {
        "id": "g-96Ju-lvlH2"
      }
    },
    {
      "cell_type": "code",
      "source": [
        "generos = [\"Drama\", \"Comedia\", \"Acción\", \"Sci-Fi\", \"Documental\", \"Terror\", \"Romance\"]\n",
        "\n",
        "# Realiza:\n",
        "# ●\tUn slicing que obtenga los géneros del medio\n",
        "generos_medio = generos[3:4]\n",
        "print(generos_medio)\n",
        "\n",
        "# ●\tUn slicing que obtenga los tres primeros géneros\n",
        "generos_tres_primeros = generos[::3]\n",
        "print(generos_tres_primeros)\n",
        "\n",
        "# ●\tLos géneros ordenados en orden inverso (usando slicing)\n",
        "generos_inverso = generos[-7:]\n",
        "print(generos_inverso)\n",
        "\n",
        "\n",
        "\n",
        "\n",
        "\n"
      ],
      "metadata": {
        "colab": {
          "base_uri": "https://localhost:8080/"
        },
        "id": "gb8gp75quU1n",
        "outputId": "5ec3f766-59fa-4ddb-efa5-cff178503f82"
      },
      "execution_count": 20,
      "outputs": [
        {
          "output_type": "stream",
          "name": "stdout",
          "text": [
            "['Sci-Fi']\n",
            "['Drama', 'Sci-Fi', 'Romance']\n",
            "['Drama', 'Comedia', 'Acción', 'Sci-Fi', 'Documental', 'Terror', 'Romance']\n"
          ]
        }
      ]
    },
    {
      "cell_type": "markdown",
      "source": [
        "3. Puntajes de usuarios (Listas por comprensión)\n",
        "Tienes una lista de ratings otorgados por un usuario a distintas series:\n",
        "ratings = [4.5, 3.0, 5.0, 2.5, 4.0, 1.5]\n"
      ],
      "metadata": {
        "id": "Er8n6UFpxKdu"
      }
    },
    {
      "cell_type": "code",
      "source": [
        "import random\n",
        "ratings = [4.5, 3.0, 5.0, 2.5, 4.0, 1.5]\n",
        "\n",
        "# Con listas por comprensión, crea:\n",
        "\n",
        "# ●\tUna lista con solo los ratings mayores a 3.5\n",
        "lista_mayor_value = [x for x in ratings if x > 3.5]\n",
        "print(lista_mayor_value)\n",
        "# ●\tUna lista con los ratings convertidos a una escala del 1 al 100\n",
        "lista_escalada = [x*random.randint(1,21) for x in ratings]\n",
        "print(lista_escalada)\n",
        "# ●\tUna lista de strings que diga \"Alta\" si rating > 4, \"Media\" si entre 3 y 4, \"Baja\" si menor\n",
        "lista_string =[\n",
        "    \"Alta\" if r > 4\n",
        "    else \"Media\" if 3 <= r <= 4\n",
        "    else \"Baja\"\n",
        "    for r in ratings\n",
        "]\n",
        "\n",
        "print(lista_string)\n"
      ],
      "metadata": {
        "colab": {
          "base_uri": "https://localhost:8080/"
        },
        "id": "YlP_I5DMxRbu",
        "outputId": "643ab16f-88d4-4f6c-d3ac-051f84d29e8c"
      },
      "execution_count": 37,
      "outputs": [
        {
          "output_type": "stream",
          "name": "stdout",
          "text": [
            "[4.5, 5.0, 4.0]\n",
            "[67.5, 12.0, 80.0, 40.0, 56.0, 28.5]\n",
            "['Alta', 'Media', 'Alta', 'Baja', 'Media', 'Baja']\n"
          ]
        }
      ]
    },
    {
      "cell_type": "markdown",
      "source": [
        "4. Historial de visualización (Diccionarios)\n",
        "Tienes un diccionario que representa el historial de un usuario:\n",
        "\n"
      ],
      "metadata": {
        "id": "MV5S3FDf0LvZ"
      }
    },
    {
      "cell_type": "code",
      "source": [
        "historial = {\n",
        "  \"Breaking Python\": 3,\n",
        "  \"Machine Love\": 5,\n",
        "  \"Data Science 101\": 2\n",
        "}\n"
      ],
      "metadata": {
        "id": "4wyXwI39xQcc"
      },
      "execution_count": 43,
      "outputs": []
    },
    {
      "cell_type": "code",
      "source": [
        "# Realiza lo siguiente:\n",
        "# ●\tAumenta en 1 la cantidad de veces que vio \"Data Science 101\"\n",
        "historial[\"Data Science 101\"]= 3\n",
        "print(historial)\n",
        "# ●\tAñade la serie \"AI Rebellion\" con 1 visualización\n",
        "historial[\"AI Rebellion\"]= 1\n",
        "print(historial)\n",
        "# ●\tElimina \"Machine Love\" del historial\n",
        "del historial[\"Machine Love\"]\n",
        "print(historial)\n",
        "# ●\tMuestra todas las series que el usuario vio más de 2 veces\n",
        "series_mas_de_2 = [serie for serie, veces in historial.items() if veces > 2]\n",
        "\n",
        "print(series_mas_de_2)\n"
      ],
      "metadata": {
        "colab": {
          "base_uri": "https://localhost:8080/"
        },
        "id": "hCHoDGR_0N0g",
        "outputId": "6d5bf93d-7596-4332-e4ef-3da7fabb051a"
      },
      "execution_count": 44,
      "outputs": [
        {
          "output_type": "stream",
          "name": "stdout",
          "text": [
            "{'Breaking Python': 3, 'Machine Love': 5, 'Data Science 101': 3}\n",
            "{'Breaking Python': 3, 'Machine Love': 5, 'Data Science 101': 3, 'AI Rebellion': 1}\n",
            "{'Breaking Python': 3, 'Data Science 101': 3, 'AI Rebellion': 1}\n",
            "['Breaking Python', 'Data Science 101']\n"
          ]
        }
      ]
    },
    {
      "cell_type": "markdown",
      "source": [
        "5. Usuarios únicos por serie (Sets)\n",
        "Tienes la siguiente información:\n"
      ],
      "metadata": {
        "id": "MwaUPCCx1jIw"
      }
    },
    {
      "cell_type": "code",
      "source": [
        "usuarios_serie_A = {\"ana\", \"luis\", \"pedro\", \"maria\"}\n",
        "usuarios_serie_B = {\"maria\", \"pedro\", \"carla\", \"lucas\"}\n",
        "\n",
        "# Usando sets:\n",
        "# ●\tEncuentra qué usuarios vieron ambas series\n",
        "ambos_series = usuarios_serie_A & usuarios_serie_B\n",
        "print(ambos_series)\n",
        "\n",
        "# ●\tQué usuarios vieron solo la serie A\n",
        "solo_series_A = usuarios_serie_A - usuarios_serie_B\n",
        "print(solo_series_A)\n",
        "\n",
        "# ●\tQué usuarios únicos vieron al menos una de las dos\n",
        "usuarios_unicos = usuarios_serie_A | usuarios_serie_B\n",
        "print(usuarios_unicos)"
      ],
      "metadata": {
        "colab": {
          "base_uri": "https://localhost:8080/"
        },
        "id": "X3cBGq8V1NKQ",
        "outputId": "3643f152-2426-4753-a543-949dce1db89c"
      },
      "execution_count": 45,
      "outputs": [
        {
          "output_type": "stream",
          "name": "stdout",
          "text": [
            "{'pedro', 'maria'}\n",
            "{'ana', 'luis'}\n",
            "{'ana', 'maria', 'carla', 'lucas', 'pedro', 'luis'}\n"
          ]
        }
      ]
    },
    {
      "cell_type": "markdown",
      "source": [
        "6. Recomendaciones compartidas (Diccionario + Sets)\n",
        "Tienes una estructura con recomendaciones por usuario:\n",
        "recomendaciones = {\n",
        "  \"ana\": {\"Machine Love\", \"AI Rebellion\"},\n",
        "  \"luis\": {\"AI Rebellion\", \"Debug Wars\"},\n",
        "  \"pedro\": {\"Debug Wars\", \"Machine Love\"}\n",
        "}\n"
      ],
      "metadata": {
        "id": "JY2K3K3a2KUr"
      }
    },
    {
      "cell_type": "code",
      "source": [
        "recomendaciones = {\n",
        "  \"ana\": {\"Machine Love\", \"AI Rebellion\"},\n",
        "  \"luis\": {\"AI Rebellion\", \"Debug Wars\"},\n",
        "  \"pedro\": {\"Debug Wars\", \"Machine Love\"}\n",
        "}\n",
        "\n",
        "# Encuentra con código:\n",
        "# ●\tLas series que fueron recomendadas a todos\n",
        "series_todos = set.intersection(*recomendaciones.values())\n",
        "print(series_todos)\n",
        "\n",
        "# ●\tLas series recomendadas a al menos dos personas\n",
        "conteo_series = {}\n",
        "\n",
        "for series in recomendaciones.values():\n",
        "    for serie in series:\n",
        "        if serie in conteo_series:\n",
        "            conteo_series[serie] += 1\n",
        "        else:\n",
        "            conteo_series[serie] = 1\n",
        "\n",
        "recomendaciones_dos = {serie for serie, n in conteo_series.items() if n >= 2}\n",
        "print(\"Al menos dos:\", recomendaciones_dos)\n",
        "\n",
        "\n",
        "recomendaciones_dos = {serie for serie, n in conteo_series.items() if n >= 2}\n",
        "print(recomendaciones_dos)\n",
        "\n",
        "\n",
        "# ●\tLas series recomendadas solo a una persona\n",
        "recomendaciones_una = {serie for serie, n in conteo_series.items() if n == 1}\n",
        "print(recomendaciones_una)\n",
        "\n"
      ],
      "metadata": {
        "colab": {
          "base_uri": "https://localhost:8080/"
        },
        "id": "7vo7mgK_2Nwa",
        "outputId": "eed95177-7a0b-4360-97ff-69236eb71050"
      },
      "execution_count": 52,
      "outputs": [
        {
          "output_type": "stream",
          "name": "stdout",
          "text": [
            "set()\n",
            "Al menos dos: {'Machine Love', 'AI Rebellion', 'Debug Wars'}\n",
            "{'Machine Love', 'AI Rebellion', 'Debug Wars'}\n",
            "set()\n"
          ]
        }
      ]
    },
    {
      "cell_type": "markdown",
      "source": [
        "7. Transformar ratings (Tuplas + comprensión de diccionario)"
      ],
      "metadata": {
        "id": "wA2p0C_f4GXt"
      }
    },
    {
      "cell_type": "code",
      "source": [
        "puntuaciones = [(\"Breaking Python\", 4.0), (\"AI Rebellion\", 5.0), (\"Debug Wars\", 2.0)]"
      ],
      "metadata": {
        "id": "QvTbco8J4KxU"
      },
      "execution_count": 53,
      "outputs": []
    },
    {
      "cell_type": "code",
      "source": [
        "clasificacion = {\n",
        "    serie_ranking: (\n",
        "        \"Excelente\" if rating >= 4.5\n",
        "        else \"Buena\" if rating >= 3\n",
        "        else \"Regular\"\n",
        "    )\n",
        "    for serie_ranking, rating in puntuaciones\n",
        "}\n",
        "\n",
        "print(clasificacion)"
      ],
      "metadata": {
        "colab": {
          "base_uri": "https://localhost:8080/"
        },
        "id": "HjRSeWOM4ZZ3",
        "outputId": "5dc08d84-97f9-4e97-de7b-7bcb1172ad20"
      },
      "execution_count": 55,
      "outputs": [
        {
          "output_type": "stream",
          "name": "stdout",
          "text": [
            "{'Breaking Python': 'Buena', 'AI Rebellion': 'Excelente', 'Debug Wars': 'Regular'}\n"
          ]
        }
      ]
    },
    {
      "cell_type": "markdown",
      "source": [
        "8. Usuarios y géneros favoritos (Diccionario + slicing)\n",
        "Cada usuario tiene una lista de sus géneros preferidos (ordenados por preferencia):\n"
      ],
      "metadata": {
        "id": "beIZhVBS5AKC"
      }
    },
    {
      "cell_type": "code",
      "source": [
        "gustos = {\n",
        "  \"ana\": [\"Sci-Fi\", \"Drama\", \"Documental\"],\n",
        "  \"luis\": [\"Comedia\", \"Acción\", \"Sci-Fi\"],\n",
        "  \"pedro\": [\"Drama\", \"Sci-Fi\", \"Romance\"]\n",
        "}\n",
        "\n",
        "# Realiza:\n",
        "# ●\tUna lista con el primer género favorito de cada usuario\n",
        "primer_genero = [generos[0] for generos in gustos.values()]\n",
        "print(\"Primer género de cada usuario:\", primer_genero)\n",
        "\n",
        "# ●\tUna lista con todos los géneros mencionados sin repeticiones\n",
        "generos_unicos = list(set(g for lista in gustos.values() for g in lista))\n",
        "print(\"Géneros únicos:\", generos_unicos)\n",
        "\n",
        "# ●\t¿Cuál género aparece más veces en la primera posición?\n",
        "\n",
        "counter = {}\n",
        "\n",
        "for generos in gustos.values():\n",
        "    primero = generos[0]\n",
        "    if primero in counter:\n",
        "        counter[primero] += 1\n",
        "    else:\n",
        "        counter[primero] = 1\n",
        "\n",
        "# Buscar el más frecuente\n",
        "mas_frecuente = max(counter, key=counter.get)\n",
        "print(\"Género más común en primera posición:\", mas_frecuente)\n"
      ],
      "metadata": {
        "colab": {
          "base_uri": "https://localhost:8080/"
        },
        "id": "CFJM1sLH49oq",
        "outputId": "0eb42830-03ab-4130-d2f8-94df231f63ee"
      },
      "execution_count": 57,
      "outputs": [
        {
          "output_type": "stream",
          "name": "stdout",
          "text": [
            "Primer género de cada uno: ['Sci-Fi', 'Comedia', 'Drama']\n",
            "Géneros únicos: ['Drama', 'Acción', 'Sci-Fi', 'Documental', 'Comedia', 'Romance']\n",
            "Género más común en primera posición: Sci-Fi\n"
          ]
        }
      ]
    },
    {
      "cell_type": "markdown",
      "source": [
        "9. Resumen de votos por serie (Diccionario + listas)\n",
        "Tienes una lista de votos como pares (serie, puntaje):\n"
      ],
      "metadata": {
        "id": "QqxOlz2t6Cxs"
      }
    },
    {
      "cell_type": "code",
      "source": [
        "votos = [(\"Breaking Python\", 5), (\"AI Rebellion\", 4), (\"Breaking Python\", 4), (\"Debug Wars\", 3), (\"AI Rebellion\", 5)]"
      ],
      "metadata": {
        "id": "wec3SvPq6FHc"
      },
      "execution_count": 59,
      "outputs": []
    },
    {
      "cell_type": "code",
      "source": [
        "votos_por_serie = {}\n",
        "\n",
        "for serie, puntaje in votos:\n",
        "    if serie not in votos_por_serie:\n",
        "        votos_por_serie[serie] = []\n",
        "    votos_por_serie[serie].append(puntaje)\n",
        "\n",
        "print(\"Votos por serie:\", votos_por_serie)\n",
        "\n",
        "promedios = {\n",
        "    serie: sum(puntajes) / len(puntajes)\n",
        "    for serie, puntajes in votos_por_serie.items()\n",
        "}\n",
        "\n",
        "print(\"Promedio de cada serie:\", promedios)\n"
      ],
      "metadata": {
        "colab": {
          "base_uri": "https://localhost:8080/"
        },
        "id": "1a4SXm-N6HM0",
        "outputId": "17f53192-a7f5-4bdf-cb18-a54125b56c21"
      },
      "execution_count": 60,
      "outputs": [
        {
          "output_type": "stream",
          "name": "stdout",
          "text": [
            "Votos por serie: {'Breaking Python': [5, 4], 'AI Rebellion': [4, 5], 'Debug Wars': [3]}\n",
            "Promedio de cada serie: {'Breaking Python': 4.5, 'AI Rebellion': 4.5, 'Debug Wars': 3.0}\n"
          ]
        }
      ]
    },
    {
      "cell_type": "markdown",
      "source": [],
      "metadata": {
        "id": "OWLRiwzf6mjL"
      }
    }
  ]
}