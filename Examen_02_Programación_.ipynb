{
  "nbformat": 4,
  "nbformat_minor": 0,
  "metadata": {
    "colab": {
      "provenance": [],
      "authorship_tag": "ABX9TyO4ksDEV59pt9mdrI1SKj+s",
      "include_colab_link": true
    },
    "kernelspec": {
      "name": "python3",
      "display_name": "Python 3"
    },
    "language_info": {
      "name": "python"
    }
  },
  "cells": [
    {
      "cell_type": "markdown",
      "metadata": {
        "id": "view-in-github",
        "colab_type": "text"
      },
      "source": [
        "<a href=\"https://colab.research.google.com/github/ErosVillegass/Programmation-101/blob/main/Examen_02_Programaci%C3%B3n_.ipynb\" target=\"_parent\"><img src=\"https://colab.research.google.com/assets/colab-badge.svg\" alt=\"Open In Colab\"/></a>"
      ]
    },
    {
      "cell_type": "markdown",
      "source": [
        "Examen: Construyendo el Sistema de Recomendación de PythonFlix\n",
        "Contexto: Eres parte del equipo de ingeniería de PythonFlix, una plataforma de streaming que necesita construir y mejorar su sistema de recomendación. Vas a trabajar con estructuras de datos como listas, tuplas, diccionarios y sets para procesar ratings, historiales y perfiles de usuario.\n",
        "\n",
        "\n",
        "1. Catálogo de contenido (Listas y tuplas)\n",
        "Tienes una tupla inmutable con las series más vistas:\n"
      ],
      "metadata": {
        "id": "3DshNlG6uVeD"
      }
    },
    {
      "cell_type": "markdown",
      "source": [
        "1. Catálogo de contenido (Listas y tuplas)\n",
        "Tienes una tupla inmutable con las series más vistas:\n",
        "\n",
        "catalogo_popular = (\"Breaking Python\", \"Data Science 101\", \"Machine Love\", \"Debug Wars\")\n"
      ],
      "metadata": {
        "id": "umcRfbcGufh3"
      }
    },
    {
      "cell_type": "code",
      "execution_count": 7,
      "metadata": {
        "colab": {
          "base_uri": "https://localhost:8080/"
        },
        "id": "bRoSlA_IuFiM",
        "outputId": "d64d214c-d646-40bd-a887-f8c2fcde4281"
      },
      "outputs": [
        {
          "output_type": "stream",
          "name": "stdout",
          "text": [
            "['Breaking Python', 'Data Science 101', 'Machine Love', 'Neural Networks']\n"
          ]
        }
      ],
      "source": [
        "catalogo_popular = (\"Breaking Python\", \"Data Science 101\", \"Machine Love\", \"Debug Wars\")\n",
        "lista_catalogo = list(catalogo_popular)\n",
        "lista_catalogo.pop()\n",
        "lista_catalogo.append(\"Neural Networks\")\n",
        "lista_ordenado = lista_catalogo.sort()\n",
        "print(lista_catalogo)"
      ]
    },
    {
      "cell_type": "markdown",
      "source": [
        "2. Filtrado de géneros (Slicing)\n",
        "Tienes una lista con los géneros disponibles:\n"
      ],
      "metadata": {
        "id": "g-96Ju-lvlH2"
      }
    },
    {
      "cell_type": "code",
      "source": [
        "generos = [\"Drama\", \"Comedia\", \"Acción\", \"Sci-Fi\", \"Documental\", \"Terror\", \"Romance\"]\n",
        "\n",
        "# Realiza:\n",
        "# ●\tUn slicing que obtenga los géneros del medio\n",
        "generos_medio = generos[3:4]\n",
        "print(generos_medio)\n",
        "\n",
        "# ●\tUn slicing que obtenga los tres primeros géneros\n",
        "generos_tres_primeros = generos[::3]\n",
        "print(generos_tres_primeros)\n",
        "\n",
        "# ●\tLos géneros ordenados en orden inverso (usando slicing)\n",
        "generos_inverso = generos[-7:]\n",
        "print(generos_inverso)\n",
        "\n",
        "\n",
        "\n",
        "\n",
        "\n"
      ],
      "metadata": {
        "colab": {
          "base_uri": "https://localhost:8080/"
        },
        "id": "gb8gp75quU1n",
        "outputId": "5ec3f766-59fa-4ddb-efa5-cff178503f82"
      },
      "execution_count": 20,
      "outputs": [
        {
          "output_type": "stream",
          "name": "stdout",
          "text": [
            "['Sci-Fi']\n",
            "['Drama', 'Sci-Fi', 'Romance']\n",
            "['Drama', 'Comedia', 'Acción', 'Sci-Fi', 'Documental', 'Terror', 'Romance']\n"
          ]
        }
      ]
    },
    {
      "cell_type": "markdown",
      "source": [
        "3. Puntajes de usuarios (Listas por comprensión)\n",
        "Tienes una lista de ratings otorgados por un usuario a distintas series:\n",
        "ratings = [4.5, 3.0, 5.0, 2.5, 4.0, 1.5]\n"
      ],
      "metadata": {
        "id": "Er8n6UFpxKdu"
      }
    },
    {
      "cell_type": "code",
      "source": [
        "ratings = [4.5, 3.0, 5.0, 2.5, 4.0, 1.5]\n",
        "\n",
        "# Con listas por comprensión, crea:\n",
        "\n",
        "# ●\tUna lista con solo los ratings mayores a 3.5\n",
        "lista_mayor_value = [x for x in ratings if x > 3.5]\n",
        "print(lista_mayor_value)\n",
        "# ●\tUna lista con los ratings convertidos a una escala del 1 al 100\n",
        "\n",
        "# ●\tUna lista de strings que diga \"Alta\" si rating > 4, \"Media\" si entre 3 y 4, \"Baja\" si menor\n",
        "\n",
        "\n",
        "\n"
      ],
      "metadata": {
        "colab": {
          "base_uri": "https://localhost:8080/"
        },
        "id": "YlP_I5DMxRbu",
        "outputId": "37a9f0ee-302c-453d-b0fc-2e1d31ffc21e"
      },
      "execution_count": 21,
      "outputs": [
        {
          "output_type": "stream",
          "name": "stdout",
          "text": [
            "[4.5, 5.0, 4.0]\n"
          ]
        }
      ]
    },
    {
      "cell_type": "code",
      "source": [],
      "metadata": {
        "id": "4wyXwI39xQcc"
      },
      "execution_count": null,
      "outputs": []
    }
  ]
}