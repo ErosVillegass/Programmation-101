{
  "nbformat": 4,
  "nbformat_minor": 0,
  "metadata": {
    "colab": {
      "provenance": [],
      "authorship_tag": "ABX9TyNjk7e3+SlBelTfMdqtVXV6",
      "include_colab_link": true
    },
    "kernelspec": {
      "name": "python3",
      "display_name": "Python 3"
    },
    "language_info": {
      "name": "python"
    }
  },
  "cells": [
    {
      "cell_type": "markdown",
      "metadata": {
        "id": "view-in-github",
        "colab_type": "text"
      },
      "source": [
        "<a href=\"https://colab.research.google.com/github/ErosVillegass/Programmation-101/blob/main/Examen_04_Eros_Aranibar.ipynb\" target=\"_parent\"><img src=\"https://colab.research.google.com/assets/colab-badge.svg\" alt=\"Open In Colab\"/></a>"
      ]
    },
    {
      "cell_type": "markdown",
      "source": [
        "**Examen 4 - Pandas**\n",
        "**Duración: 60 minutos **\n",
        "\n",
        "Instrucciones: Responde las siguientes preguntas y resuelve los problemas propuestos. Asegúrate de leer cuidadosamente cada pregunta y mostrar tus razonamientos y cálculos cuando sea necesario.\n",
        "\n",
        "Dataset principal:\n",
        "\n",
        "diabetes.csv (descargable de: https://www.kaggle.com/datasets/uciml/pima-indians-diabetes-database)\n",
        "\n",
        "Nombre y Apellido: \tEros Aranibar Villegas\n"
      ],
      "metadata": {
        "id": "H4aMCFI_KBRl"
      }
    },
    {
      "cell_type": "markdown",
      "source": [
        "Pregunta 1:\n",
        "\n",
        "1.\tCarga diabetes.csv en un DataFrame df_diabetes.\n",
        "2.\tMuestra las 5 primeras filas.\n",
        "3.\tImprime el número total de filas, columnas y el tipo de cada columna.\n",
        "4.\tConvierte la columna Outcome a tipo categórico y verifica el cambio imprimiendo la información del DataFrame (df_diabetes.info()).\n"
      ],
      "metadata": {
        "id": "esFh8QAUKZOK"
      }
    },
    {
      "cell_type": "code",
      "source": [],
      "metadata": {
        "id": "wFmCuqxLKY0u"
      },
      "execution_count": null,
      "outputs": []
    },
    {
      "cell_type": "code",
      "source": [],
      "metadata": {
        "id": "ApoUj3yuKGnU"
      },
      "execution_count": null,
      "outputs": []
    }
  ]
}