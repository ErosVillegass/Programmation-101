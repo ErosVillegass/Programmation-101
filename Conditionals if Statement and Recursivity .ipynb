{
  "nbformat": 4,
  "nbformat_minor": 0,
  "metadata": {
    "colab": {
      "provenance": [],
      "include_colab_link": true
    },
    "kernelspec": {
      "name": "python3",
      "display_name": "Python 3"
    },
    "language_info": {
      "name": "python"
    }
  },
  "cells": [
    {
      "cell_type": "markdown",
      "metadata": {
        "id": "view-in-github",
        "colab_type": "text"
      },
      "source": [
        "<a href=\"https://colab.research.google.com/github/ErosVillegass/Programmation-101/blob/main/Conditionals%20if%20Statement%20and%20Recursivity%20.ipynb\" target=\"_parent\"><img src=\"https://colab.research.google.com/assets/colab-badge.svg\" alt=\"Open In Colab\"/></a>"
      ]
    },
    {
      "cell_type": "markdown",
      "source": [
        "<img src=\"https://posgrado.utec.edu.pe/sites/default/files/2023-08/Testimonial-home-2.jpg\" alt=\"HTML5 Icon\" width=\"900\" height=\"250\" >\n"
      ],
      "metadata": {
        "id": "a8zyMsSvRXp5"
      }
    },
    {
      "cell_type": "markdown",
      "source": [
        "#**Preguntas Tipo - Programación 101**\n",
        "## **Examen 1**"
      ],
      "metadata": {
        "id": "9zJeD0SAM13Y"
      }
    },
    {
      "cell_type": "markdown",
      "source": [
        "Restricción: No usar bucles (for, while), funciones definidas (def), ni listas.\n",
        "Usar únicamente variables, condicionales (if, elif, else), operaciones básicas, entrada (input()) y salida (print()).\n",
        "\n"
      ],
      "metadata": {
        "id": "eFGrD-AYNEbv"
      }
    },
    {
      "cell_type": "markdown",
      "source": [
        "###**Pregunta 1:**\n",
        "**Verificación numérica sencilla**\n",
        "\n",
        "Ingresa un número entero de dos dígitos y verifica si ambos dígitos son iguales."
      ],
      "metadata": {
        "id": "Y6CsgRhINSz6"
      }
    },
    {
      "cell_type": "code",
      "source": [
        "#Ejemplo:\n",
        "#Entrada: 44\n",
        "#Salida: Dígitos iguales"
      ],
      "metadata": {
        "id": "2jhsmLYPNTW9"
      },
      "execution_count": null,
      "outputs": []
    },
    {
      "cell_type": "code",
      "source": [
        "# Your code starts here\n",
        "# Steps:\n",
        "# 1. Ask for a number (integer) with input\n",
        "# 2. The sum of digits of a number must be pair, look for that condition in a if\n",
        "# statement.\n",
        "# if 2 is true print \"Son iguales\" or else print (\"Son distintos\")\n",
        "\n",
        "number_ = str(input(\"Ingresa un numero entero de dos digitos: \"))\n",
        "counter = 0\n",
        "for X in number_ :\n",
        "  counter += int(X)\n",
        "\n",
        "if counter % 2 == 0:\n",
        "  print (\"Dígitos iguales\")\n",
        "else:\n",
        "  print (\"Dígitos diferentes\")\n",
        "\n",
        "\n",
        "# Your code ends here"
      ],
      "metadata": {
        "id": "J5AUksDbNqEV",
        "colab": {
          "base_uri": "https://localhost:8080/"
        },
        "outputId": "ad10ad7e-762d-47fd-9fcf-9a7209211e2f"
      },
      "execution_count": 13,
      "outputs": [
        {
          "output_type": "stream",
          "name": "stdout",
          "text": [
            "Ingresa un numero entero de dos digitos: 12\n",
            "Dígitos diferentes\n"
          ]
        }
      ]
    },
    {
      "cell_type": "markdown",
      "source": [
        "###**Pregunta 2:**\n",
        "**Clasificación de letra**\n",
        "\n",
        "Dado un carácter ingresado, determina si es consonante minúscula, consonante mayúscula o no consonante.\n"
      ],
      "metadata": {
        "id": "bOruUQBZNrIT"
      }
    },
    {
      "cell_type": "code",
      "source": [
        "#Ejemplo:\n",
        "#Entrada: \"G\"\n",
        "#Salida: Consonante MAYÚSCULA"
      ],
      "metadata": {
        "id": "q9nphTXnN2e-"
      },
      "execution_count": null,
      "outputs": []
    },
    {
      "cell_type": "code",
      "source": [
        "# Your code starts here\n",
        "# Steps\n",
        "# 1. Ask for the letter. with str(input)\n",
        "# 2 . To determine if the letter is a consonant , search first it's a vowel.(a,e,i,o,u) condition 0\n",
        "# 3 . Second search lower letter or capital letter. (condition 1 or condition 2)\n",
        "\n",
        "letter_input = str(input (\"Write a letter, capital o lower one: \"))\n",
        "vowels_ = \"aeiou\"\n",
        "vowels_bolean = 0\n",
        "for letter in vowels_ :\n",
        "  if letter == letter_input.lower():\n",
        "    vowels_bolean +=1\n",
        "\n",
        "if letter_input == letter_input.capitalize() and vowels_bolean == 1:\n",
        "    print (\"No consonante, Mayuscula\")\n",
        "elif letter_input == letter_input.lower() and vowels_bolean == 1:\n",
        "    print (\"No Consonante, minuscula\")\n",
        "elif letter_input == letter_input.capitalize() and vowels_bolean == 0:\n",
        "    print (\"Consonante, mayuscula\")\n",
        "elif letter_input == letter_input.lower() and vowels_bolean == 0:\n",
        "    print (\"Consonante, miniscula\")\n",
        "\n",
        "\n",
        "\n",
        "\n",
        "\n",
        "# Your code ends here"
      ],
      "metadata": {
        "id": "6D49YSMAN5VP",
        "colab": {
          "base_uri": "https://localhost:8080/"
        },
        "outputId": "b1c5bc9d-6625-40ac-de4f-c00d8ee73829"
      },
      "execution_count": 22,
      "outputs": [
        {
          "output_type": "stream",
          "name": "stdout",
          "text": [
            "Write a letter, capital o lower one: e\n",
            "No Consonante, minuscula\n"
          ]
        }
      ]
    },
    {
      "cell_type": "markdown",
      "source": [
        "###**Pregunta 3:**\n",
        "**Verificador de año bisiesto simplificado**\n",
        "\n",
        "Ingresa un año y determina si es bisiesto (divisible entre 4) o no.\n"
      ],
      "metadata": {
        "id": "bd7DcYvbN5yU"
      }
    },
    {
      "cell_type": "code",
      "source": [
        "#Ejemplo\n",
        "#Entrada: 2024\n",
        "#Salida: Bisiesto"
      ],
      "metadata": {
        "id": "gW-9lUhwOFuq"
      },
      "execution_count": null,
      "outputs": []
    },
    {
      "cell_type": "code",
      "source": [
        "# Your code starts here\n",
        "# Step 1 , Ask for the year as integer\n",
        "# Step 2 , use module operator % 4 == 0 if a multiple of 4\n",
        "# Step 3, print (true) if step 2 is true.\n",
        "\n",
        "bisiesto_year = int(input(\"Insert the year: \"))\n",
        "if bisiesto_year % 4 == 0:\n",
        "  print (f\"El {bisiesto_year} es bisiesto\")\n",
        "else:\n",
        "  print (f\"El {bisiesto_year} no es bisiesto\")\n",
        "\n",
        "\n",
        "# Your code ends here"
      ],
      "metadata": {
        "id": "rguN-tC3OESX",
        "colab": {
          "base_uri": "https://localhost:8080/"
        },
        "outputId": "35af89c0-0329-47f6-a445-2850342f864d"
      },
      "execution_count": 26,
      "outputs": [
        {
          "output_type": "stream",
          "name": "stdout",
          "text": [
            "Insert the year: 102\n",
            "El 102 no es bisiesto\n"
          ]
        }
      ]
    },
    {
      "cell_type": "markdown",
      "source": [
        "###**Pregunta 4:**\n",
        "**Rango numérico**\n",
        "\n",
        "Ingresa un número y verifica si está dentro del rango [10-20] inclusive o fuera del mismo."
      ],
      "metadata": {
        "id": "iNdvTtA6Qbwe"
      }
    },
    {
      "cell_type": "code",
      "source": [
        "#Ejemplo:\n",
        "#Entrada: 15\n",
        "#Salida: Dentro del rango"
      ],
      "metadata": {
        "id": "vBEZbQ4ZPoCd"
      },
      "execution_count": null,
      "outputs": []
    },
    {
      "cell_type": "code",
      "source": [
        "# Your code starts here\n",
        "# 1. Step 1 : Ask for a number ; float\n",
        "# 2. Step 2 : 2 conditional nested , first 10 and then 20.\n",
        "# 3. Step 3 : if < 10, but < 20 , outside range\n",
        "# 3. Step 3 : if >10, but < 20 , inside  range\n",
        "# 3. Step 4 : if >10, but > 20 , outside range\n",
        "\n",
        "number_range = float(input(\"Insert the number: \"))\n",
        "higher_than_ten = number_range >= 10\n",
        "lower_than_twenty = number_range <= 20\n",
        "if higher_than_ten and lower_than_twenty :\n",
        "  print (\"Number inside range: \")\n",
        "else:\n",
        "  print (\"Number outside range\")\n",
        "\n",
        "# Your code ends here"
      ],
      "metadata": {
        "id": "teGjrMo1PqK2",
        "colab": {
          "base_uri": "https://localhost:8080/"
        },
        "outputId": "a32ede9d-1908-45a8-ae42-4c4c965971a6"
      },
      "execution_count": 31,
      "outputs": [
        {
          "output_type": "stream",
          "name": "stdout",
          "text": [
            "Insert the number: 9\n",
            "Number outside range\n"
          ]
        }
      ]
    },
    {
      "cell_type": "markdown",
      "source": [
        "###**Pregunta 5:**\n",
        "**Código especial (2 dígitos)**\n",
        "\n",
        "Ingresa un número de dos dígitos. Determina si la multiplicación de ambos dígitos es mayor a 20."
      ],
      "metadata": {
        "id": "U3ct-SRkQhTS"
      }
    },
    {
      "cell_type": "code",
      "source": [
        "#Ejemplo:\n",
        "#Entrada: 57  (5×7=35)\n",
        "#Salida: Producto mayor a 20"
      ],
      "metadata": {
        "id": "l75HDOQ7Qky_"
      },
      "execution_count": null,
      "outputs": []
    },
    {
      "cell_type": "code",
      "source": [
        "# Your code starts here\n",
        "# Steps:\n",
        "# Constraints = 0\n",
        "# 1. Ask for a number (integer) with input\n",
        "# 2. If product of digits > 20, print (Higher than 20), look for an if condition\n",
        "\n",
        "number_ = str(input(\"Ingresa un numero entero de dos digitos: \"))\n",
        "counter = 1\n",
        "for X in number_ :\n",
        "  counter *= int(X)\n",
        "\n",
        "if counter > 20 :\n",
        "  print (f\"Product of digits is higher than 20, {counter}\")\n",
        "else:\n",
        "  print (f\"Product of digits is lower than 20, {counter}\")\n",
        "\n",
        "# Your code ends here"
      ],
      "metadata": {
        "id": "Z3uRcAcaQnGP",
        "colab": {
          "base_uri": "https://localhost:8080/"
        },
        "outputId": "04e0c7dc-b7a1-4471-be1a-cd2408b23758"
      },
      "execution_count": 37,
      "outputs": [
        {
          "output_type": "stream",
          "name": "stdout",
          "text": [
            "Ingresa un numero entero de dos digitos: 99\n",
            "Product of digits is higher than 20, 81\n"
          ]
        }
      ]
    },
    {
      "cell_type": "markdown",
      "source": [
        "###**Pregunta 6:**\n",
        "**Comparador de caracteres**\n",
        "\n",
        "Ingresa dos caracteres e indica cuál tiene mayor valor ASCII. Si son iguales, indícalo."
      ],
      "metadata": {
        "id": "9gtPmEjiQpSy"
      }
    },
    {
      "cell_type": "code",
      "source": [
        "#Ejemplo:\n",
        "#Entrada: a, b\n",
        "#Salida: Segundo mayor"
      ],
      "metadata": {
        "id": "eTtpZLqUQsEH"
      },
      "execution_count": null,
      "outputs": []
    },
    {
      "cell_type": "code",
      "source": [
        "# Your code starts here\n",
        "# Goal : Compare 2 ASCCI code for two diferent letter.\n",
        "# Constraint: 0\n",
        "# Step:\n",
        "# 1. Ask for two letter, two input (str)\n",
        "# 2. Use pre-built function ord() to get ASCII number for letter and reference.\n",
        "# 3. Compare with if statemet. 3 possible outcomes, higher, tied and lower.\n",
        "\n",
        "ASCII_letter_one = ord(str(input(\"Please insert a letter: \")))\n",
        "ASCII_letter_two = ord(str(input(\"Please insert a letter: \")))\n",
        "\n",
        "print(ASCII_letter_one, ASCII_letter_two)\n",
        "\n",
        "if ASCII_letter_one == ASCII_letter_two:\n",
        "  print(\"Son iguales\")\n",
        "elif ASCII_letter_one > ASCII_letter_two:\n",
        "  print(\"The first letter is higher than second one\")\n",
        "else:\n",
        "  print(\"The second letter is higher than first one\")\n",
        "\n",
        "\n",
        "# Your code ends here"
      ],
      "metadata": {
        "id": "M-OcrIy8QstB",
        "colab": {
          "base_uri": "https://localhost:8080/"
        },
        "outputId": "9149fb71-5fab-4ca8-bcc7-0bee7b834ec7"
      },
      "execution_count": 41,
      "outputs": [
        {
          "output_type": "stream",
          "name": "stdout",
          "text": [
            "Please insert a letter: b\n",
            "Please insert a letter: f\n",
            "98 102\n",
            "The second letter is higher than first one\n"
          ]
        }
      ]
    },
    {
      "cell_type": "markdown",
      "source": [
        "\n",
        "###**Pregunta 7:**\n",
        "**Contraseña numérica corta**\n",
        "\n",
        "Verifica una contraseña numérica de 3 cifras ingresada por el usuario. La contraseña válida es 369.\n"
      ],
      "metadata": {
        "id": "DbRYWtFaQuYU"
      }
    },
    {
      "cell_type": "code",
      "source": [
        "#Ejemplo:\n",
        "#Entrada: 369\n",
        "#Salida: Acceso autorizado"
      ],
      "metadata": {
        "id": "fO9BNFo4QYbN"
      },
      "execution_count": null,
      "outputs": []
    },
    {
      "cell_type": "code",
      "source": [
        "# Goal: Validate a password : 369\n",
        "# Constraints : 0\n",
        "# Step 1 : Ask for a pasword 3 digits (int)\n",
        "# Step 2 : Compare with a conditional and print (\"Correct Password Authorized\")\n",
        "\n",
        "number_password = int(input(\"Write your 3 digits password: \"))\n",
        "if number_password == 369 :\n",
        "  print (\"Correct password Authorized\")\n",
        "else:\n",
        "  print (\"Incorrect password \")"
      ],
      "metadata": {
        "id": "d95lnFx3QYFL",
        "colab": {
          "base_uri": "https://localhost:8080/"
        },
        "outputId": "29295af5-2345-4afa-be62-6afb0d36759f"
      },
      "execution_count": 44,
      "outputs": [
        {
          "output_type": "stream",
          "name": "stdout",
          "text": [
            "Write your 3 digits password: 0\n",
            "Incorrect password \n"
          ]
        }
      ]
    },
    {
      "cell_type": "markdown",
      "source": [
        "###**Pregunta 8:**\n",
        "**Vocales seguidas**\n",
        "\n",
        "Ingresa dos letras, determina si ambas son vocales (mayúsculas o minúsculas).\n"
      ],
      "metadata": {
        "id": "Ltt7Y9EhQSaa"
      }
    },
    {
      "cell_type": "code",
      "source": [
        "#Ejemplo:\n",
        "#Entrada: a, E\n",
        "#Salida: Ambas son vocales , mayusculas\n",
        "#Salida: Ambas son vocales , minusculas\n",
        "#Salida: No son vocales."
      ],
      "metadata": {
        "id": "H_h9E0CoQTMS"
      },
      "execution_count": null,
      "outputs": []
    },
    {
      "cell_type": "code",
      "source": [
        "# Your code starts here\n",
        "# Steps\n",
        "# 1.  Ask for two the letter. with str(input)\n",
        "# 2 . To determine if two letter are vowels, search if both are vowel.(a,e,i,o,u)\n",
        "# multiple condition true and true.\n",
        "# 3 . if step 2 is true+true , ask for capital or lower letter, if step 3 is true\n",
        "# true*3 == \"both are vowels and mayusculas\" or true*2 == \"both are vowels and minuscula\"\n",
        "\n",
        "letter_input_one = str(input (\"Write a letter, capital o lower one: \"))\n",
        "letter_input_two = str(input (\"Write a letter, capital o lower one: \"))\n",
        "vowels_ = \"aeiou\"\n",
        "vowels_bolean = 0\n",
        "capitlize_condition_one = letter_input_one == letter_input_one.capitalize()\n",
        "capitlize_condition_two = letter_input_two == letter_input_two.capitalize()\n",
        "\n",
        "for letter in vowels_ :\n",
        "  if letter == letter_input_one.lower():\n",
        "    vowels_bolean +=1\n",
        "\n",
        "\n",
        "for x in vowels_ :\n",
        "    if x == letter_input_two.lower():\n",
        "      vowels_bolean +=1\n",
        "\n",
        "print(capitlize_condition_one,capitlize_condition_two)\n",
        "\n",
        "\n",
        "\n",
        "if vowels_bolean < 2 :\n",
        "  print(\"Are not vowels\")\n",
        "\n",
        "elif capitlize_condition_one == 1 and capitlize_condition_two == 1:\n",
        "    print (\"Son vocales, Mayusculas ambos\")\n",
        "\n",
        "elif capitlize_condition_one == 1 and capitlize_condition_two == 0:\n",
        "    print (\"Son vocales, mayuscula el primero el ultimo minuscula\")\n",
        "\n",
        "elif capitlize_condition_one == 0 and capitlize_condition_two == 1:\n",
        "    print (\"Son vocales, minuscula el primero el ultimo mayuscula el segundo\")\n",
        "else:\n",
        "    print(\"Son vocales, ambos minusculas\")\n",
        "\n",
        "# Your code ends here"
      ],
      "metadata": {
        "id": "tqwQPMJ9QVRK",
        "colab": {
          "base_uri": "https://localhost:8080/"
        },
        "outputId": "0b4d70cb-a43f-47f2-9d8d-4030eb46c623"
      },
      "execution_count": 56,
      "outputs": [
        {
          "output_type": "stream",
          "name": "stdout",
          "text": [
            "Write a letter, capital o lower one: A\n",
            "Write a letter, capital o lower one: e\n",
            "True False\n",
            "Son vocales, mayuscula el primero el ultimo minuscula\n"
          ]
        }
      ]
    },
    {
      "cell_type": "markdown",
      "source": [
        "Chapter 5 - Think Python.\n"
      ],
      "metadata": {
        "id": "mgQ9kyoQyVvU"
      }
    },
    {
      "cell_type": "code",
      "source": [
        "#Floor dibision.\n",
        "minutes = 154\n",
        "hours = minutes // 60\n",
        "print(hours)\n",
        "\n",
        "remainder = minutes - hours*60\n",
        "remainder_module = minutes % 60\n",
        "print(remainder, remainder_module)\n",
        "\n",
        "#Clock time arimethic with module operators.\n",
        "Start_meeting = 12\n",
        "meeting_duration = 6\n",
        "hour_clock = 15\n",
        "\n",
        "remainder_of_meeting= (Start_meeting + meeting_duration) % hour_clock\n",
        "print(remainder_of_meeting)\n"
      ],
      "metadata": {
        "colab": {
          "base_uri": "https://localhost:8080/"
        },
        "id": "v9WEeJ-syVbU",
        "outputId": "43b3d1b9-3586-4d8e-b74c-6d1211764a51"
      },
      "execution_count": 71,
      "outputs": [
        {
          "output_type": "stream",
          "name": "stdout",
          "text": [
            "2\n",
            "34 34\n",
            "3\n"
          ]
        }
      ]
    },
    {
      "cell_type": "markdown",
      "source": [
        "Logical Operators\n",
        "Finally, the not operator negates a boolean expression, so the following expression is\n",
        "True if x > y is False:"
      ],
      "metadata": {
        "id": "27s5DB1F-MdR"
      }
    },
    {
      "cell_type": "code",
      "source": [
        "number_higher = 3>0\n",
        "if number_higher:\n",
        "  pass # TODO : need to handle other properties which aren't identified yet\n",
        "\n",
        "print (not number_higher)\n"
      ],
      "metadata": {
        "colab": {
          "base_uri": "https://localhost:8080/"
        },
        "id": "PhWeqErI-SiY",
        "outputId": "d7dd1c43-c778-4414-e8e3-b2f05cf5f3ff"
      },
      "execution_count": 75,
      "outputs": [
        {
          "output_type": "stream",
          "name": "stdout",
          "text": [
            "False\n"
          ]
        }
      ]
    },
    {
      "cell_type": "markdown",
      "source": [
        "Recursion\n",
        "It is legal for a function to call itself. It may not be obvious why that is a good thing,\n",
        "but it turns out to be one of the most magical things a program can do. Here’s an\n",
        "example:"
      ],
      "metadata": {
        "id": "ic6vTZfFF_gD"
      }
    },
    {
      "cell_type": "code",
      "source": [
        "# Count down exercise with recursion\n",
        "# recursion is a function which calls itself.\n",
        "# Here the standard structure for a recursive function\n",
        "# 1. Conditions to satisfied\n",
        "# 2 . If conditions fail , call himself function.\n",
        "def countdown(n):\n",
        "    if n<0:\n",
        "      print(\"The bomb exploded\")\n",
        "    else:\n",
        "      print(n)\n",
        "      countdown(n-1)\n",
        "\n",
        "countdown(10)\n"
      ],
      "metadata": {
        "colab": {
          "base_uri": "https://localhost:8080/"
        },
        "id": "LPAHcgPFGCyz",
        "outputId": "99a290fd-bd4d-4ef6-a43f-822a33e12e48"
      },
      "execution_count": 79,
      "outputs": [
        {
          "output_type": "stream",
          "name": "stdout",
          "text": [
            "10\n",
            "9\n",
            "8\n",
            "7\n",
            "6\n",
            "5\n",
            "4\n",
            "3\n",
            "2\n",
            "1\n",
            "0\n",
            "The bomb exploded\n"
          ]
        }
      ]
    },
    {
      "cell_type": "code",
      "source": [
        "# Here is a function with print a string n times:\n",
        "# when n times is < 0, it has to stop calling the function.\n",
        "\n",
        "def print_n_times (letra,n):\n",
        "  if n == 1:\n",
        "    print(letra) #BASE CASE CONDITION\n",
        "  else:\n",
        "    print(letra)\n",
        "    print_n_times(letra,n-1)\n",
        "\n",
        "print_n_times(\"casa\",10)"
      ],
      "metadata": {
        "colab": {
          "base_uri": "https://localhost:8080/"
        },
        "id": "8jX1itLDJNMF",
        "outputId": "6803c925-8073-4068-8d90-733a10834c4d"
      },
      "execution_count": 81,
      "outputs": [
        {
          "output_type": "stream",
          "name": "stdout",
          "text": [
            "casa\n",
            "casa\n",
            "casa\n",
            "casa\n",
            "casa\n",
            "casa\n",
            "casa\n",
            "casa\n",
            "casa\n",
            "casa\n"
          ]
        }
      ]
    },
    {
      "cell_type": "markdown",
      "source": [],
      "metadata": {
        "id": "Ya6SCFcNGB-r"
      }
    },
    {
      "cell_type": "markdown",
      "source": [
        "---\n",
        "\n",
        "# Gracias por completar este laboratorio!\n",
        "\n",
        "---\n"
      ],
      "metadata": {
        "id": "eu9RJbEMRbUd"
      }
    }
  ]
}