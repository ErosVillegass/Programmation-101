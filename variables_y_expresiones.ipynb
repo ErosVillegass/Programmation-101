{
  "nbformat": 4,
  "nbformat_minor": 0,
  "metadata": {
    "colab": {
      "provenance": [],
      "include_colab_link": true
    },
    "kernelspec": {
      "name": "python3",
      "display_name": "Python 3"
    },
    "language_info": {
      "name": "python"
    }
  },
  "cells": [
    {
      "cell_type": "markdown",
      "metadata": {
        "id": "view-in-github",
        "colab_type": "text"
      },
      "source": [
        "<a href=\"https://colab.research.google.com/github/ErosVillegass/Programmation-101/blob/main/variables_y_expresiones.ipynb\" target=\"_parent\"><img src=\"https://colab.research.google.com/assets/colab-badge.svg\" alt=\"Open In Colab\"/></a>"
      ]
    },
    {
      "cell_type": "markdown",
      "source": [
        "<img src=\"https://posgrado.utec.edu.pe/sites/default/files/2023-08/Testimonial-home-2.jpg\" alt=\"HTML5 Icon\" width=\"900\" height=\"250\" >\n"
      ],
      "metadata": {
        "id": "cqadFmlrgAXp"
      }
    },
    {
      "cell_type": "markdown",
      "source": [
        "# **Ejercicios - Variables y Expresiones**"
      ],
      "metadata": {
        "id": "tW1-ULBmb0Cm"
      }
    },
    {
      "cell_type": "markdown",
      "source": [
        "**Ejercicio 1: Calculadora de ahorro semanal**\n",
        "\n",
        "Pide al usuario cuánto dinero ahorra cada día de lunes a domingo. Al final, muestra cuánto ahorró en total esa semana y cuánto tendría en un mes si repite el mismo patrón cada semana.\n",
        "\n",
        "- Pista: Usar 7 variables (ahorro_lunes, ahorro_martes, …), input(), float(), +, *."
      ],
      "metadata": {
        "id": "9igzfvIKqNGr"
      }
    },
    {
      "cell_type": "code",
      "source": [
        "## INICIO DE CÓDIGO\n",
        "ahorro_lunes = float(input(\"Ingresa el monto del dia lunes: \"))\n",
        "ahorro_martes = float(input(\"Ingresa el monto del dia martes: \"))\n",
        "ahorro_miercoles = float(input(\"Ingresa el monto del dia miercoles: \"))\n",
        "ahorro_jueves = float(input(\"Ingresa el monto del dia jueves: \"))\n",
        "ahorro_viernes = float(input(\"Ingresa el monto del dia viernes: \"))\n",
        "ahorro_sabado = float(input(\"Ingresa el monto del dia sabado: \"))\n",
        "ahorro_domingo = float(input(\"Ingresa el monto del dia domingo: \"))\n",
        "\n",
        "ahorro_semana = (\n",
        "                  ahorro_lunes\n",
        "                  + ahorro_martes\n",
        "                  + ahorro_miercoles\n",
        "                  + ahorro_jueves\n",
        "                  + ahorro_viernes\n",
        "                  + ahorro_sabado\n",
        "                  + ahorro_domingo\n",
        ")\n",
        "\n",
        "ahorro_mensual = ahorro_semana * 4\n",
        "print(f\"Durante la semana has logrado ahorrar {ahorro_semana}\")\n",
        "print(f\"Durante el mes has logrado ahorrar {ahorro_semana}, siguiendo el mismo patron de ahorro\")\n",
        "\n",
        "## FIN DE CÓDIGO"
      ],
      "metadata": {
        "id": "BX-O1-4wqWF9",
        "colab": {
          "base_uri": "https://localhost:8080/"
        },
        "outputId": "dbc956bc-a3f4-480f-d2ca-6069948fd1d2"
      },
      "execution_count": null,
      "outputs": [
        {
          "output_type": "stream",
          "name": "stdout",
          "text": [
            "Ingresa el monto del dia lunes: 1\n",
            "Ingresa el monto del dia martes: 1\n",
            "Ingresa el monto del dia miercoles: 1\n",
            "Ingresa el monto del dia jueves: 1\n",
            "Ingresa el monto del dia viernes: 1\n",
            "Ingresa el monto del dia sabado: 1\n",
            "Ingresa el monto del dia domingo: 1\n",
            "Durante la semana has logrado ahorrar 7.0\n",
            "Durante el mes has logrado ahorrar 7.0, siguiendo el mismo patron de ahorro\n"
          ]
        }
      ]
    },
    {
      "cell_type": "markdown",
      "source": [
        "**Ejercicio 2: Conversor de segundos**\n",
        "\n",
        "Solicita una cantidad total de segundos y muestra cuántos minutos y segundos representa.\n",
        "\n",
        "Ejemplo: 130 segundos → 2 minutos y 10 segundos\n",
        "* Pista: Usar // y %\n"
      ],
      "metadata": {
        "id": "oLaw6UggqV3E"
      }
    },
    {
      "cell_type": "code",
      "source": [
        "## INICIO DE CÓDIGO\n",
        "## 1. Ask for number of seconds as input (int)\n",
        "## 2. Use the floor division // to find the integer, this section computes minutes.\n",
        "## 3. Use the module operator to find the remainder, this section computes seconds.\n",
        "## 4. Print step 3 and 4 with f\"string\"\n",
        "seconds_total = int(input(\"Please insert total number of seconds:\"))\n",
        "minutes_total = seconds_total // 60\n",
        "seconds_remainder = seconds_total % 60\n",
        "\n",
        "print(f\"{minutes_total} minutos y {seconds_remainder} segundos\")\n",
        "\n",
        "## FIN DE CÓDIGO"
      ],
      "metadata": {
        "id": "bAuxBROrqaWb",
        "colab": {
          "base_uri": "https://localhost:8080/"
        },
        "outputId": "0e76b449-8379-4938-8ca0-5e09c1145224"
      },
      "execution_count": null,
      "outputs": [
        {
          "output_type": "stream",
          "name": "stdout",
          "text": [
            "Please insert total number of seconds:601\n",
            "10 minutos y 1 segundos\n"
          ]
        }
      ]
    },
    {
      "cell_type": "markdown",
      "source": [
        "**Ejercicio 3: Puntuación de juego**\n",
        "\n",
        "Un videojuego otorga:\n",
        "\n",
        "* 10 puntos por cada estrella recolectada,\n",
        "* 50 puntos por cada gema recolectada, y\n",
        "* 1 punto por cada segundo que el jugador se mantuvo vivo.\n",
        "\n",
        "Pide al usuario las tres cantidades y muestra su puntaje total.\n",
        "\n",
        "* Pista: total = estrellas*10 + gemas*50 + tiempo"
      ],
      "metadata": {
        "id": "dK4EIGoKrW2B"
      }
    },
    {
      "cell_type": "code",
      "source": [
        "## INICIO DE CÓDIGO\n",
        "## 1. Ask for the three inputs (integers)\n",
        "## 2. Compute the total score following some constraints.\n",
        "## 3. Print result.\n",
        "\n",
        "start_amount = int(input(\"Please insert the number of starts recollected: \"))\n",
        "gem_amount = int(input(\"Please insert the number of gems recollected: \"))\n",
        "time_survived = int(input(\"Please insert the number of time survived in seconds: \"))\n",
        "\n",
        "start_score, gem_score, time_score = 10*start_amount , 50*gem_amount , time_survived\n",
        "total_score =(\n",
        "              start_score\n",
        "              + gem_score\n",
        "              + time_score\n",
        ")\n",
        "\n",
        "print(f\"Your total score is {total_score}\")\n",
        "\n",
        "## FIN DE CÓDIGO"
      ],
      "metadata": {
        "id": "jkBQHQF1rlUY",
        "colab": {
          "base_uri": "https://localhost:8080/"
        },
        "outputId": "7710b715-3feb-4f85-a613-b09c816ec7de"
      },
      "execution_count": null,
      "outputs": [
        {
          "output_type": "stream",
          "name": "stdout",
          "text": [
            "Please insert the number of starts recollected: 10\n",
            "Please insert the number of gems recollected: 2\n",
            "Please insert the number of time survived in seconds: 10\n",
            "Your total score is 210\n"
          ]
        }
      ]
    },
    {
      "cell_type": "markdown",
      "source": [
        "**Ejercicio 4: Conversor de monedas con tasa personalizada**\n",
        "\n",
        "Solicita al usuario:\n",
        "\n",
        "* El monto en soles\n",
        "* La tasa de cambio a dólares\n",
        "\n",
        "Muestra el equivalente en dólares, redondeado a 2 decimales.\n",
        "\n",
        "* Pista: Usar float(), *, round(valor, 2)"
      ],
      "metadata": {
        "id": "wW9Edl_8rlt1"
      }
    },
    {
      "cell_type": "code",
      "source": [
        "## INICIO DE CÓDIGO\n",
        "## 1. Objetive: Convert soles to dollars (float).\n",
        "## 2. Steps: Ask for the amount of soles\n",
        "## 3. Use a type of change to convert to dollars.\n",
        "## 4. Use Round the report the final result.\n",
        "\n",
        "soles_amount = float(input(\"Insert How much soles do you want to change:S/. \"))\n",
        "rate_of_change_dollars = float(input(\"Please insert you rate of change desire:Example (3.74): \"))\n",
        "dollars_amount = round(soles_amount / rate_of_change_dollars, 2)\n",
        "print(f\"You've successfully changed {soles_amount} soles to dollars, {dollars_amount} $\")\n",
        "\n",
        "## FIN DE CÓDIGO"
      ],
      "metadata": {
        "id": "fTCsCohHrmQW",
        "colab": {
          "base_uri": "https://localhost:8080/"
        },
        "outputId": "bfc5f467-39cd-458a-a803-59d1d9cc22b7"
      },
      "execution_count": null,
      "outputs": [
        {
          "output_type": "stream",
          "name": "stdout",
          "text": [
            "Insert How much soles do you want to change:S/. 300\n",
            "Please insert you rate of change desire:Example (3.74): 3.74\n",
            "You've successfully changed 300.0 soles to dollars, 80.21 $\n"
          ]
        }
      ]
    },
    {
      "cell_type": "markdown",
      "source": [
        "**Ejercicio 5: Costo compartido de viaje**\n",
        "\n",
        "Tres amigos hacen un viaje y pagan distintos montos:\n",
        "\n",
        "* Ana pagó gasolina,\n",
        "* Luis pagó peajes,\n",
        "* Carla pagó comida.\n",
        "\n",
        "Pide los tres montos, calcula el total y cuánto debería aportar cada uno para que paguen igual.\n",
        "\n",
        "* Pista: Calcular el total y luego dividirlo entre 3"
      ],
      "metadata": {
        "id": "JYUyJAidrmnT"
      }
    },
    {
      "cell_type": "code",
      "source": [
        "## INICIO DE CÓDIGO\n",
        "# 1. Ask for gasoline total cost, fare and food. (float)\n",
        "# 2. Sum all the costs\n",
        "# 3. Divide and print.\n",
        "\n",
        "gasoline_cost = float(input(\"Please Anna insert you total cost for gasoline: \"))\n",
        "fare_cost = float(input(\"Please Luis insert you total cost for fare: \"))\n",
        "food_cost = float(input(\"Please Carla insert you total cost for food: \"))\n",
        "total_cost =( gasoline_cost\n",
        "             + fare_cost\n",
        "             + food_cost\n",
        ")\n",
        "total_individual_cost = total_cost / 3\n",
        "print (f\"Everyone must pays : {total_individual_cost}\")\n",
        "\n",
        "## FIN DE CÓDIGO"
      ],
      "metadata": {
        "id": "SGjH-m_mrom9",
        "colab": {
          "base_uri": "https://localhost:8080/"
        },
        "outputId": "cdcc270a-4b70-4ad1-9e1b-08c9e7bcb48a"
      },
      "execution_count": null,
      "outputs": [
        {
          "output_type": "stream",
          "name": "stdout",
          "text": [
            "Please Anna insert you total cost for gasoline: 20\n",
            "Please Luis insert you total cost for fare: 20.5\n",
            "Please Carla insert you total cost for food: 30.15\n",
            "Everyone must pays : 23.55\n"
          ]
        }
      ]
    },
    {
      "cell_type": "markdown",
      "source": [
        "**Ejercicio 6: Tiempo total de estudio**\n",
        "\n",
        "Solicita al usuario cuántas horas estudió en 4 materias distintas.\n",
        "\n",
        "Muestra el total de horas de estudio en la semana y el promedio diario (considerando 7 días).\n"
      ],
      "metadata": {
        "id": "skhBiCaCro5l"
      }
    },
    {
      "cell_type": "code",
      "source": [
        "## INICIO DE CÓDIGO\n",
        "# Ask for how many hours does the student study x week a course?\n",
        "# Repeat for 4 courses. (int)\n",
        "total_hours_course_one = int(input(\"Insert you number of hours for course 1 : \" ))\n",
        "total_hours_course_two = int(input(\"Insert you number of hours for course 2 : \" ))\n",
        "total_hours_course_three = int(input(\"Insert you number of hours for course 3 : \" ))\n",
        "total_hours_course_four = int(input(\"Insert you number of hours for course 4 : \" ))\n",
        "\n",
        "total_hours_invested_week = ( total_hours_course_one\n",
        "                             + total_hours_course_two\n",
        "                             + total_hours_course_three\n",
        "                             + total_hours_course_four\n",
        ")\n",
        "\n",
        "average_daily_hours_studying = round(total_hours_invested_week / 7)\n",
        "\n",
        "\n",
        "print(f\"You've studied {total_hours_invested_week} hours in a week, with an average of {average_daily_hours_studying} hours per day\")\n",
        "## FIN DE CÓDIGO"
      ],
      "metadata": {
        "id": "HnFuV1RPrqXQ",
        "colab": {
          "base_uri": "https://localhost:8080/"
        },
        "outputId": "cab0cd6c-44a2-4ac3-8304-31e6f3f93c22"
      },
      "execution_count": null,
      "outputs": [
        {
          "output_type": "stream",
          "name": "stdout",
          "text": [
            "Insert you number of hours for course 1 : 20\n",
            "Insert you number of hours for course 2 : 16\n",
            "Insert you number of hours for course 3 : 14\n",
            "Insert you number of hours for course 4 : 8\n",
            "You've studied 58 hours in a week, with an average of 8 hours per day\n"
          ]
        }
      ]
    },
    {
      "cell_type": "markdown",
      "source": [
        "**Ejercicio 7: Nombre codificado (nivel string)**\n",
        "\n",
        "Pide al usuario su nombre completo y muestra:\n",
        "\n",
        "* La cantidad de caracteres (con len())\n",
        "* Su nombre todo en mayúsculas (.upper())\n",
        "* Su nombre todo en minúsculas (.lower())\n"
      ],
      "metadata": {
        "id": "rNjtOXKWrqs5"
      }
    },
    {
      "cell_type": "code",
      "source": [
        "## INICIO DE CÓDIGO\n",
        "# Ask for the user name, applies len, upper and then lower.\n",
        "user_name = str(input(\"Please insert your name: \"))\n",
        "user_name_length = len(user_name)\n",
        "user_name_upper = user_name.upper()\n",
        "user_name_lower = user_name.lower()\n",
        "\n",
        "print(f\"{user_name}\")\n",
        "print (f\"{user_name_length}\")\n",
        "print (f\"{user_name_upper}\")\n",
        "print (f\"{user_name_lower}\")\n",
        "\n",
        "\n",
        "## FIN DE CÓDIGO"
      ],
      "metadata": {
        "id": "GnGm74GXrsL0",
        "colab": {
          "base_uri": "https://localhost:8080/"
        },
        "outputId": "ce5772ed-e8f5-46a6-fcc0-dfde029cb98d"
      },
      "execution_count": null,
      "outputs": [
        {
          "output_type": "stream",
          "name": "stdout",
          "text": [
            "Please insert your name: Eros Aranibar\n",
            "Eros Aranibar\n",
            "13\n",
            "EROS ARANIBAR\n",
            "eros aranibar\n"
          ]
        }
      ]
    },
    {
      "cell_type": "markdown",
      "source": [
        "**Ejercicio 8: Frase repetida**\n",
        "\n",
        "Pide una frase y un número n, y muestra la frase repetida n veces, cada una en una línea.\n",
        "\n",
        "* Pista: print(frase * n)  # y/o con '\\n'"
      ],
      "metadata": {
        "id": "lrhPyjmWrse2"
      }
    },
    {
      "cell_type": "code",
      "source": [
        "## INICIO DE CÓDIGO\n",
        "\n",
        "## FIN DE CÓDIGO"
      ],
      "metadata": {
        "id": "Vzef3t_Lru0p"
      },
      "execution_count": null,
      "outputs": []
    },
    {
      "cell_type": "markdown",
      "source": [
        "**Ejercicio 9: División de cuentas**\n",
        "\n",
        "Un grupo de amigos pide una cuenta por S/ 250.\n",
        "Pide al usuario cuántas personas están en el grupo y muestra cuánto debe pagar cada uno.\n",
        "\n",
        "Asegúrate de redondear el resultado a 2 decimales.\n",
        "\n",
        "* Pista: Usa la funcion round()"
      ],
      "metadata": {
        "id": "5NpbbGR_rvNH"
      }
    },
    {
      "cell_type": "code",
      "source": [
        "## INICIO DE CÓDIGO\n",
        "\n",
        "## FIN DE CÓDIGO"
      ],
      "metadata": {
        "id": "uMxuVCUVrvj6"
      },
      "execution_count": null,
      "outputs": []
    },
    {
      "cell_type": "markdown",
      "source": [
        "**Ejercicio 10: Calendario de clases**\n",
        "\n",
        "Pide cuántas horas se estudia en promedio por día, y cuántos días tiene el mes.\n",
        "\n",
        "Calcula cuántas horas de estudio habrá ese mes."
      ],
      "metadata": {
        "id": "p3PYp0l4pxuI"
      }
    },
    {
      "cell_type": "code",
      "source": [
        "## INICIO DE CÓDIGO\n",
        "\n",
        "## FIN DE CÓDIGO"
      ],
      "metadata": {
        "id": "y1bXFffhrxk2"
      },
      "execution_count": null,
      "outputs": []
    },
    {
      "cell_type": "markdown",
      "source": [
        "---\n",
        "\n",
        "# Gracias por completar este laboratorio!\n",
        "\n",
        "---\n"
      ],
      "metadata": {
        "id": "8_ZocYoOrx3Z"
      }
    }
  ]
}