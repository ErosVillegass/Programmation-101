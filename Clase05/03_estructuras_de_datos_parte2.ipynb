{
  "nbformat": 4,
  "nbformat_minor": 0,
  "metadata": {
    "colab": {
      "provenance": [],
      "include_colab_link": true
    },
    "kernelspec": {
      "name": "python3",
      "display_name": "Python 3"
    },
    "language_info": {
      "name": "python"
    }
  },
  "cells": [
    {
      "cell_type": "markdown",
      "metadata": {
        "id": "view-in-github",
        "colab_type": "text"
      },
      "source": [
        "<a href=\"https://colab.research.google.com/github/ErosVillegass/Programmation-101/blob/main/Clase05/03_estructuras_de_datos_parte2.ipynb\" target=\"_parent\"><img src=\"https://colab.research.google.com/assets/colab-badge.svg\" alt=\"Open In Colab\"/></a>"
      ]
    },
    {
      "cell_type": "markdown",
      "source": [
        "<img src=\"https://www.ctic.uni.edu.pe/wp-content/uploads/2022/04/588px-x-348px-web-1.png\" alt=\"HTML5 Icon\" width=\"900\" height=\"350\" >\n"
      ],
      "metadata": {
        "id": "0xv6Piu7tRkP"
      }
    },
    {
      "cell_type": "markdown",
      "source": [
        "<h1 align=center><font size = 5>ESTRUCTURAS DE DATOS - PARTE 2\n",
        "</font></h1>\n",
        "\n",
        "---\n"
      ],
      "metadata": {
        "id": "iJvpwSTptUZI"
      }
    },
    {
      "cell_type": "markdown",
      "source": [
        "**Tabla de Contenidos**\n",
        "\n",
        "- Diccionarios\n",
        "- Sets\n",
        "- Matrices\n",
        "\n",
        "---"
      ],
      "metadata": {
        "id": "gM88wvb0uEt7"
      }
    },
    {
      "cell_type": "markdown",
      "source": [
        "## 1. Diccionarios\n",
        "**Concepto:**\n",
        "\n",
        "Un diccionario es una estructura de datos que almacena pares clave-valor. Las claves deben ser únicas y se utilizan para acceder a los valores asociados."
      ],
      "metadata": {
        "id": "P3deKEL-tbDJ"
      }
    },
    {
      "cell_type": "code",
      "source": [
        "user_input ={'nombre': \"Eros\" ,\n",
        " 'edad': 31 ,\n",
        " 'Apellido': 'Aranibar' ,\n",
        " 'Hobbies' : \"High Performance\"\n",
        "}"
      ],
      "metadata": {
        "id": "nHfEQ0jVyYLb"
      },
      "execution_count": null,
      "outputs": []
    },
    {
      "cell_type": "code",
      "source": [
        "user_input.keys()  #Retorna las keys del diccionario."
      ],
      "metadata": {
        "id": "bSX7xek_yEO0",
        "outputId": "dbf59e12-c327-4ffd-ca16-5dc06985a803",
        "colab": {
          "base_uri": "https://localhost:8080/"
        }
      },
      "execution_count": null,
      "outputs": [
        {
          "output_type": "execute_result",
          "data": {
            "text/plain": [
              "dict_keys(['nombre', 'edad', 'Apellido', 'Hobbies'])"
            ]
          },
          "metadata": {},
          "execution_count": 5
        }
      ]
    },
    {
      "cell_type": "markdown",
      "source": [
        "### Ejemplo 1.1: Creación de Diccionarios y Acceso a Elementos\n"
      ],
      "metadata": {
        "id": "hlZnLeo_uPwN"
      }
    },
    {
      "cell_type": "code",
      "source": [
        "# Crear un diccionario\n",
        "persona = {'nombre': 'Ana', 'edad': 30, 'ciudad': 'Lima'}\n",
        "print(persona) #Imprimiendo el diccionario"
      ],
      "metadata": {
        "id": "P-TTXZxuuRe7",
        "outputId": "3e1725a0-09c3-42f9-efeb-8440c0b65c60",
        "colab": {
          "base_uri": "https://localhost:8080/"
        }
      },
      "execution_count": null,
      "outputs": [
        {
          "output_type": "stream",
          "name": "stdout",
          "text": [
            "{'nombre': 'Ana', 'edad': 30, 'ciudad': 'Lima'}\n"
          ]
        }
      ]
    },
    {
      "cell_type": "code",
      "source": [
        "# Acceder a un valor\n",
        "print(\"Nombre:\", persona['nombre'])\n",
        "print(\"Ciudad:\", persona.get('ciudad'))\n",
        "print('Edad:', persona['edad'])"
      ],
      "metadata": {
        "id": "tPRrAukRuS1S",
        "outputId": "415fb0e4-993a-4cea-b131-b4eb9452718d",
        "colab": {
          "base_uri": "https://localhost:8080/"
        }
      },
      "execution_count": null,
      "outputs": [
        {
          "output_type": "stream",
          "name": "stdout",
          "text": [
            "Nombre: Ana\n",
            "Ciudad: Lima\n",
            "Edad: 30\n"
          ]
        }
      ]
    },
    {
      "cell_type": "code",
      "source": [
        "\n",
        "# Añadir un nuevo par clave-valor\n",
        "persona['profesion'] = 'Ingeniera'\n",
        "persona['EstatusSocial'] = 'Soltera'\n",
        "persona['Educación'] = 'Bachier Culminado'\n",
        "\n",
        "\n",
        "print(persona)\n",
        "\n"
      ],
      "metadata": {
        "id": "Ineeezk6uUjd",
        "outputId": "0cfb4f81-22c0-442c-d1fb-e4220702844a",
        "colab": {
          "base_uri": "https://localhost:8080/"
        }
      },
      "execution_count": null,
      "outputs": [
        {
          "output_type": "stream",
          "name": "stdout",
          "text": [
            "{'nombre': 'Ana', 'edad': 30, 'profesion': 'Ingeniera', 'EstatusSocial': 'Soltera', 'Educación': 'Bachier Culminado'}\n"
          ]
        }
      ]
    },
    {
      "cell_type": "code",
      "source": [
        "# Eliminar un par clave-valor\n",
        "persona.keys()\n",
        "del persona['Educación']\n",
        "\n",
        "\n",
        "\n",
        "print(persona)"
      ],
      "metadata": {
        "id": "tuA4FSZNuVv1",
        "outputId": "7673be55-e2ed-4e0d-fdf4-9933f49ea65f",
        "colab": {
          "base_uri": "https://localhost:8080/"
        }
      },
      "execution_count": null,
      "outputs": [
        {
          "output_type": "stream",
          "name": "stdout",
          "text": [
            "{'nombre': 'Ana', 'edad': 30, 'profesion': 'Ingeniera', 'EstatusSocial': 'Soltera'}\n"
          ]
        }
      ]
    },
    {
      "cell_type": "markdown",
      "source": [
        "### Ejemplo 1.2: Métodos Útiles de Diccionarios\n"
      ],
      "metadata": {
        "id": "FiQWLZxXuY6G"
      }
    },
    {
      "cell_type": "code",
      "source": [
        "# Obtener todas las claves\n",
        "print(persona.keys())\n"
      ],
      "metadata": {
        "id": "0BNmkeBXua1R",
        "outputId": "f9b54c3f-cff2-40ee-fdbe-335acba51a5d",
        "colab": {
          "base_uri": "https://localhost:8080/"
        }
      },
      "execution_count": null,
      "outputs": [
        {
          "output_type": "stream",
          "name": "stdout",
          "text": [
            "dict_keys(['nombre', 'edad', 'profesion', 'EstatusSocial'])\n"
          ]
        }
      ]
    },
    {
      "cell_type": "code",
      "source": [
        "# Obtener todos los valores\n",
        "print(persona.values())\n",
        "print(user_input.values())"
      ],
      "metadata": {
        "id": "67-6NfYiubwM",
        "outputId": "f7ad1ef8-ee85-4535-ee0b-6734acc060b3",
        "colab": {
          "base_uri": "https://localhost:8080/"
        }
      },
      "execution_count": null,
      "outputs": [
        {
          "output_type": "stream",
          "name": "stdout",
          "text": [
            "dict_values(['Ana', 30, 'Ingeniera', 'Soltera'])\n",
            "dict_values(['Eros', 31, 'Aranibar', 'High Performance'])\n"
          ]
        }
      ]
    },
    {
      "cell_type": "code",
      "source": [
        "# Comprobar si una clave existe en el diccionario\n",
        "print(persona.keys())\n",
        "if 'profesion' in persona:\n",
        "    print(\"La clave 'profesion' está en el diccionario.\")\n",
        "else:\n",
        "    print(\"No existe educación\")"
      ],
      "metadata": {
        "id": "UPfEsSI_ucnd",
        "outputId": "61912fca-8785-418e-ac78-3acc2b7895da",
        "colab": {
          "base_uri": "https://localhost:8080/"
        }
      },
      "execution_count": null,
      "outputs": [
        {
          "output_type": "stream",
          "name": "stdout",
          "text": [
            "dict_keys(['nombre', 'edad', 'profesion', 'EstatusSocial'])\n",
            "La clave 'profesion' está en el diccionario.\n"
          ]
        }
      ]
    },
    {
      "cell_type": "markdown",
      "source": [
        "### Ejercicio 1: Trabajando con Diccionarios\n",
        "\n",
        "- Crea un diccionario que contenga información sobre un automóvil (marca, modelo, año, color).\n",
        "- Accede a cada valor usando su clave.\n",
        "- Añade una clave para el precio del automóvil.\n",
        "- Elimina la clave del color del automóvil y muestra el diccionario actualizado.\n",
        "- Usa keys() y values() para imprimir las claves y valores del diccionario.\n",
        "\n"
      ],
      "metadata": {
        "id": "oECCq-N5uguf"
      }
    },
    {
      "cell_type": "code",
      "source": [
        "car_data = {'marca':'chino', 'modelo':'pirata', 'año':'1995','color':'caqui'}\n",
        "print(car_data['marca'])\n",
        "print(car_data['modelo'])\n",
        "print(car_data['año'])\n",
        "print(car_data['color'])\n",
        "car_data['precio'] = 35\n",
        "del car_data['color']\n",
        "print(car_data)\n",
        "print(car_data.keys())\n",
        "print(car_data.values())"
      ],
      "metadata": {
        "id": "x2uN2fYnume5",
        "outputId": "8e30a377-6fc5-4b1c-b339-3a0a9b891441",
        "colab": {
          "base_uri": "https://localhost:8080/"
        }
      },
      "execution_count": null,
      "outputs": [
        {
          "output_type": "stream",
          "name": "stdout",
          "text": [
            "chino\n",
            "pirata\n",
            "1995\n",
            "caqui\n",
            "{'marca': 'chino', 'modelo': 'pirata', 'año': '1995', 'precio': 35}\n",
            "dict_keys(['marca', 'modelo', 'año', 'precio'])\n",
            "dict_values(['chino', 'pirata', '1995', 35])\n"
          ]
        }
      ]
    },
    {
      "cell_type": "markdown",
      "source": [
        "## 2. Sets\n",
        "\n",
        "Los sets son colecciones de elementos únicos y desordenados. Son útiles para eliminar duplicados o realizar operaciones matemáticas como intersección y unión."
      ],
      "metadata": {
        "id": "-omdmjTguoW-"
      }
    },
    {
      "cell_type": "markdown",
      "source": [
        "### Ejemplo 2.1: Creación y Modificación de Sets"
      ],
      "metadata": {
        "id": "5GC8_tPvuu3r"
      }
    },
    {
      "cell_type": "markdown",
      "source": [
        "Operaciones mas importantes a set\n"
      ],
      "metadata": {
        "id": "P06Ldg3L3amk"
      }
    },
    {
      "cell_type": "code",
      "source": [
        "lista1=['Columna1','columna2', 'columna3', ' columna4']\n",
        "lista2=['Columna5','columna6', 'columna3', ' columna4']\n",
        "\n",
        "lista1+lista2\n",
        "list(set(lista1+lista2))\n",
        "\n",
        "list(set(lista1)-set(lista2))"
      ],
      "metadata": {
        "id": "nbiRfaY93dT7",
        "outputId": "5807b103-83b0-4121-e30c-0b6b104be90f",
        "colab": {
          "base_uri": "https://localhost:8080/"
        }
      },
      "execution_count": null,
      "outputs": [
        {
          "output_type": "execute_result",
          "data": {
            "text/plain": [
              "['Columna1', 'columna2']"
            ]
          },
          "metadata": {},
          "execution_count": 12
        }
      ]
    },
    {
      "cell_type": "code",
      "source": [
        "# Crear un set\n",
        "numeros = {1, 2, 3, 4, 5}\n",
        "print(numeros)\n"
      ],
      "metadata": {
        "id": "D2ClA0CAutom",
        "outputId": "67a62722-fd53-4e0c-c4f3-61b2305824a1",
        "colab": {
          "base_uri": "https://localhost:8080/"
        }
      },
      "execution_count": null,
      "outputs": [
        {
          "output_type": "stream",
          "name": "stdout",
          "text": [
            "{1, 2, 3, 4, 5}\n"
          ]
        }
      ]
    },
    {
      "cell_type": "code",
      "source": [
        "# Añadir elementos\n",
        "numeros.add(6)\n",
        "print(numeros)\n"
      ],
      "metadata": {
        "id": "deMM35okuyPM"
      },
      "execution_count": null,
      "outputs": []
    },
    {
      "cell_type": "code",
      "source": [
        "# Eliminar un elemento\n",
        "numeros.remove(3)\n",
        "print(numeros)\n"
      ],
      "metadata": {
        "id": "VQjmgrWyuzAr"
      },
      "execution_count": null,
      "outputs": []
    },
    {
      "cell_type": "markdown",
      "source": [
        "### Ejemplo 2.2: Operaciones de Conjuntos\n"
      ],
      "metadata": {
        "id": "8I9pqkBWu3qE"
      }
    },
    {
      "cell_type": "code",
      "source": [
        "# Crear otro set\n",
        "otro_set = {4, 5, 6, 7}"
      ],
      "metadata": {
        "id": "169QsOxuvAbe"
      },
      "execution_count": null,
      "outputs": []
    },
    {
      "cell_type": "code",
      "source": [
        "# Unión de sets (todos los elementos)\n",
        "union = numeros.union(otro_set)\n",
        "print(\"Unión:\", union)\n"
      ],
      "metadata": {
        "id": "1hvqQ2F_vBtY",
        "outputId": "dba666ea-0d94-4a0a-de00-1033234bc3dc",
        "colab": {
          "base_uri": "https://localhost:8080/"
        }
      },
      "execution_count": null,
      "outputs": [
        {
          "output_type": "stream",
          "name": "stdout",
          "text": [
            "Unión: {1, 2, 3, 4, 5, 6, 7}\n"
          ]
        }
      ]
    },
    {
      "cell_type": "code",
      "source": [
        "# Intersección de sets (elementos comunes)\n",
        "interseccion = numeros.intersection(otro_set)\n",
        "print(\"Intersección:\", interseccion)\n"
      ],
      "metadata": {
        "id": "0AU3PFc1vCh2",
        "outputId": "0cf3c915-96c0-44a6-9ee8-8e0d6cd5bcd7",
        "colab": {
          "base_uri": "https://localhost:8080/"
        }
      },
      "execution_count": null,
      "outputs": [
        {
          "output_type": "stream",
          "name": "stdout",
          "text": [
            "Intersección: {4, 5}\n"
          ]
        }
      ]
    },
    {
      "cell_type": "markdown",
      "source": [
        "### Ejercicio 2: Operaciones con Sets\n",
        "\n",
        "- Crea dos sets de números: uno con números del 1 al 10 y otro con números del 5 al 15.\n",
        "- Encuentra la intersección y unión de ambos sets.\n",
        "- Elimina un número del primer set.\n",
        "- Usa un set para almacenar los nombres de tus amigos. Asegúrate de que no haya duplicados. **texto en negrita**"
      ],
      "metadata": {
        "id": "y15kQNAQvFx_"
      }
    },
    {
      "cell_type": "code",
      "source": [],
      "metadata": {
        "id": "CqudC_sBvJEQ"
      },
      "execution_count": null,
      "outputs": []
    },
    {
      "cell_type": "markdown",
      "source": [
        "## 3. Matrices\n",
        "\n",
        "En Python, las matrices pueden representarse como listas de listas. Para manipular matrices más avanzadas y realizar cálculos eficientes, utilizamos la librería NumPy."
      ],
      "metadata": {
        "id": "Pg3-dd-KvK9D"
      }
    },
    {
      "cell_type": "markdown",
      "source": [
        "### Ejemplo 3.1: Matrices con Listas de Listas\n"
      ],
      "metadata": {
        "id": "X7qGslkLvNya"
      }
    },
    {
      "cell_type": "code",
      "source": [
        "# Crear una matriz 3x3 con listas anidadas\n",
        "matriz = [\n",
        "    [1, 2, 3],\n",
        "    [4, 5, 6],\n",
        "    [7, 8, 9]\n",
        "]\n",
        "print(matriz)\n"
      ],
      "metadata": {
        "id": "TK57Y4GUvQ3Z",
        "outputId": "483b9b84-6475-404c-8a11-1ae5da0ad05f",
        "colab": {
          "base_uri": "https://localhost:8080/"
        }
      },
      "execution_count": 1,
      "outputs": [
        {
          "output_type": "stream",
          "name": "stdout",
          "text": [
            "[[1, 2, 3], [4, 5, 6], [7, 8, 9]]\n"
          ]
        }
      ]
    },
    {
      "cell_type": "code",
      "source": [
        "matriz_one = [[1,2,3],\n",
        "              [4,5,6],\n",
        "              [7,8,9]]\n",
        "print(matriz_one)\n"
      ],
      "metadata": {
        "id": "J14O-KgwY9cB",
        "outputId": "beca7943-d702-455a-8a74-6abd40a4ac1c",
        "colab": {
          "base_uri": "https://localhost:8080/"
        }
      },
      "execution_count": null,
      "outputs": [
        {
          "output_type": "stream",
          "name": "stdout",
          "text": [
            "[[1, 2, 3], [4, 5, 6], [7, 8, 9]]\n"
          ]
        }
      ]
    },
    {
      "cell_type": "markdown",
      "source": [],
      "metadata": {
        "id": "T7DVRWnJZMve"
      }
    },
    {
      "cell_type": "code",
      "source": [
        "print(\"Elemento en [0][0]\", matriz[1][0])"
      ],
      "metadata": {
        "id": "EFkpf1avZMgO",
        "outputId": "80ef5c85-687b-4031-f888-254187097976",
        "colab": {
          "base_uri": "https://localhost:8080/"
        }
      },
      "execution_count": null,
      "outputs": [
        {
          "output_type": "stream",
          "name": "stdout",
          "text": [
            "Elemento en [0][0] 4\n"
          ]
        }
      ]
    },
    {
      "cell_type": "code",
      "source": [
        "# Acceder a elementos de la matriz\n",
        "print(\"Elemento en [1][1]:\", matriz[1][1])\n"
      ],
      "metadata": {
        "id": "D0MpaT6xvSH6"
      },
      "execution_count": null,
      "outputs": []
    },
    {
      "cell_type": "code",
      "source": [
        "# Modificar un elemento\n",
        "matriz[2][0] = 10\n",
        "print(matriz)"
      ],
      "metadata": {
        "id": "02wHfdwMvUB_",
        "outputId": "d1371e38-7647-4dad-8a46-d9f9a958fb54",
        "colab": {
          "base_uri": "https://localhost:8080/"
        }
      },
      "execution_count": null,
      "outputs": [
        {
          "output_type": "stream",
          "name": "stdout",
          "text": [
            "[[1, 2, 3], [4, 5, 6], [10, 8, 9]]\n"
          ]
        }
      ]
    },
    {
      "cell_type": "code",
      "source": [
        "import numpy as np\n",
        "my_array = np.array([[[1,2,3],\n",
        "                     [4,5,6],\n",
        "                     [8,9,10]],\n",
        "\n",
        "                    [[1,2,3],\n",
        "                     [4,5,6],\n",
        "                     [8,9,10]\n",
        "                    ]])\n",
        "\n",
        "my_new_array = np.array([[[1,2,3],\n",
        "                         [1,2,3],\n",
        "                         [1,2,3]],\n",
        "\n",
        "                         [[1,2,3],\n",
        "                         [1,2,3],\n",
        "                         [1,2,3],\n",
        "                        ]])\n",
        "\n",
        "print(my_new_array)\n",
        "print(my_array)\n",
        "\n",
        "my_array.shape # Forma de la matriz with numpy. Dimensiones (2,3,3) = 2 matrices de 3x3\n",
        "my_new_array.shape\n"
      ],
      "metadata": {
        "id": "vFhM6gKsjOo3",
        "outputId": "1a02991b-abbe-40f2-a78e-6989789498a7",
        "colab": {
          "base_uri": "https://localhost:8080/"
        }
      },
      "execution_count": 14,
      "outputs": [
        {
          "output_type": "stream",
          "name": "stdout",
          "text": [
            "[[[1 2 3]\n",
            "  [1 2 3]\n",
            "  [1 2 3]]\n",
            "\n",
            " [[1 2 3]\n",
            "  [1 2 3]\n",
            "  [1 2 3]]]\n",
            "[[[ 1  2  3]\n",
            "  [ 4  5  6]\n",
            "  [ 8  9 10]]\n",
            "\n",
            " [[ 1  2  3]\n",
            "  [ 4  5  6]\n",
            "  [ 8  9 10]]]\n"
          ]
        },
        {
          "output_type": "execute_result",
          "data": {
            "text/plain": [
              "(2, 3, 3)"
            ]
          },
          "metadata": {},
          "execution_count": 14
        }
      ]
    },
    {
      "cell_type": "code",
      "source": [
        "print(my_array+10)"
      ],
      "metadata": {
        "id": "Yt5BfbQblvFd",
        "outputId": "bd8287a5-ba1a-4499-bdcf-e2a016fb834b",
        "colab": {
          "base_uri": "https://localhost:8080/"
        }
      },
      "execution_count": null,
      "outputs": [
        {
          "output_type": "stream",
          "name": "stdout",
          "text": [
            "[[[11 12 13]\n",
            "  [14 15 16]\n",
            "  [18 19 20]]\n",
            "\n",
            " [[11 12 13]\n",
            "  [14 15 16]\n",
            "  [18 19 20]]]\n"
          ]
        }
      ]
    },
    {
      "cell_type": "code",
      "source": [
        "print(my_array*2)"
      ],
      "metadata": {
        "id": "L7hNGdNAl95-",
        "outputId": "b1522357-5cc1-4613-b5bc-73dce8b7bc23",
        "colab": {
          "base_uri": "https://localhost:8080/"
        }
      },
      "execution_count": null,
      "outputs": [
        {
          "output_type": "stream",
          "name": "stdout",
          "text": [
            "[[[ 2  4  6]\n",
            "  [ 8 10 12]\n",
            "  [16 18 20]]\n",
            "\n",
            " [[ 2  4  6]\n",
            "  [ 8 10 12]\n",
            "  [16 18 20]]]\n"
          ]
        }
      ]
    },
    {
      "cell_type": "code",
      "source": [
        "matrix_new = np.array([[1,2,2],\n",
        "                       [2,2,2],\n",
        "                       [3,3,3]])\n",
        "\n",
        "print(matrix_new)\n",
        "matrix_new.shape"
      ],
      "metadata": {
        "id": "5Dvi88OUmCdM",
        "outputId": "a31b0337-0582-4095-f711-1bd5b6b752ab",
        "colab": {
          "base_uri": "https://localhost:8080/"
        }
      },
      "execution_count": 17,
      "outputs": [
        {
          "output_type": "stream",
          "name": "stdout",
          "text": [
            "[[1 2 2]\n",
            " [2 2 2]\n",
            " [3 3 3]]\n"
          ]
        },
        {
          "output_type": "execute_result",
          "data": {
            "text/plain": [
              "(3, 3)"
            ]
          },
          "metadata": {},
          "execution_count": 17
        }
      ]
    },
    {
      "cell_type": "markdown",
      "source": [
        "### Ejemplo 3.2: Manipulación de Matrices con NumPy\n"
      ],
      "metadata": {
        "id": "3cCGTHmTvXXy"
      }
    },
    {
      "cell_type": "code",
      "source": [
        "import numpy as np\n",
        "\n",
        "# Crear una matriz 3x3 con NumPy\n",
        "matriz_np = np.array([\n",
        "    [1, 2, 3],\n",
        "    [4, 5, 6],\n",
        "    [7, 8, 9]\n",
        "])\n",
        "print(matriz_np)\n",
        "\n",
        "\n"
      ],
      "metadata": {
        "id": "FZytH_LBvZrP",
        "outputId": "e6f80d0a-b20b-4949-e7fd-68308a7875d0",
        "colab": {
          "base_uri": "https://localhost:8080/"
        }
      },
      "execution_count": null,
      "outputs": [
        {
          "output_type": "stream",
          "name": "stdout",
          "text": [
            "[[1 2 3]\n",
            " [4 5 6]\n",
            " [7 8 9]]\n"
          ]
        }
      ]
    },
    {
      "cell_type": "code",
      "source": [
        "# Sumar 10 a cada elemento\n",
        "print(matriz_np + 10)\n",
        "\n"
      ],
      "metadata": {
        "id": "n2yT2V3tvbEE"
      },
      "execution_count": null,
      "outputs": []
    },
    {
      "cell_type": "code",
      "source": [
        "# Multiplicar cada elemento por 2\n",
        "print(matriz_np * 2)"
      ],
      "metadata": {
        "id": "RS-Cqk3rvb7k"
      },
      "execution_count": null,
      "outputs": []
    },
    {
      "cell_type": "markdown",
      "source": [
        "### Ejercicio 3: Operaciones con Matrices\n",
        "\n",
        "- Crea una matriz 3x3 usando listas de listas.\n",
        "- Modifica un valor de la matriz y muestra la matriz actualizada.\n",
        "- Usa NumPy para crear una matriz 4x4 con números aleatorios enteros.\n",
        "- Realiza una operación de suma con la matriz (suma 5 a cada elemento).\n",
        "- Multiplica los elementos de la matriz por 2 usando NumPy."
      ],
      "metadata": {
        "id": "lR6HCR3DveEn"
      }
    },
    {
      "cell_type": "code",
      "source": [
        "import numpy as np\n",
        "import random\n",
        "\n",
        "matriz_four_dimension = np.array([[random.randint(1,100),random.randint(1,100),random.randint(1,100),random.randint(1,100)  ],\n",
        "                         [random.randint(1,100),random.randint(1,100),random.randint(1,100), random.randint(1,100) ],\n",
        "                         [random.randint(1,100),random.randint(1,100),random.randint(1,100), random.randint(1,100) ],\n",
        "                         [random.randint(1,100),random.randint(1,100),random.randint(1,100), random.randint(1,100) ]\n",
        "                         ])\n",
        "\n",
        "print(matriz_four_dimension)\n",
        "\n"
      ],
      "metadata": {
        "id": "7RMRCaRPvh1s",
        "outputId": "697526e0-5d47-4af9-cb08-356fb1a1b0a1",
        "colab": {
          "base_uri": "https://localhost:8080/"
        }
      },
      "execution_count": 18,
      "outputs": [
        {
          "output_type": "stream",
          "name": "stdout",
          "text": [
            "[[17 38 88 85]\n",
            " [54 42 14 98]\n",
            " [57  9 86  3]\n",
            " [97 92 52 59]]\n"
          ]
        }
      ]
    },
    {
      "cell_type": "code",
      "source": [
        "import numpy as np\n",
        "import random\n",
        "lista = [random.randint(1,100) for x in range(0,4)]\n",
        "lista_one = [random.randint(1,100) for x in range(0,4)]\n",
        "lista_two = [random.randint(1,100) for x in range(0,4)]\n",
        "lista_three = [random.randint(1,100) for x in range(0,4)]\n",
        "\n",
        "matriz_four_dimension = np.array([lista,\n",
        "                         lista_one,\n",
        "                         lista_two,\n",
        "                         lista_three\n",
        "                         ])\n",
        "\n",
        "print(matriz_four_dimension)"
      ],
      "metadata": {
        "id": "cDAATpm-nSVL",
        "outputId": "9d879d67-29dc-4398-9490-d0731f93e76b",
        "colab": {
          "base_uri": "https://localhost:8080/"
        }
      },
      "execution_count": 19,
      "outputs": [
        {
          "output_type": "stream",
          "name": "stdout",
          "text": [
            "[[48 27 95 56]\n",
            " [66  5 29 49]\n",
            " [29 65 91  7]\n",
            " [46  5 89 14]]\n"
          ]
        }
      ]
    },
    {
      "cell_type": "code",
      "source": [
        "np.random.rand(4,4)"
      ],
      "metadata": {
        "id": "jx4VRkngpg3U",
        "outputId": "912cee7c-9e60-43ce-f341-56d18173d4a6",
        "colab": {
          "base_uri": "https://localhost:8080/"
        }
      },
      "execution_count": 20,
      "outputs": [
        {
          "output_type": "execute_result",
          "data": {
            "text/plain": [
              "array([[0.35844143, 0.92603542, 0.38454548, 0.55964874],\n",
              "       [0.77526073, 0.1291875 , 0.34651964, 0.42336006],\n",
              "       [0.93202408, 0.3961465 , 0.23210089, 0.31867666],\n",
              "       [0.61198023, 0.58559371, 0.82349806, 0.04880886]])"
            ]
          },
          "metadata": {},
          "execution_count": 20
        }
      ]
    },
    {
      "cell_type": "code",
      "source": [
        "np.random.rand(5,5)"
      ],
      "metadata": {
        "id": "RSWlhI4_p6Zu",
        "outputId": "8682591e-5322-41b9-be3c-b26bea8a23fd",
        "colab": {
          "base_uri": "https://localhost:8080/"
        }
      },
      "execution_count": 21,
      "outputs": [
        {
          "output_type": "execute_result",
          "data": {
            "text/plain": [
              "array([[0.57350679, 0.71375196, 0.64555785, 0.15826364, 0.43785912],\n",
              "       [0.5018584 , 0.00935681, 0.3436904 , 0.47186165, 0.8370495 ],\n",
              "       [0.13488975, 0.9993017 , 0.05211603, 0.06930706, 0.51529576],\n",
              "       [0.53101566, 0.43907921, 0.41228194, 0.4828039 , 0.59067944],\n",
              "       [0.61922893, 0.96403989, 0.77366459, 0.04246783, 0.23644012]])"
            ]
          },
          "metadata": {},
          "execution_count": 21
        }
      ]
    },
    {
      "cell_type": "markdown",
      "source": [
        "## 4. Desafío\n",
        "\n",
        "\n",
        "Eres el encargado de un almacén de productos electrónicos. Tienes un registro de ventas semanales para teléfonos, laptops y tabletas. Necesitas analizar las ventas para mejorar la gestión.\n",
        "\n",
        "- Crea tres listas: una para teléfonos, otra para laptops y otra para tabletas con las ventas de cada día durante una semana.\n",
        "- Usa slicing para obtener las ventas de los últimos 3 días de cada producto.\n",
        "- Usa listas por comprensión para calcular el total de ventas de cada producto y el promedio de ventas diarias.\n",
        "- Clasifica los productos en \"ventas altas\" o \"ventas bajas\" según si el promedio de ventas es mayor o menor a 5.\n",
        "\n",
        "Instrucciones:\n",
        "Usa sum() y len() para calcular el total de ventas y el promedio.\n",
        "Clasifica las ventas usando listas por comprensión."
      ],
      "metadata": {
        "id": "ROqSXb4Avk_T"
      }
    },
    {
      "cell_type": "code",
      "source": [
        "sold_phones = [100, 200, 145,200,450, 100,100]\n",
        "sold_laptops = [100, 200, 145,200,4550, 110,150]\n",
        "sold_tables = [100, 200, 145,200,4500, 1200,160]\n",
        "\n",
        "print(sold_phones[-3:])\n",
        "print(sold_laptops[-3:])\n",
        "print(sold_tables[-3:])\n",
        "\n",
        "total_phone = sum(sold_phones)/len(sold_phones)\n",
        "total_laptops = sum(sold_laptops)/len(sold_laptops)\n",
        "total_tables = sum(sold_tables)/len(sold_tables)\n",
        "\n",
        "print(total_phone,total_laptops,total_tables)\n",
        "total_sold = [total_phone, total_laptops,total_tables]\n",
        "\n",
        "for x in total_sold:\n",
        "    if x > 5 :\n",
        "      print(\"venta alta\")\n",
        "    else:\n",
        "      print(\"venta baja\")\n",
        "\n",
        "\n",
        "\n"
      ],
      "metadata": {
        "id": "93wXCVCZv4TT",
        "outputId": "a8ed830a-419d-400f-f551-2e494d3bc803",
        "colab": {
          "base_uri": "https://localhost:8080/"
        }
      },
      "execution_count": 33,
      "outputs": [
        {
          "output_type": "stream",
          "name": "stdout",
          "text": [
            "[450, 100, 100]\n",
            "[4550, 110, 150]\n",
            "[4500, 1200, 160]\n",
            "185.0 779.2857142857143 929.2857142857143\n",
            "venta alta\n",
            "venta alta\n",
            "venta alta\n"
          ]
        }
      ]
    },
    {
      "cell_type": "markdown",
      "source": [
        "---\n",
        "\n",
        "# Gracias por completar este laboratorio!\n",
        "\n",
        "---"
      ],
      "metadata": {
        "id": "qUpDNm7iv-Vh"
      }
    }
  ]
}